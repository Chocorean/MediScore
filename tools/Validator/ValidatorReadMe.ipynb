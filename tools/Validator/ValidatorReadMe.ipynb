{
 "cells": [
  {
   "cell_type": "markdown",
   "metadata": {},
   "source": [
    "# Validator"
   ]
  },
  {
   "cell_type": "markdown",
   "metadata": {},
   "source": [
    "## Description"
   ]
  },
  {
   "cell_type": "markdown",
   "metadata": {},
   "source": [
    "This script validates the content of the system output files for the manipulation and splice detection and localization tasks, relative to the index file as specified in the NC2017 Evaluation Plan, as well as the basic format and features of the mask files (i.e. same dimensions as the original image as described in the index file and single-channel grayscale).\n",
    "\n",
    "The name of the system output should match the name of the directory it is in (with '.csv' appended to it). In this directory should also be a <b>mask</b> directory containing the system output masks.\n",
    "\n",
    "All csv files passed to the Validator must contain headers and must have their rows separated by pipe characters ('|'). Fields and values in the csv should <i>not</i> be enclosed in quotes ( ' or \" ) if possible (e.g. entries 'foo', an empty field, and 'bar', in that order, should look like this on the csv: foo||bar, although this won't be checked).\n",
    "\n",
    "Both the index and system output files must have their columns in the specified order described under Input Options and no other column. The index and system output files must have the same number of rows; further, the system output must not have duplicate rows.\n",
    "\n",
    "All masks for the validator will be checked for conformity to the dimensions specified in the index file and for being png's. However, mask fields with blank entries can be skipped over without the validator throwing an error (for the DSD validator, either Probe or Donor mask file name being blank will cause that row to be skipped)."
   ]
  },
  {
   "cell_type": "markdown",
   "metadata": {},
   "source": [
    "## Command-line Options"
   ]
  },
  {
   "cell_type": "markdown",
   "metadata": {},
   "source": [
    "Example:"
   ]
  },
  {
   "cell_type": "code",
   "execution_count": null,
   "metadata": {
    "collapsed": false
   },
   "outputs": [],
   "source": [
    "%%bash\n",
    "python2 validator.py -x ../../data/test_suite/maskScorerTests/indexes/MFC18-manipulation-image-index.csv\\\n",
    " -s ../../data/test_suite/maskScorerTests/B_MFC18_Unittest_Manipulation_ImgOnly_p-me_1/B_MFC18_Unittest_Manipulation_ImgOnly_p-me_1.csv\\\n",
    " -nc --ncid MFC18 -vt SSD"
   ]
  },
  {
   "cell_type": "markdown",
   "metadata": {},
   "source": [
    "Running this code would validate the B_NC2016_Removal_ImgOnly_c-me2_2.csv with additional information provided by the NC2016-removal-index.csv, each under its appropriate directory, through the Single-Source Detection (SSD) validator. The sample inputs shown here should pass the validation."
   ]
  },
  {
   "cell_type": "markdown",
   "metadata": {},
   "source": [
    "The command-line options for the mask scorer can be categorized as follows:"
   ]
  },
  {
   "cell_type": "markdown",
   "metadata": {},
   "source": [
    "### Validation Modes"
   ]
  },
  {
   "cell_type": "markdown",
   "metadata": {},
   "source": [
    "-vt --valtype\n",
    "\n",
    "  * Specify the validation type for the relevant task: Single-Source Detection (i.e. 'SSD') or Double-Source Detection (i.e. 'DSD'). Validation for video is specified by 'SSD-video'."
   ]
  },
  {
   "cell_type": "markdown",
   "metadata": {},
   "source": [
    "--output_revised_system\n",
    "\n",
    " * Set probe status for images that fail dimensionality validation to 'FailedValidation' and output the new CSV to a specified file [e.g. 'my_revised_system.csv']. Submissions that only have 'FailedValidation' will be skipped in image localization scoring. [default=None]"
   ]
  },
  {
   "cell_type": "markdown",
   "metadata": {},
   "source": [
    "-nc --nameCheck\n",
    "\n",
    "  * Whether or not to check the naming format of the file according to the ENBF (Extended Backus-Naur Form) <TEAM>_NC17_<DATA>_<TASK>_<CONDITION>_<SYS>_<VERSION>. Selecting the option will run the name checker. Further information on the meaning of the ENBF is available in the evaluation plan."
   ]
  },
  {
   "cell_type": "markdown",
   "metadata": {},
   "source": [
    "-nm --neglectMask\n",
    "\n",
    " * Whether or not to neglect the mask dimension validation."
   ]
  },
  {
   "cell_type": "markdown",
   "metadata": {},
   "source": [
    "### Input Options"
   ]
  },
  {
   "cell_type": "markdown",
   "metadata": {},
   "source": [
    "-x --inIndex\n",
    "\n",
    "  * Define the index csv file. The index file contains the TaskID, ProbeFileID, ProbeFileName, ProbeWidth, and ProbeHeight fields, and if scoring on the splice task, the DonorFileID, DonorFileName, DonorWidth, and DonorHeight fields as well. No additional fields are permitted for the index file."
   ]
  },
  {
   "cell_type": "markdown",
   "metadata": {},
   "source": [
    "-s --inSys\n",
    "\n",
    "  * Specify the CSV file of the system performance results formatted according to NC2016 specification. The file must contain the ProbeFileID, ConfidenceScore, and IsOptOut fields, in that order. If scoring on ImgOnly and ImgMeta tasks, the OutputProbeMaskFileName field is also required. If scoring on the splice task, the ProbeFileID, DonorFileID, ConfidenceScore, OutputProbeMaskFileName, OutputDonorMaskFileName, and IsOptOut fields are required, in that order. The OutputProbeMaskFileNames and OutputDonorMaskFileNames (where relevant) should be directory strings relative to the location of the system performance CSV."
   ]
  },
  {
   "cell_type": "markdown",
   "metadata": {},
   "source": [
    "-r --inRef\n",
    "\n",
    " * Define the reference csv file to filter mask dimensionality validation to only the target masks (i.e. IsTarget == 'Y'). This is especially useful when trying to validate the splice output."
   ]
  },
  {
   "cell_type": "markdown",
   "metadata": {},
   "source": [
    "--ncid\n",
    "\n",
    " * Specify the NCID for the evaluation. This should be the NCID specified in the evaluation plan. Default: 'NC17'"
   ]
  },
  {
   "cell_type": "markdown",
   "metadata": {},
   "source": [
    "--optOut\n",
    "\n",
    " * Deprecated as of 4/19/2018. Presently will attempt to validate rows regardless of whether the option is set."
   ]
  },
  {
   "cell_type": "markdown",
   "metadata": {},
   "source": [
    "### Processing Options"
   ]
  },
  {
   "cell_type": "markdown",
   "metadata": {},
   "source": [
    "-id --identify\n",
    " * Use ImageMagick's `identify` command to get dimensions of the masks for accelerated image processing. OpenCV reading is used by default.\n",
    "\n",
    "-p --processors\n",
    " * The number of processors to use for validation. Choosing too many processors will force the program to default to the number of rows. This option will take effect for SSD or SSD-video validation only (i.e. selecting this for DSD will have no effect). (default = 1)"
   ]
  },
  {
   "cell_type": "markdown",
   "metadata": {},
   "source": [
    "### Print Options"
   ]
  },
  {
   "cell_type": "markdown",
   "metadata": {},
   "source": [
    "-v verbose\n",
    "\n",
    "  * Control print output. Select 1 to print all non-error related output and 0 to suppress all print output (bar argument-parsing errors)."
   ]
  },
  {
   "cell_type": "markdown",
   "metadata": {
    "collapsed": true
   },
   "source": [
    "## Disclaimer\n",
    "\n",
    "This software was developed at the National Institute of Standards\n",
    "and Technology (NIST) by employees of the Federal Government in the\n",
    "course of their official duties. Pursuant to Title 17 Section 105\n",
    "of the United States Code, this software is not subject to copyright\n",
    "protection and is in the public domain. NIST assumes no responsibility\n",
    "whatsoever for use by other parties of its source code or open source\n",
    "server, and makes no guarantees, expressed or implied, about its quality,\n",
    "reliability, or any other characteristic."
   ]
  }
 ],
 "metadata": {
  "anaconda-cloud": {},
  "kernelspec": {
   "display_name": "Python [default]",
   "language": "python",
   "name": "python2"
  },
  "language_info": {
   "codemirror_mode": {
    "name": "ipython",
    "version": 2
   },
   "file_extension": ".py",
   "mimetype": "text/x-python",
   "name": "python",
   "nbconvert_exporter": "python",
   "pygments_lexer": "ipython2",
   "version": "2.7.11"
  }
 },
 "nbformat": 4,
 "nbformat_minor": 0
}
