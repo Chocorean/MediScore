{
 "cells": [
  {
   "cell_type": "markdown",
   "metadata": {},
   "source": [
    "# Video Temporal Localisation Scorer\n",
    "\n",
    "VideoTemporalLocalisationScoring.py\n",
    "\n",
    "## Description\n",
    "\n",
    "This script performs scoring for the Video Temporal Localisation task. The script produces three output files, 'scores_probes.csv', which reports scores at the trial (probe) level, 'scores.csv', which aggregates the average metric over subset of trial selection and \"query_table_join.csv\", which give the mapping between a subset id and its description (query).\n",
    "\n",
    "The script reports the Matthews correlation coefficient:\n",
    "\n",
    "\\begin{equation*}\n",
    "MCC = \\frac{TP \\times TN - FP \\times FN}{\\sqrt{ \\left( TP + FP \\right)\\left( TP + FN \\right)\\left( TN + FP \\right)\\left( TN + FN \\right)}}\n",
    "\\end{equation*}\n",
    "\n",
    "## Setup\n",
    "\n",
    "### Python environnement\n",
    "\n",
    "The scoring script has been developed and tested in Python 2.7 and Python 3 (version 3.3+). Here, we provide an example of a requirements file for conda (https://conda.io/miniconda.html)\n",
    "\n",
    "*requirements.txt*"
   ]
  },
  {
   "cell_type": "code",
   "execution_count": 1,
   "metadata": {},
   "outputs": [
    {
     "data": {
      "text/plain": [
       "'\\nname: myenv\\ndependencies:\\n  - python=3.6\\n  - numpy\\n  - pandas\\n  - matplotlib\\n'"
      ]
     },
     "execution_count": 1,
     "metadata": {},
     "output_type": "execute_result"
    }
   ],
   "source": [
    "\"\"\"\n",
    "name: myenv\n",
    "dependencies:\n",
    "  - python=3.6\n",
    "  - numpy\n",
    "  - pandas\n",
    "  - matplotlib\n",
    "\"\"\""
   ]
  },
  {
   "cell_type": "markdown",
   "metadata": {},
   "source": [
    "Run the following commands (based on the previous requirements file example)"
   ]
  },
  {
   "cell_type": "markdown",
   "metadata": {},
   "source": [
    "> conda env create -f requirements.txt\n",
    "> source activate myenv"
   ]
  },
  {
   "cell_type": "markdown",
   "metadata": {},
   "source": [
    "## Command-line interface\n",
    "\n",
    "### Required arguments\n",
    "\n",
    "-r, --path_ref PATH_REF\n",
    "- path to the manipulation video reference csv file\n",
    "\n",
    "-i, --path_index PATH_INDEX\n",
    "- path to the manipulation video index csv file\n",
    "\n",
    "-j, --path_journalmask PATH_JOURNALMASK\n",
    "- path to the manipulation video ref journal mask csv file\n",
    "\n",
    "-p, --path_probejournaljoin PATH_PROBEJOURNALJOIN\n",
    "- path to the manipulation video ref probe journal join csv file\n",
    "\n",
    "-s, --path_sysout PATH_SYSOUT\n",
    "- path to the system output file\n",
    "\n",
    "\n",
    "### Optional arguments\n",
    "\n",
    "-c, --collars COLLARS\n",
    "- collar value (int) to add to each side of the reference intervals\n",
    "\n",
    "-q, --query QUERY [QUERY ...]\n",
    "- give a sequence of criteria over the probe selection. Each query should be between double quotes. \"*\" select all of them\n",
    "\n",
    "-o, --output_path OUTPUT\n",
    "- path to the folder where the scores will be dumped. By default, it create a 'score_output' folder in the current directory\n",
    "\n",
    "-d, --dump_dataframe DUMP_DATAFRAME\n",
    "- dump the scores_probes dataframe as a pickle object in the output_path folder\n",
    "\n",
    "-l, --log\n",
    "- Generate a log file in the current directory describing the scoring process"
   ]
  },
  {
   "cell_type": "markdown",
   "metadata": {},
   "source": [
    "### Example Usage"
   ]
  },
  {
   "cell_type": "code",
   "execution_count": 2,
   "metadata": {},
   "outputs": [
    {
     "name": "stdout",
     "output_type": "stream",
     "text": [
      "Done.\n"
     ]
    }
   ],
   "source": [
    "%%bash\n",
    "python VideoTemporalLocalizationScoring.py \\\n",
    "-o \"./scores_output_folder\" \\\n",
    "-r \"../../data/test_suite/videoTemporalLocalizationScorerTests/test_case_1_videotemploc-ref.csv\" \\\n",
    "-i \"../../data/test_suite/videoTemporalLocalizationScorerTests/test_case_1_videotemploc-index.csv\" \\\n",
    "-j \"../../data/test_suite/videoTemporalLocalizationScorerTests/test_case_1_videotemploc-ref-journalmask.csv\" \\\n",
    "-p \"../../data/test_suite/videoTemporalLocalizationScorerTests/test_case_1_videotemploc-ref-probejournaljoin.csv\" \\\n",
    "-s \"../../data/test_suite/videoTemporalLocalizationScorerTests/test_case_1_system_output.csv\" \\\n",
    "-c 5 \\\n",
    "--query \"*\" \"Operation == 'PasteFrames'\" \\\n",
    "-d \\\n",
    "-l"
   ]
  },
  {
   "cell_type": "code",
   "execution_count": 3,
   "metadata": {},
   "outputs": [
    {
     "name": "stdout",
     "output_type": "stream",
     "text": [
      "==> ./scores_output_folder/scores_probes.csv <==\n",
      "query|ProbeFileID|MCC\n",
      "0|242abec7860e7398972896ab2870d92a|0.0\n",
      "0|2582c55863a6fccff1f2c1d18be3ece0|0.547007017098\n",
      "0|51c5b227194cde6af514c49f0fd1b823|0.689585635082\n",
      "0|7c29d2c8f4ff99dc12f1d38a62f82e8b|0.0\n",
      "0|80fe38b1d96e7cdce250206f779c3c85|0.172041301808\n",
      "0|a6dbfc1791ff289f171fcd18eef6a1a4|1.0\n",
      "0|c1359ef687670baa5de7f4aea7baa479|1.0\n",
      "0|c428154bfb6c8fb830ce8fd8dc66fbc4|-0.125234045924\n",
      "0|dabab325af0298021cfdb8168b1455ff|0.178655002755\n",
      "\n",
      "==> ./scores_output_folder/scores.csv <==\n",
      "query|MCC\n",
      "0|0.384672767869\n",
      "1|0.603811913734\n",
      "\n",
      "==> ./scores_output_folder/query_table_join.csv <==\n",
      "id|query\n",
      "0|*\n",
      "1|Operation == 'PasteFrames'\n"
     ]
    }
   ],
   "source": [
    "%%bash\n",
    "head ./scores_output_folder/scores_probes.csv \\\n",
    "     ./scores_output_folder/scores.csv \\\n",
    "     ./scores_output_folder/query_table_join.csv"
   ]
  },
  {
   "cell_type": "code",
   "execution_count": 4,
   "metadata": {},
   "outputs": [
    {
     "data": {
      "text/html": [
       "<div>\n",
       "<style scoped>\n",
       "    .dataframe tbody tr th:only-of-type {\n",
       "        vertical-align: middle;\n",
       "    }\n",
       "\n",
       "    .dataframe tbody tr th {\n",
       "        vertical-align: top;\n",
       "    }\n",
       "\n",
       "    .dataframe thead th {\n",
       "        text-align: right;\n",
       "    }\n",
       "</style>\n",
       "<table border=\"1\" class=\"dataframe\">\n",
       "  <thead>\n",
       "    <tr style=\"text-align: right;\">\n",
       "      <th></th>\n",
       "      <th></th>\n",
       "      <th>MCC</th>\n",
       "    </tr>\n",
       "    <tr>\n",
       "      <th>query</th>\n",
       "      <th>ProbeFileID</th>\n",
       "      <th></th>\n",
       "    </tr>\n",
       "  </thead>\n",
       "  <tbody>\n",
       "    <tr>\n",
       "      <th rowspan=\"9\" valign=\"top\">0</th>\n",
       "      <th>242abec7860e7398972896ab2870d92a</th>\n",
       "      <td>0.000000</td>\n",
       "    </tr>\n",
       "    <tr>\n",
       "      <th>2582c55863a6fccff1f2c1d18be3ece0</th>\n",
       "      <td>0.547007</td>\n",
       "    </tr>\n",
       "    <tr>\n",
       "      <th>51c5b227194cde6af514c49f0fd1b823</th>\n",
       "      <td>0.689586</td>\n",
       "    </tr>\n",
       "    <tr>\n",
       "      <th>7c29d2c8f4ff99dc12f1d38a62f82e8b</th>\n",
       "      <td>0.000000</td>\n",
       "    </tr>\n",
       "    <tr>\n",
       "      <th>80fe38b1d96e7cdce250206f779c3c85</th>\n",
       "      <td>0.172041</td>\n",
       "    </tr>\n",
       "    <tr>\n",
       "      <th>a6dbfc1791ff289f171fcd18eef6a1a4</th>\n",
       "      <td>1.000000</td>\n",
       "    </tr>\n",
       "    <tr>\n",
       "      <th>c1359ef687670baa5de7f4aea7baa479</th>\n",
       "      <td>1.000000</td>\n",
       "    </tr>\n",
       "    <tr>\n",
       "      <th>c428154bfb6c8fb830ce8fd8dc66fbc4</th>\n",
       "      <td>-0.125234</td>\n",
       "    </tr>\n",
       "    <tr>\n",
       "      <th>dabab325af0298021cfdb8168b1455ff</th>\n",
       "      <td>0.178655</td>\n",
       "    </tr>\n",
       "    <tr>\n",
       "      <th rowspan=\"4\" valign=\"top\">1</th>\n",
       "      <th>2582c55863a6fccff1f2c1d18be3ece0</th>\n",
       "      <td>0.547007</td>\n",
       "    </tr>\n",
       "    <tr>\n",
       "      <th>51c5b227194cde6af514c49f0fd1b823</th>\n",
       "      <td>0.689586</td>\n",
       "    </tr>\n",
       "    <tr>\n",
       "      <th>a6dbfc1791ff289f171fcd18eef6a1a4</th>\n",
       "      <td>1.000000</td>\n",
       "    </tr>\n",
       "    <tr>\n",
       "      <th>dabab325af0298021cfdb8168b1455ff</th>\n",
       "      <td>0.178655</td>\n",
       "    </tr>\n",
       "  </tbody>\n",
       "</table>\n",
       "</div>"
      ],
      "text/plain": [
       "                                             MCC\n",
       "query ProbeFileID                               \n",
       "0     242abec7860e7398972896ab2870d92a  0.000000\n",
       "      2582c55863a6fccff1f2c1d18be3ece0  0.547007\n",
       "      51c5b227194cde6af514c49f0fd1b823  0.689586\n",
       "      7c29d2c8f4ff99dc12f1d38a62f82e8b  0.000000\n",
       "      80fe38b1d96e7cdce250206f779c3c85  0.172041\n",
       "      a6dbfc1791ff289f171fcd18eef6a1a4  1.000000\n",
       "      c1359ef687670baa5de7f4aea7baa479  1.000000\n",
       "      c428154bfb6c8fb830ce8fd8dc66fbc4 -0.125234\n",
       "      dabab325af0298021cfdb8168b1455ff  0.178655\n",
       "1     2582c55863a6fccff1f2c1d18be3ece0  0.547007\n",
       "      51c5b227194cde6af514c49f0fd1b823  0.689586\n",
       "      a6dbfc1791ff289f171fcd18eef6a1a4  1.000000\n",
       "      dabab325af0298021cfdb8168b1455ff  0.178655"
      ]
     },
     "execution_count": 4,
     "metadata": {},
     "output_type": "execute_result"
    }
   ],
   "source": [
    "import pandas as pd\n",
    "pd.read_pickle(\"./scores_output_folder/df_scores_probes.pkl\")"
   ]
  },
  {
   "cell_type": "markdown",
   "metadata": {},
   "source": [
    "## Computation illustration"
   ]
  },
  {
   "cell_type": "markdown",
   "metadata": {},
   "source": [
    "### Imports"
   ]
  },
  {
   "cell_type": "code",
   "execution_count": 5,
   "metadata": {},
   "outputs": [],
   "source": [
    "import numpy as np\n",
    "from intervalcompute import IntervalCompute as IC\n",
    "from TemporalVideoScoring import VideoScoring"
   ]
  },
  {
   "cell_type": "markdown",
   "metadata": {},
   "source": [
    "### Inputs"
   ]
  },
  {
   "cell_type": "code",
   "execution_count": 6,
   "metadata": {},
   "outputs": [
    {
     "name": "stdout",
     "output_type": "stream",
     "text": [
      "Ref : [[10, 18]]\n",
      "Sys : [[5, 12], [17, 20]]\n",
      "Collars : [[9, 11], [17, 19]]\n",
      "SNS : [[4, 7], [13, 15]]\n"
     ]
    }
   ],
   "source": [
    "collar = 1\n",
    "global_interval = [0,25]\n",
    "ref_intervals = IC.compute_intervals_union([np.array([[10,18]])])\n",
    "sys_intervals = IC.compute_intervals_union([np.array([[5,12], [17, 20]])])\n",
    "collars_intervals = IC.compute_collars(ref_intervals, collar, crop_to_range = global_interval)\n",
    "SNS = np.array([[4,7], [13,15]])\n",
    "print(\"Ref : {}\".format(ref_intervals.tolist()))\n",
    "print(\"Sys : {}\".format(sys_intervals.tolist()))\n",
    "print(\"Collars : {}\".format(collars_intervals.tolist()))\n",
    "print(\"SNS : {}\".format(SNS.tolist()))"
   ]
  },
  {
   "cell_type": "markdown",
   "metadata": {},
   "source": [
    "### Computation"
   ]
  },
  {
   "cell_type": "code",
   "execution_count": 7,
   "metadata": {},
   "outputs": [],
   "source": [
    "Scorer = VideoScoring()\n",
    "confusion_vector, all_intervals, all_interval_in_seq_array = Scorer.compute_confusion_map(ref_intervals, \n",
    "                                                                                   sys_intervals, \n",
    "                                                                                   global_interval, \n",
    "                                                                                   collars=collars_intervals,\n",
    "                                                                                   SNS=SNS)"
   ]
  },
  {
   "cell_type": "code",
   "execution_count": 8,
   "metadata": {},
   "outputs": [
    {
     "data": {
      "text/plain": [
       "array([ 0, -2,  2, -1,  3,  1, -2,  1, -1,  2,  0])"
      ]
     },
     "execution_count": 8,
     "metadata": {},
     "output_type": "execute_result"
    }
   ],
   "source": [
    "confusion_vector"
   ]
  },
  {
   "cell_type": "markdown",
   "metadata": {},
   "source": [
    "### Display"
   ]
  },
  {
   "cell_type": "code",
   "execution_count": 9,
   "metadata": {},
   "outputs": [
    {
     "data": {
      "image/png": "[encoded data removed]",
      "text/plain": [
       "<matplotlib.figure.Figure at 0x106e28c10>"
      ]
     },
     "metadata": {},
     "output_type": "display_data"
    }
   ],
   "source": [
    "figure_width = 15\n",
    "IC.display_confusion_scoring(IC.compute_intervals_union([ref_intervals]),\n",
    "                              IC.compute_intervals_union([sys_intervals]), \n",
    "                              global_interval, \n",
    "                              confusion_results = [confusion_vector, all_intervals, Scorer.confusion_mapping], \n",
    "                              figsize=(figure_width,int(figure_width/4)),\n",
    "                              colors_def = [\"#9933FF\",\"#FF00FF\"])"
   ]
  },
  {
   "cell_type": "code",
   "execution_count": 10,
   "metadata": {},
   "outputs": [],
   "source": [
    "red = \"#FF0000\"\n",
    "green = \"#80FF00\"\n",
    "blue = \"#0000FF\"\n",
    "yellow = \"#FFFF00\"\n",
    "white = \"#FFFFFF\"\n",
    "black = \"#000000\"\n",
    "bokeh_confusion_mapping = {0 : [\"TN\", white], \n",
    "                          1 : [\"FN\", blue], \n",
    "                          2 : [\"FP\", red], \n",
    "                          3 : [\"TP\", green], \n",
    "                         -1 : [\"X\", yellow],\n",
    "                         -2 : [\"Y\", black]}"
   ]
  },
  {
   "cell_type": "code",
   "execution_count": 11,
   "metadata": {},
   "outputs": [
    {
     "data": {
      "text/html": [
       "\n",
       "    <div class=\"bk-root\">\n",
       "        <a href=\"https://bokeh.pydata.org\" target=\"_blank\" class=\"bk-logo bk-logo-small bk-logo-notebook\"></a>\n",
       "        <span id=\"b01d8b99-0a9f-484f-904b-d032e19e0b7c\">Loading BokehJS ...</span>\n",
       "    </div>"
      ]
     },
     "metadata": {},
     "output_type": "display_data"
    },
    {
     "data": {
      "application/javascript": [
       "\n",
       "(function(root) {\n",
       "  function now() {\n",
       "    return new Date();\n",
       "  }\n",
       "\n",
       "  var force = true;\n",
       "\n",
       "  if (typeof (root._bokeh_onload_callbacks) === \"undefined\" || force === true) {\n",
       "    root._bokeh_onload_callbacks = [];\n",
       "    root._bokeh_is_loading = undefined;\n",
       "  }\n",
       "\n",
       "  var JS_MIME_TYPE = 'application/javascript';\n",
       "  var HTML_MIME_TYPE = 'text/html';\n",
       "  var EXEC_MIME_TYPE = 'application/vnd.bokehjs_exec.v0+json';\n",
       "  var CLASS_NAME = 'output_bokeh rendered_html';\n",
       "\n",
       "  /**\n",
       "   * Render data to the DOM node\n",
       "   */\n",
       "  function render(props, node) {\n",
       "    var script = document.createElement(\"script\");\n",
       "    node.appendChild(script);\n",
       "  }\n",
       "\n",
       "  /**\n",
       "   * Handle when an output is cleared or removed\n",
       "   */\n",
       "  function handleClearOutput(event, handle) {\n",
       "    var cell = handle.cell;\n",
       "\n",
       "    var id = cell.output_area._bokeh_element_id;\n",
       "    var server_id = cell.output_area._bokeh_server_id;\n",
       "    // Clean up Bokeh references\n",
       "    if (id !== undefined) {\n",
       "      Bokeh.index[id].model.document.clear();\n",
       "      delete Bokeh.index[id];\n",
       "    }\n",
       "\n",
       "    if (server_id !== undefined) {\n",
       "      // Clean up Bokeh references\n",
       "      var cmd = \"from bokeh.io.state import curstate; print(curstate().uuid_to_server['\" + server_id + \"'].get_sessions()[0].document.roots[0]._id)\";\n",
       "      cell.notebook.kernel.execute(cmd, {\n",
       "        iopub: {\n",
       "          output: function(msg) {\n",
       "            var element_id = msg.content.text.trim();\n",
       "            Bokeh.index[element_id].model.document.clear();\n",
       "            delete Bokeh.index[element_id];\n",
       "          }\n",
       "        }\n",
       "      });\n",
       "      // Destroy server and session\n",
       "      var cmd = \"import bokeh.io.notebook as ion; ion.destroy_server('\" + server_id + \"')\";\n",
       "      cell.notebook.kernel.execute(cmd);\n",
       "    }\n",
       "  }\n",
       "\n",
       "  /**\n",
       "   * Handle when a new output is added\n",
       "   */\n",
       "  function handleAddOutput(event, handle) {\n",
       "    var output_area = handle.output_area;\n",
       "    var output = handle.output;\n",
       "\n",
       "    // limit handleAddOutput to display_data with EXEC_MIME_TYPE content only\n",
       "    if ((output.output_type != \"display_data\") || (!output.data.hasOwnProperty(EXEC_MIME_TYPE))) {\n",
       "      return\n",
       "    }\n",
       "\n",
       "    var toinsert = output_area.element.find(\".\" + CLASS_NAME.split(' ')[0]);\n",
       "\n",
       "    if (output.metadata[EXEC_MIME_TYPE][\"id\"] !== undefined) {\n",
       "      toinsert[0].firstChild.textContent = output.data[JS_MIME_TYPE];\n",
       "      // store reference to embed id on output_area\n",
       "      output_area._bokeh_element_id = output.metadata[EXEC_MIME_TYPE][\"id\"];\n",
       "    }\n",
       "    if (output.metadata[EXEC_MIME_TYPE][\"server_id\"] !== undefined) {\n",
       "      var bk_div = document.createElement(\"div\");\n",
       "      bk_div.innerHTML = output.data[HTML_MIME_TYPE];\n",
       "      var script_attrs = bk_div.children[0].attributes;\n",
       "      for (var i = 0; i < script_attrs.length; i++) {\n",
       "        toinsert[0].firstChild.setAttribute(script_attrs[i].name, script_attrs[i].value);\n",
       "      }\n",
       "      // store reference to server id on output_area\n",
       "      output_area._bokeh_server_id = output.metadata[EXEC_MIME_TYPE][\"server_id\"];\n",
       "    }\n",
       "  }\n",
       "\n",
       "  function register_renderer(events, OutputArea) {\n",
       "\n",
       "    function append_mime(data, metadata, element) {\n",
       "      // create a DOM node to render to\n",
       "      var toinsert = this.create_output_subarea(\n",
       "        metadata,\n",
       "        CLASS_NAME,\n",
       "        EXEC_MIME_TYPE\n",
       "      );\n",
       "      this.keyboard_manager.register_events(toinsert);\n",
       "      // Render to node\n",
       "      var props = {data: data, metadata: metadata[EXEC_MIME_TYPE]};\n",
       "      render(props, toinsert[0]);\n",
       "      element.append(toinsert);\n",
       "      return toinsert\n",
       "    }\n",
       "\n",
       "    /* Handle when an output is cleared or removed */\n",
       "    events.on('clear_output.CodeCell', handleClearOutput);\n",
       "    events.on('delete.Cell', handleClearOutput);\n",
       "\n",
       "    /* Handle when a new output is added */\n",
       "    events.on('output_added.OutputArea', handleAddOutput);\n",
       "\n",
       "    /**\n",
       "     * Register the mime type and append_mime function with output_area\n",
       "     */\n",
       "    OutputArea.prototype.register_mime_type(EXEC_MIME_TYPE, append_mime, {\n",
       "      /* Is output safe? */\n",
       "      safe: true,\n",
       "      /* Index of renderer in `output_area.display_order` */\n",
       "      index: 0\n",
       "    });\n",
       "  }\n",
       "\n",
       "  // register the mime type if in Jupyter Notebook environment and previously unregistered\n",
       "  if (root.Jupyter !== undefined) {\n",
       "    var events = require('base/js/events');\n",
       "    var OutputArea = require('notebook/js/outputarea').OutputArea;\n",
       "\n",
       "    if (OutputArea.prototype.mime_types().indexOf(EXEC_MIME_TYPE) == -1) {\n",
       "      register_renderer(events, OutputArea);\n",
       "    }\n",
       "  }\n",
       "\n",
       "  \n",
       "  if (typeof (root._bokeh_timeout) === \"undefined\" || force === true) {\n",
       "    root._bokeh_timeout = Date.now() + 5000;\n",
       "    root._bokeh_failed_load = false;\n",
       "  }\n",
       "\n",
       "  var NB_LOAD_WARNING = {'data': {'text/html':\n",
       "     \"<div style='background-color: #fdd'>\\n\"+\n",
       "     \"<p>\\n\"+\n",
       "     \"BokehJS does not appear to have successfully loaded. If loading BokehJS from CDN, this \\n\"+\n",
       "     \"may be due to a slow or bad network connection. Possible fixes:\\n\"+\n",
       "     \"</p>\\n\"+\n",
       "     \"<ul>\\n\"+\n",
       "     \"<li>re-rerun `output_notebook()` to attempt to load from CDN again, or</li>\\n\"+\n",
       "     \"<li>use INLINE resources instead, as so:</li>\\n\"+\n",
       "     \"</ul>\\n\"+\n",
       "     \"<code>\\n\"+\n",
       "     \"from bokeh.resources import INLINE\\n\"+\n",
       "     \"output_notebook(resources=INLINE)\\n\"+\n",
       "     \"</code>\\n\"+\n",
       "     \"</div>\"}};\n",
       "\n",
       "  function display_loaded() {\n",
       "    var el = document.getElementById(\"b01d8b99-0a9f-484f-904b-d032e19e0b7c\");\n",
       "    if (el != null) {\n",
       "      el.textContent = \"BokehJS is loading...\";\n",
       "    }\n",
       "    if (root.Bokeh !== undefined) {\n",
       "      if (el != null) {\n",
       "        el.textContent = \"BokehJS \" + root.Bokeh.version + \" successfully loaded.\";\n",
       "      }\n",
       "    } else if (Date.now() < root._bokeh_timeout) {\n",
       "      setTimeout(display_loaded, 100)\n",
       "    }\n",
       "  }\n",
       "\n",
       "\n",
       "  function run_callbacks() {\n",
       "    try {\n",
       "      root._bokeh_onload_callbacks.forEach(function(callback) { callback() });\n",
       "    }\n",
       "    finally {\n",
       "      delete root._bokeh_onload_callbacks\n",
       "    }\n",
       "    console.info(\"Bokeh: all callbacks have finished\");\n",
       "  }\n",
       "\n",
       "  function load_libs(js_urls, callback) {\n",
       "    root._bokeh_onload_callbacks.push(callback);\n",
       "    if (root._bokeh_is_loading > 0) {\n",
       "      console.log(\"Bokeh: BokehJS is being loaded, scheduling callback at\", now());\n",
       "      return null;\n",
       "    }\n",
       "    if (js_urls == null || js_urls.length === 0) {\n",
       "      run_callbacks();\n",
       "      return null;\n",
       "    }\n",
       "    console.log(\"Bokeh: BokehJS not loaded, scheduling load and callback at\", now());\n",
       "    root._bokeh_is_loading = js_urls.length;\n",
       "    for (var i = 0; i < js_urls.length; i++) {\n",
       "      var url = js_urls[i];\n",
       "      var s = document.createElement('script');\n",
       "      s.src = url;\n",
       "      s.async = false;\n",
       "      s.onreadystatechange = s.onload = function() {\n",
       "        root._bokeh_is_loading--;\n",
       "        if (root._bokeh_is_loading === 0) {\n",
       "          console.log(\"Bokeh: all BokehJS libraries loaded\");\n",
       "          run_callbacks()\n",
       "        }\n",
       "      };\n",
       "      s.onerror = function() {\n",
       "        console.warn(\"failed to load library \" + url);\n",
       "      };\n",
       "      console.log(\"Bokeh: injecting script tag for BokehJS library: \", url);\n",
       "      document.getElementsByTagName(\"head\")[0].appendChild(s);\n",
       "    }\n",
       "  };var element = document.getElementById(\"b01d8b99-0a9f-484f-904b-d032e19e0b7c\");\n",
       "  if (element == null) {\n",
       "    console.log(\"Bokeh: ERROR: autoload.js configured with elementid 'b01d8b99-0a9f-484f-904b-d032e19e0b7c' but no matching script tag was found. \")\n",
       "    return false;\n",
       "  }\n",
       "\n",
       "  var js_urls = [\"https://cdn.pydata.org/bokeh/release/bokeh-0.12.13.min.js\", \"https://cdn.pydata.org/bokeh/release/bokeh-widgets-0.12.13.min.js\", \"https://cdn.pydata.org/bokeh/release/bokeh-tables-0.12.13.min.js\", \"https://cdn.pydata.org/bokeh/release/bokeh-gl-0.12.13.min.js\"];\n",
       "\n",
       "  var inline_js = [\n",
       "    function(Bokeh) {\n",
       "      Bokeh.set_log_level(\"info\");\n",
       "    },\n",
       "    \n",
       "    function(Bokeh) {\n",
       "      \n",
       "    },\n",
       "    function(Bokeh) {\n",
       "      console.log(\"Bokeh: injecting CSS: https://cdn.pydata.org/bokeh/release/bokeh-0.12.13.min.css\");\n",
       "      Bokeh.embed.inject_css(\"https://cdn.pydata.org/bokeh/release/bokeh-0.12.13.min.css\");\n",
       "      console.log(\"Bokeh: injecting CSS: https://cdn.pydata.org/bokeh/release/bokeh-widgets-0.12.13.min.css\");\n",
       "      Bokeh.embed.inject_css(\"https://cdn.pydata.org/bokeh/release/bokeh-widgets-0.12.13.min.css\");\n",
       "      console.log(\"Bokeh: injecting CSS: https://cdn.pydata.org/bokeh/release/bokeh-tables-0.12.13.min.css\");\n",
       "      Bokeh.embed.inject_css(\"https://cdn.pydata.org/bokeh/release/bokeh-tables-0.12.13.min.css\");\n",
       "    }\n",
       "  ];\n",
       "\n",
       "  function run_inline_js() {\n",
       "    \n",
       "    if ((root.Bokeh !== undefined) || (force === true)) {\n",
       "      for (var i = 0; i < inline_js.length; i++) {\n",
       "        inline_js[i].call(root, root.Bokeh);\n",
       "      }if (force === true) {\n",
       "        display_loaded();\n",
       "      }} else if (Date.now() < root._bokeh_timeout) {\n",
       "      setTimeout(run_inline_js, 100);\n",
       "    } else if (!root._bokeh_failed_load) {\n",
       "      console.log(\"Bokeh: BokehJS failed to load within specified timeout.\");\n",
       "      root._bokeh_failed_load = true;\n",
       "    } else if (force !== true) {\n",
       "      var cell = $(document.getElementById(\"b01d8b99-0a9f-484f-904b-d032e19e0b7c\")).parents('.cell').data().cell;\n",
       "      cell.output_area.append_execute_result(NB_LOAD_WARNING)\n",
       "    }\n",
       "\n",
       "  }\n",
       "\n",
       "  if (root._bokeh_is_loading === 0) {\n",
       "    console.log(\"Bokeh: BokehJS loaded, going straight to plotting\");\n",
       "    run_inline_js();\n",
       "  } else {\n",
       "    load_libs(js_urls, function() {\n",
       "      console.log(\"Bokeh: BokehJS plotting callback run at\", now());\n",
       "      run_inline_js();\n",
       "    });\n",
       "  }\n",
       "}(window));"
      ],
      "application/vnd.bokehjs_load.v0+json": "\n(function(root) {\n  function now() {\n    return new Date();\n  }\n\n  var force = true;\n\n  if (typeof (root._bokeh_onload_callbacks) === \"undefined\" || force === true) {\n    root._bokeh_onload_callbacks = [];\n    root._bokeh_is_loading = undefined;\n  }\n\n  \n\n  \n  if (typeof (root._bokeh_timeout) === \"undefined\" || force === true) {\n    root._bokeh_timeout = Date.now() + 5000;\n    root._bokeh_failed_load = false;\n  }\n\n  var NB_LOAD_WARNING = {'data': {'text/html':\n     \"<div style='background-color: #fdd'>\\n\"+\n     \"<p>\\n\"+\n     \"BokehJS does not appear to have successfully loaded. If loading BokehJS from CDN, this \\n\"+\n     \"may be due to a slow or bad network connection. Possible fixes:\\n\"+\n     \"</p>\\n\"+\n     \"<ul>\\n\"+\n     \"<li>re-rerun `output_notebook()` to attempt to load from CDN again, or</li>\\n\"+\n     \"<li>use INLINE resources instead, as so:</li>\\n\"+\n     \"</ul>\\n\"+\n     \"<code>\\n\"+\n     \"from bokeh.resources import INLINE\\n\"+\n     \"output_notebook(resources=INLINE)\\n\"+\n     \"</code>\\n\"+\n     \"</div>\"}};\n\n  function display_loaded() {\n    var el = document.getElementById(\"b01d8b99-0a9f-484f-904b-d032e19e0b7c\");\n    if (el != null) {\n      el.textContent = \"BokehJS is loading...\";\n    }\n    if (root.Bokeh !== undefined) {\n      if (el != null) {\n        el.textContent = \"BokehJS \" + root.Bokeh.version + \" successfully loaded.\";\n      }\n    } else if (Date.now() < root._bokeh_timeout) {\n      setTimeout(display_loaded, 100)\n    }\n  }\n\n\n  function run_callbacks() {\n    try {\n      root._bokeh_onload_callbacks.forEach(function(callback) { callback() });\n    }\n    finally {\n      delete root._bokeh_onload_callbacks\n    }\n    console.info(\"Bokeh: all callbacks have finished\");\n  }\n\n  function load_libs(js_urls, callback) {\n    root._bokeh_onload_callbacks.push(callback);\n    if (root._bokeh_is_loading > 0) {\n      console.log(\"Bokeh: BokehJS is being loaded, scheduling callback at\", now());\n      return null;\n    }\n    if (js_urls == null || js_urls.length === 0) {\n      run_callbacks();\n      return null;\n    }\n    console.log(\"Bokeh: BokehJS not loaded, scheduling load and callback at\", now());\n    root._bokeh_is_loading = js_urls.length;\n    for (var i = 0; i < js_urls.length; i++) {\n      var url = js_urls[i];\n      var s = document.createElement('script');\n      s.src = url;\n      s.async = false;\n      s.onreadystatechange = s.onload = function() {\n        root._bokeh_is_loading--;\n        if (root._bokeh_is_loading === 0) {\n          console.log(\"Bokeh: all BokehJS libraries loaded\");\n          run_callbacks()\n        }\n      };\n      s.onerror = function() {\n        console.warn(\"failed to load library \" + url);\n      };\n      console.log(\"Bokeh: injecting script tag for BokehJS library: \", url);\n      document.getElementsByTagName(\"head\")[0].appendChild(s);\n    }\n  };var element = document.getElementById(\"b01d8b99-0a9f-484f-904b-d032e19e0b7c\");\n  if (element == null) {\n    console.log(\"Bokeh: ERROR: autoload.js configured with elementid 'b01d8b99-0a9f-484f-904b-d032e19e0b7c' but no matching script tag was found. \")\n    return false;\n  }\n\n  var js_urls = [\"https://cdn.pydata.org/bokeh/release/bokeh-0.12.13.min.js\", \"https://cdn.pydata.org/bokeh/release/bokeh-widgets-0.12.13.min.js\", \"https://cdn.pydata.org/bokeh/release/bokeh-tables-0.12.13.min.js\", \"https://cdn.pydata.org/bokeh/release/bokeh-gl-0.12.13.min.js\"];\n\n  var inline_js = [\n    function(Bokeh) {\n      Bokeh.set_log_level(\"info\");\n    },\n    \n    function(Bokeh) {\n      \n    },\n    function(Bokeh) {\n      console.log(\"Bokeh: injecting CSS: https://cdn.pydata.org/bokeh/release/bokeh-0.12.13.min.css\");\n      Bokeh.embed.inject_css(\"https://cdn.pydata.org/bokeh/release/bokeh-0.12.13.min.css\");\n      console.log(\"Bokeh: injecting CSS: https://cdn.pydata.org/bokeh/release/bokeh-widgets-0.12.13.min.css\");\n      Bokeh.embed.inject_css(\"https://cdn.pydata.org/bokeh/release/bokeh-widgets-0.12.13.min.css\");\n      console.log(\"Bokeh: injecting CSS: https://cdn.pydata.org/bokeh/release/bokeh-tables-0.12.13.min.css\");\n      Bokeh.embed.inject_css(\"https://cdn.pydata.org/bokeh/release/bokeh-tables-0.12.13.min.css\");\n    }\n  ];\n\n  function run_inline_js() {\n    \n    if ((root.Bokeh !== undefined) || (force === true)) {\n      for (var i = 0; i < inline_js.length; i++) {\n        inline_js[i].call(root, root.Bokeh);\n      }if (force === true) {\n        display_loaded();\n      }} else if (Date.now() < root._bokeh_timeout) {\n      setTimeout(run_inline_js, 100);\n    } else if (!root._bokeh_failed_load) {\n      console.log(\"Bokeh: BokehJS failed to load within specified timeout.\");\n      root._bokeh_failed_load = true;\n    } else if (force !== true) {\n      var cell = $(document.getElementById(\"b01d8b99-0a9f-484f-904b-d032e19e0b7c\")).parents('.cell').data().cell;\n      cell.output_area.append_execute_result(NB_LOAD_WARNING)\n    }\n\n  }\n\n  if (root._bokeh_is_loading === 0) {\n    console.log(\"Bokeh: BokehJS loaded, going straight to plotting\");\n    run_inline_js();\n  } else {\n    load_libs(js_urls, function() {\n      console.log(\"Bokeh: BokehJS plotting callback run at\", now());\n      run_inline_js();\n    });\n  }\n}(window));"
     },
     "metadata": {},
     "output_type": "display_data"
    },
    {
     "data": {
      "text/html": [
       "\n",
       "<div class=\"bk-root\">\n",
       "    <div class=\"bk-plotdiv\" id=\"9ee51773-d728-4680-a8a9-693b51ad3a52\"></div>\n",
       "</div>"
      ]
     },
     "metadata": {},
     "output_type": "display_data"
    },
    {
     "data": {
      "application/javascript": [
       "(function(root) {\n",
       "  function embed_document(root) {\n",
       "    \n",
       "  var docs_json = {\"be84ef34-6de3-45eb-9c45-f038ac8b4aa7\":{\"roots\":{\"references\":[{\"attributes\":{\"bottom\":{\"field\":\"bottom\"},\"fill_alpha\":{\"value\":0.1},\"fill_color\":{\"value\":\"#1f77b4\"},\"left\":{\"field\":\"left\"},\"line_alpha\":{\"value\":0.1},\"line_color\":{\"value\":\"#1f77b4\"},\"right\":{\"field\":\"right\"},\"top\":{\"field\":\"top\"}},\"id\":\"cbd13122-7b78-4602-884c-f0542f9781eb\",\"type\":\"Quad\"},{\"attributes\":{\"axis_label\":\"Frames\",\"formatter\":{\"id\":\"5b6aa022-30ea-4c88-89f5-88e04fa57960\",\"type\":\"BasicTickFormatter\"},\"plot\":{\"id\":\"e94e1fbb-9475-4eeb-bc1c-68feaad3aaca\",\"subtype\":\"Figure\",\"type\":\"Plot\"},\"ticker\":{\"id\":\"da9a4d64-d41b-47eb-80cf-e049bb512e9d\",\"type\":\"BasicTicker\"}},\"id\":\"6730bdb6-b505-40e7-b7e9-7d9cf304fc7c\",\"type\":\"LinearAxis\"},{\"attributes\":{\"bottom\":{\"field\":\"bottom\"},\"fill_color\":{\"field\":\"fill_color\"},\"left\":{\"field\":\"left\"},\"right\":{\"field\":\"right\"},\"top\":{\"field\":\"top\"}},\"id\":\"45d4915a-7917-4b00-8dd0-c09fcbd9dcce\",\"type\":\"Quad\"},{\"attributes\":{\"overlay\":{\"id\":\"dccc1c7d-4c3a-457f-8fd3-9897173c35af\",\"type\":\"BoxAnnotation\"}},\"id\":\"aad649fd-3856-429b-b225-bb868e4a245a\",\"type\":\"BoxZoomTool\"},{\"attributes\":{\"callback\":null,\"end\":26.25,\"start\":-1.25},\"id\":\"96b08937-c6d5-4956-ae1e-1d339a0c5a3d\",\"type\":\"Range1d\"},{\"attributes\":{},\"id\":\"e6bed453-5bad-48a0-b4d0-d5a5f1def46c\",\"type\":\"BasicTickFormatter\"},{\"attributes\":{\"source\":{\"id\":\"fa06523b-873b-4fbf-95f7-0d938240fbef\",\"type\":\"ColumnDataSource\"}},\"id\":\"73ecf0e3-7d91-4d25-bee7-e33ba96b4157\",\"type\":\"CDSView\"},{\"attributes\":{\"callback\":null,\"column_names\":[\"right\",\"bottom\",\"top\",\"left\",\"fill_color\"],\"data\":{\"bottom\":[0.7,0.7,0.7,0.7,0.7,0.7,0.7,0.7,0.7,0.7,0.7],\"fill_color\":[\"#FFFFFF\",\"#000000\",\"#FF0000\",\"#FFFF00\",\"#80FF00\",\"#0000FF\",\"#000000\",\"#0000FF\",\"#FFFF00\",\"#FF0000\",\"#FFFFFF\"],\"left\":[0,4,7,9,11,12,13,15,17,19,20],\"right\":[4,7,9,11,12,13,15,17,19,20,25],\"top\":[1.3,1.3,1.3,1.3,1.3,1.3,1.3,1.3,1.3,1.3,1.3]}},\"id\":\"fa06523b-873b-4fbf-95f7-0d938240fbef\",\"type\":\"ColumnDataSource\"},{\"attributes\":{},\"id\":\"cc7426bd-cbc1-4c8c-9bc2-0ae82f102afa\",\"type\":\"PanTool\"},{\"attributes\":{\"data_source\":{\"id\":\"56bcdae9-58a8-4811-af26-9ceca53ff7de\",\"type\":\"ColumnDataSource\"},\"glyph\":{\"id\":\"f833938f-2ed6-4348-a106-8b25441eabb3\",\"type\":\"Quad\"},\"hover_glyph\":null,\"muted_glyph\":null,\"nonselection_glyph\":{\"id\":\"134d6e05-ebd5-40b4-836a-d8c3a1e649f6\",\"type\":\"Quad\"},\"selection_glyph\":null,\"view\":{\"id\":\"59741432-92f0-4347-b97c-5da6dbe4423a\",\"type\":\"CDSView\"}},\"id\":\"bf914dc9-a1e4-41ee-a27e-21566cae2792\",\"type\":\"GlyphRenderer\"},{\"attributes\":{},\"id\":\"73c4e99d-2deb-4898-9e5b-64e789953b77\",\"type\":\"WheelZoomTool\"},{\"attributes\":{\"dimension\":1,\"plot\":{\"id\":\"e94e1fbb-9475-4eeb-bc1c-68feaad3aaca\",\"subtype\":\"Figure\",\"type\":\"Plot\"},\"ticker\":{\"id\":\"675f2866-172e-4bdb-9773-599d73b7dbb2\",\"type\":\"BasicTicker\"}},\"id\":\"f807aca4-ac1c-4069-91e5-534f7d8832e3\",\"type\":\"Grid\"},{\"attributes\":{\"bottom\":{\"field\":\"bottom\"},\"fill_alpha\":{\"value\":0.1},\"fill_color\":{\"value\":\"#1f77b4\"},\"left\":{\"field\":\"left\"},\"line_alpha\":{\"value\":0.1},\"line_color\":{\"value\":\"#1f77b4\"},\"right\":{\"field\":\"right\"},\"top\":{\"field\":\"top\"}},\"id\":\"134d6e05-ebd5-40b4-836a-d8c3a1e649f6\",\"type\":\"Quad\"},{\"attributes\":{\"callback\":null,\"end\":4},\"id\":\"f29d687c-33c7-40e4-9dba-b03ab8a953b9\",\"type\":\"Range1d\"},{\"attributes\":{\"bottom_units\":\"screen\",\"fill_alpha\":{\"value\":0.5},\"fill_color\":{\"value\":\"lightgrey\"},\"left_units\":\"screen\",\"level\":\"overlay\",\"line_alpha\":{\"value\":1.0},\"line_color\":{\"value\":\"black\"},\"line_dash\":[4,4],\"line_width\":{\"value\":2},\"plot\":null,\"render_mode\":\"css\",\"right_units\":\"screen\",\"top_units\":\"screen\"},\"id\":\"dccc1c7d-4c3a-457f-8fd3-9897173c35af\",\"type\":\"BoxAnnotation\"},{\"attributes\":{\"data_source\":{\"id\":\"fa06523b-873b-4fbf-95f7-0d938240fbef\",\"type\":\"ColumnDataSource\"},\"glyph\":{\"id\":\"bb3594d6-802b-449f-aec7-5e330841531a\",\"type\":\"Quad\"},\"hover_glyph\":null,\"muted_glyph\":null,\"nonselection_glyph\":{\"id\":\"cbd13122-7b78-4602-884c-f0542f9781eb\",\"type\":\"Quad\"},\"selection_glyph\":null,\"view\":{\"id\":\"73ecf0e3-7d91-4d25-bee7-e33ba96b4157\",\"type\":\"CDSView\"}},\"id\":\"e10c79e4-dcdb-49d2-96d3-b3f2f4c9f0ae\",\"type\":\"GlyphRenderer\"},{\"attributes\":{\"plot\":null,\"text\":\"Confusion Visualisation\"},\"id\":\"fe7341e2-8b09-4193-9326-ff954c32b96d\",\"type\":\"Title\"},{\"attributes\":{\"callback\":null,\"column_names\":[\"right\",\"bottom\",\"top\",\"left\",\"fill_color\"],\"data\":{\"bottom\":[1.7,1.7],\"fill_color\":[\"#FF00FF\",\"#FF00FF\"],\"left\":[5,17],\"right\":[12,20],\"top\":[2.3,2.3]}},\"id\":\"7e6fbc63-ef4e-48e9-b3c0-8cd18c67ffe1\",\"type\":\"ColumnDataSource\"},{\"attributes\":{},\"id\":\"da9a4d64-d41b-47eb-80cf-e049bb512e9d\",\"type\":\"BasicTicker\"},{\"attributes\":{\"bottom\":{\"field\":\"bottom\"},\"fill_alpha\":{\"value\":0.1},\"fill_color\":{\"value\":\"#1f77b4\"},\"left\":{\"field\":\"left\"},\"line_alpha\":{\"value\":0.1},\"line_color\":{\"value\":\"#1f77b4\"},\"right\":{\"field\":\"right\"},\"top\":{\"field\":\"top\"}},\"id\":\"83e86f46-b2fe-4ad5-a795-4c9f5add55e7\",\"type\":\"Quad\"},{\"attributes\":{},\"id\":\"91bf2690-3155-4cfa-a9c4-5cfd4e2427cc\",\"type\":\"LinearScale\"},{\"attributes\":{},\"id\":\"675f2866-172e-4bdb-9773-599d73b7dbb2\",\"type\":\"BasicTicker\"},{\"attributes\":{},\"id\":\"445cf461-e274-425a-ae6b-2f8edf6bce59\",\"type\":\"LinearScale\"},{\"attributes\":{},\"id\":\"48868fe6-9c5e-462c-accf-aded86e11614\",\"type\":\"HelpTool\"},{\"attributes\":{\"active_drag\":\"auto\",\"active_inspect\":\"auto\",\"active_scroll\":\"auto\",\"active_tap\":\"auto\",\"tools\":[{\"id\":\"cc7426bd-cbc1-4c8c-9bc2-0ae82f102afa\",\"type\":\"PanTool\"},{\"id\":\"73c4e99d-2deb-4898-9e5b-64e789953b77\",\"type\":\"WheelZoomTool\"},{\"id\":\"aad649fd-3856-429b-b225-bb868e4a245a\",\"type\":\"BoxZoomTool\"},{\"id\":\"09accabd-cc29-4ea4-a182-03312d6bdfbe\",\"type\":\"SaveTool\"},{\"id\":\"0739f995-908d-4173-91cf-61fa75ec6149\",\"type\":\"ResetTool\"},{\"id\":\"48868fe6-9c5e-462c-accf-aded86e11614\",\"type\":\"HelpTool\"}]},\"id\":\"084800ad-6def-45b4-b04e-76e20810201a\",\"type\":\"Toolbar\"},{\"attributes\":{\"bottom\":{\"field\":\"bottom\"},\"fill_color\":{\"field\":\"fill_color\"},\"left\":{\"field\":\"left\"},\"right\":{\"field\":\"right\"},\"top\":{\"field\":\"top\"}},\"id\":\"bb3594d6-802b-449f-aec7-5e330841531a\",\"type\":\"Quad\"},{\"attributes\":{\"data_source\":{\"id\":\"7e6fbc63-ef4e-48e9-b3c0-8cd18c67ffe1\",\"type\":\"ColumnDataSource\"},\"glyph\":{\"id\":\"45d4915a-7917-4b00-8dd0-c09fcbd9dcce\",\"type\":\"Quad\"},\"hover_glyph\":null,\"muted_glyph\":null,\"nonselection_glyph\":{\"id\":\"83e86f46-b2fe-4ad5-a795-4c9f5add55e7\",\"type\":\"Quad\"},\"selection_glyph\":null,\"view\":{\"id\":\"12965853-b30e-4180-ac0f-5beb89ee32cd\",\"type\":\"CDSView\"}},\"id\":\"b01d0e83-7edb-4613-8110-47df4e41d0cd\",\"type\":\"GlyphRenderer\"},{\"attributes\":{\"callback\":null,\"column_names\":[\"right\",\"bottom\",\"top\",\"left\",\"fill_color\"],\"data\":{\"bottom\":[2.7],\"fill_color\":[\"#9933FF\"],\"left\":[10],\"right\":[18],\"top\":[3.3]}},\"id\":\"56bcdae9-58a8-4811-af26-9ceca53ff7de\",\"type\":\"ColumnDataSource\"},{\"attributes\":{\"source\":{\"id\":\"56bcdae9-58a8-4811-af26-9ceca53ff7de\",\"type\":\"ColumnDataSource\"}},\"id\":\"59741432-92f0-4347-b97c-5da6dbe4423a\",\"type\":\"CDSView\"},{\"attributes\":{\"source\":{\"id\":\"7e6fbc63-ef4e-48e9-b3c0-8cd18c67ffe1\",\"type\":\"ColumnDataSource\"}},\"id\":\"12965853-b30e-4180-ac0f-5beb89ee32cd\",\"type\":\"CDSView\"},{\"attributes\":{\"background_fill_color\":{\"value\":\"rgb(234, 234, 234)\"},\"below\":[{\"id\":\"6730bdb6-b505-40e7-b7e9-7d9cf304fc7c\",\"type\":\"LinearAxis\"}],\"border_fill_color\":{\"value\":\"rgb(255, 255, 255)\"},\"left\":[{\"id\":\"843bcfb0-cce3-40d0-985c-694f8111b434\",\"type\":\"LinearAxis\"}],\"plot_height\":250,\"plot_width\":900,\"renderers\":[{\"id\":\"6730bdb6-b505-40e7-b7e9-7d9cf304fc7c\",\"type\":\"LinearAxis\"},{\"id\":\"3d12d014-6c94-41f5-8468-db9ddc5895e9\",\"type\":\"Grid\"},{\"id\":\"843bcfb0-cce3-40d0-985c-694f8111b434\",\"type\":\"LinearAxis\"},{\"id\":\"f807aca4-ac1c-4069-91e5-534f7d8832e3\",\"type\":\"Grid\"},{\"id\":\"dccc1c7d-4c3a-457f-8fd3-9897173c35af\",\"type\":\"BoxAnnotation\"},{\"id\":\"bf914dc9-a1e4-41ee-a27e-21566cae2792\",\"type\":\"GlyphRenderer\"},{\"id\":\"b01d0e83-7edb-4613-8110-47df4e41d0cd\",\"type\":\"GlyphRenderer\"},{\"id\":\"e10c79e4-dcdb-49d2-96d3-b3f2f4c9f0ae\",\"type\":\"GlyphRenderer\"}],\"title\":{\"id\":\"fe7341e2-8b09-4193-9326-ff954c32b96d\",\"type\":\"Title\"},\"toolbar\":{\"id\":\"084800ad-6def-45b4-b04e-76e20810201a\",\"type\":\"Toolbar\"},\"x_range\":{\"id\":\"96b08937-c6d5-4956-ae1e-1d339a0c5a3d\",\"type\":\"Range1d\"},\"x_scale\":{\"id\":\"445cf461-e274-425a-ae6b-2f8edf6bce59\",\"type\":\"LinearScale\"},\"y_range\":{\"id\":\"f29d687c-33c7-40e4-9dba-b03ab8a953b9\",\"type\":\"Range1d\"},\"y_scale\":{\"id\":\"91bf2690-3155-4cfa-a9c4-5cfd4e2427cc\",\"type\":\"LinearScale\"}},\"id\":\"e94e1fbb-9475-4eeb-bc1c-68feaad3aaca\",\"subtype\":\"Figure\",\"type\":\"Plot\"},{\"attributes\":{\"ticks\":[1,2,3]},\"id\":\"deffe38c-a28b-49ae-b653-4e29b9f4b47c\",\"type\":\"FixedTicker\"},{\"attributes\":{\"bottom\":{\"field\":\"bottom\"},\"fill_color\":{\"field\":\"fill_color\"},\"left\":{\"field\":\"left\"},\"right\":{\"field\":\"right\"},\"top\":{\"field\":\"top\"}},\"id\":\"f833938f-2ed6-4348-a106-8b25441eabb3\",\"type\":\"Quad\"},{\"attributes\":{},\"id\":\"09accabd-cc29-4ea4-a182-03312d6bdfbe\",\"type\":\"SaveTool\"},{\"attributes\":{\"grid_line_color\":{\"value\":null},\"plot\":{\"id\":\"e94e1fbb-9475-4eeb-bc1c-68feaad3aaca\",\"subtype\":\"Figure\",\"type\":\"Plot\"},\"ticker\":{\"id\":\"da9a4d64-d41b-47eb-80cf-e049bb512e9d\",\"type\":\"BasicTicker\"}},\"id\":\"3d12d014-6c94-41f5-8468-db9ddc5895e9\",\"type\":\"Grid\"},{\"attributes\":{},\"id\":\"5b6aa022-30ea-4c88-89f5-88e04fa57960\",\"type\":\"BasicTickFormatter\"},{\"attributes\":{\"formatter\":{\"id\":\"e6bed453-5bad-48a0-b4d0-d5a5f1def46c\",\"type\":\"BasicTickFormatter\"},\"major_label_overrides\":{\"1\":\"Confusion\",\"2\":\"System_Output\",\"3\":\"Reference\"},\"plot\":{\"id\":\"e94e1fbb-9475-4eeb-bc1c-68feaad3aaca\",\"subtype\":\"Figure\",\"type\":\"Plot\"},\"ticker\":{\"id\":\"deffe38c-a28b-49ae-b653-4e29b9f4b47c\",\"type\":\"FixedTicker\"}},\"id\":\"843bcfb0-cce3-40d0-985c-694f8111b434\",\"type\":\"LinearAxis\"},{\"attributes\":{},\"id\":\"0739f995-908d-4173-91cf-61fa75ec6149\",\"type\":\"ResetTool\"}],\"root_ids\":[\"e94e1fbb-9475-4eeb-bc1c-68feaad3aaca\"]},\"title\":\"Bokeh Application\",\"version\":\"0.12.13\"}};\n",
       "  var render_items = [{\"docid\":\"be84ef34-6de3-45eb-9c45-f038ac8b4aa7\",\"elementid\":\"9ee51773-d728-4680-a8a9-693b51ad3a52\",\"modelid\":\"e94e1fbb-9475-4eeb-bc1c-68feaad3aaca\"}];\n",
       "  root.Bokeh.embed.embed_items_notebook(docs_json, render_items);\n",
       "\n",
       "  }\n",
       "  if (root.Bokeh !== undefined) {\n",
       "    embed_document(root);\n",
       "  } else {\n",
       "    var attempts = 0;\n",
       "    var timer = setInterval(function(root) {\n",
       "      if (root.Bokeh !== undefined) {\n",
       "        embed_document(root);\n",
       "        clearInterval(timer);\n",
       "      }\n",
       "      attempts++;\n",
       "      if (attempts > 100) {\n",
       "        console.log(\"Bokeh: ERROR: Unable to run BokehJS code because BokehJS library is missing\")\n",
       "        clearInterval(timer);\n",
       "      }\n",
       "    }, 10, root)\n",
       "  }\n",
       "})(window);"
      ],
      "application/vnd.bokehjs_exec.v0+json": ""
     },
     "metadata": {
      "application/vnd.bokehjs_exec.v0+json": {
       "id": "e94e1fbb-9475-4eeb-bc1c-68feaad3aaca"
      }
     },
     "output_type": "display_data"
    }
   ],
   "source": [
    "IC.display_confusion_bokeh(IC.compute_intervals_union([ref_intervals]),\n",
    "                           IC.compute_intervals_union([sys_intervals]), \n",
    "                           global_interval, \n",
    "                           confusion_data = [all_intervals, confusion_vector, bokeh_confusion_mapping],\n",
    "                           plot_size = [900,250])"
   ]
  },
  {
   "cell_type": "markdown",
   "metadata": {},
   "source": [
    "## Disclaimer"
   ]
  },
  {
   "cell_type": "markdown",
   "metadata": {},
   "source": [
    "This software was developed at the National Institute of Standards and Technology (NIST) by employees of the Federal Government in the course of their official duties. Pursuant to Title 17 Section 105 of the United States Code, this software is not subject to copyright protection and is in the public domain. NIST assumes no responsibility whatsoever for use by other parties of its source code or open source server, and makes no guarantees, expressed or implied, about its quality, reliability, or any other characteristic."
   ]
  }
 ],
 "metadata": {
  "kernelspec": {
   "display_name": "Python 2",
   "language": "python",
   "name": "python2"
  },
  "language_info": {
   "codemirror_mode": {
    "name": "ipython",
    "version": 2
   },
   "file_extension": ".py",
   "mimetype": "text/x-python",
   "name": "python",
   "nbconvert_exporter": "python",
   "pygments_lexer": "ipython2",
   "version": "2.7.14"
  }
 },
 "nbformat": 4,
 "nbformat_minor": 2
}
