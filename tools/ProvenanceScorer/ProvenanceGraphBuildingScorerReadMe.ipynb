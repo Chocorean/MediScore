{
 "cells": [
  {
   "cell_type": "markdown",
   "metadata": {
    "deletable": true,
    "editable": true
   },
   "source": [
    "# Provenance Graph Building Scorer\n",
    "## Description"
   ]
  },
  {
   "cell_type": "code",
   "execution_count": null,
   "metadata": {
    "collapsed": true,
    "deletable": true,
    "editable": true
   },
   "outputs": [],
   "source": [
    "ProvenanceGraphBuildingScorer.py"
   ]
  },
  {
   "cell_type": "markdown",
   "metadata": {
    "deletable": true,
    "editable": true
   },
   "source": [
    "This script performs scoring for the Medifor Provenance Graph Building task.  The script produces output in the form of a pipe-separated csv file, and returns an exit status of 0 if scoring was successful.  If the script aborts due to an error, the error will be written to standard out, and the script will exit with a status of 1.\n",
    "\n",
    "The script reports the following metrics:\n",
    "* SimNLO - Similarity of node link overlap\n",
    "* SimNO - Similarity of node overlap\n",
    "* SimLO - Similarity of link overlap\n",
    "* Node recall - Recall for the nodes reported by the system\n",
    "\n",
    "Where:\n",
    "$$\\begin{equation*}\n",
    "Sim_{NLO}(G, G') = 2\\frac{|N \\cap N'| + |L \\cap L'|}{|N| + |N'| + |L| + |L'|}\n",
    "\\end{equation*}$$\n",
    "\n",
    "$$\\begin{equation*}\n",
    "Sim_{NO}(G, G') = 2\\frac{|N \\cap N'|}{|N| + |N'|}\n",
    "\\end{equation*}$$\n",
    "\n",
    "$$\\begin{equation*}\n",
    "Sim_{LO}(G, G') = 2\\frac{|L \\cap L'|}{|L| + |L'|}\n",
    "\\end{equation*}$$\n",
    "\n",
    "$$\\begin{equation*}\n",
    "recall = \\frac{|\\{relevant\\} \\cap \\{retrieved\\}|}{|\\{relevant\\}|}\n",
    "\\end{equation*}$$\n",
    "\n",
    "The script also reports various counts, such as the number of correct nodes and links.  See the examples section for sample output.\n",
    "\n",
    "## Command-line interface\n",
    "\n",
    "### Required Arguments\n",
    "\n",
    "-x, --index-file INDEX_FILE\n",
    "* Index file (e.g. NC2017_Beta/indexes/NC2017_Dev2-provenancefiltering-index.csv)\n",
    "\n",
    "-r, --reference-file REFERENCE_FILE\n",
    "* Reference file (e.g. NC2017_Beta/reference/provenancefiltering/NC2017_Dev2-provenancefiltering-ref.csv)\n",
    "\n",
    "-n, --node-file NODE_FILE\n",
    "* Node file (e.g. NC2017_Beta/reference/provenancefiltering/NC2017_Dev2-provenancefiltering-node.csv)\n",
    "\n",
    "-w, --world-file WORLD_FILE\n",
    "* World file (e.g. NC2017_Beta/indexes/NC2017_Dev2-provenancefiltering-world.csv)\n",
    "\n",
    "-R, --reference-dir REFERENCE_DIR\n",
    "* Reference directory (e.g. NC2017_Beta/), relative paths to journals in the REFERENCE_FILE are relative to this directory\n",
    "\n",
    "-s, --system-output-file SYSTEM_OUTPUT_FILE\n",
    "* System output file (e.g. `<EXPID>`.csv)\n",
    "\n",
    "-S, --system-dir SYSTEM_DIR\n",
    "* System output directory where system output json files can be found.  Paths to system output json files in the SYSTEM_OUTPUT_FILE should be relative to this directory\n",
    "\n",
    "### Optional Arguments\n",
    "\n",
    "-t, --skip-trial-disparity-check\n",
    "* By default the script will check that the trials in INDEX_FILE correspond one-to-one to the trials in the SYSTEM_OUTPUT_FILE.  If this option is set, no such check is performed\n",
    "\n",
    "-d, --direct\n",
    "* Toggles on direct path scoring\n",
    "\n",
    "-o, --output-file OUTPUT_FILE\n",
    "* By default the scoring script writes results to standard output.  If this option is provided, results instead are written to OUTPUT_FILE\n",
    "\n",
    "## Example Usage\n",
    "\n",
    "The following example uses the test case files included with the tool\n"
   ]
  },
  {
   "cell_type": "code",
   "execution_count": 1,
   "metadata": {
    "collapsed": false,
    "deletable": true,
    "editable": true
   },
   "outputs": [
    {
     "name": "stdout",
     "output_type": "stream",
     "text": [
      "JournalName|ProvenanceProbeFileID|Direct|ProvenanceOutputFileName|NumSysNodes|NumSysLinks|NumRefNodes|NumRefLinks|NumCorrectNodes|NumMissingNodes|NumFalseAlarmNodes|NumCorrectLinks|NumMissingLinks|NumFalseAlarmLinks|SimNLO|SimNO|SimLO|NodeRecall\n",
      "c257f3e674aaa597784ae6f5a402c748|9f796693249720d9d4eb8f1c3347c300|False|jsons/test_case_2-system_output_1.json|20|21|18|18|15|3|5|6|12|15|0.545454545455|0.789473684211|0.307692307692|0.833333333333\n"
     ]
    }
   ],
   "source": [
    "%%bash\n",
    "./ProvenanceGraphBuildingScorer.py -x \"../../data/test_suite/provenanceScorerTests/test_case_2-provenancegraphbuilding-index.csv\" \\\n",
    "                                   -r \"../../data/test_suite/provenanceScorerTests/test_case_2-provenance-ref.csv\" \\\n",
    "                                   -n \"../../data/test_suite/provenanceScorerTests/test_case_2-provenance-node.csv\" \\\n",
    "                                   -w \"../../data/test_suite/provenanceScorerTests/test_case_2-provenancegraphbuilding-world.csv\" \\\n",
    "                                   -R \"../../data/test_suite/provenanceScorerTests/\" \\\n",
    "                                   -s \"../../data/test_suite/provenanceScorerTests/test_case_2-system_output_1_index.csv\" \\\n",
    "                                   -S \"../../data/test_suite/provenanceScorerTests/\""
   ]
  },
  {
   "cell_type": "markdown",
   "metadata": {
    "collapsed": true,
    "deletable": true,
    "editable": true
   },
   "source": [
    "## Disclaimer\n",
    "\n",
    "This software was developed at the National Institute of Standards\n",
    "and Technology (NIST) by employees of the Federal Government in the\n",
    "course of their official duties. Pursuant to Title 17 Section 105\n",
    "of the United States Code, this software is not subject to copyright\n",
    "protection and is in the public domain. NIST assumes no responsibility\n",
    "whatsoever for use by other parties of its source code or open source\n",
    "server, and makes no guarantees, expressed or implied, about its quality,\n",
    "reliability, or any other characteristic."
   ]
  }
 ],
 "metadata": {
  "kernelspec": {
   "display_name": "Python 2",
   "language": "python",
   "name": "python2"
  },
  "language_info": {
   "codemirror_mode": {
    "name": "ipython",
    "version": 2
   },
   "file_extension": ".py",
   "mimetype": "text/x-python",
   "name": "python",
   "nbconvert_exporter": "python",
   "pygments_lexer": "ipython2",
   "version": "2.7.10"
  }
 },
 "nbformat": 4,
 "nbformat_minor": 2
}
