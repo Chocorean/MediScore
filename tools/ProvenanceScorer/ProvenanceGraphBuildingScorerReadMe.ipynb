{
 "cells": [
  {
   "cell_type": "markdown",
   "metadata": {
    "deletable": true,
    "editable": true
   },
   "source": [
    "# Provenance Graph Building Scorer\n",
    "ProvenanceGraphBuildingScorer.py\n",
    "## Description"
   ]
  },
  {
   "cell_type": "markdown",
   "metadata": {
    "deletable": true,
    "editable": true
   },
   "source": [
    "This script performs scoring for the Medifor Provenance Graph Building task.  The script produces output files in the form of a pipe-separated csv files, and returns an exit status of 0 if scoring was successful.  If the script aborts due to an error, the error will be written to standard out, and the script will exit with a status of 1.  The script produces two output files, 'trial_scores.csv', which reports scores at the trial (probe) level, and 'scores.csv', which aggregates metrics over trials.  The script also generates both a 'node_mapping.csv' and a 'link_mapping' file which lists individual nodes and links, respectively, for each trial and it's designation as either \"Correct\", \"FalseAlarm\", or \"Missing\".\n",
    "\n",
    "The script reports the following metrics:\n",
    "* SimNLO - Similarity of node link overlap\n",
    "* SimNO - Similarity of node overlap\n",
    "* SimLO - Similarity of link overlap\n",
    "* Node recall - Recall for the nodes reported by the system\n",
    "\n",
    "Where:\n",
    "$$\\begin{equation*}\n",
    "Sim_{NLO}(G, G') = 2\\frac{|N \\cap N'| + |L \\cap L'|}{|N| + |N'| + |L| + |L'|}\n",
    "\\end{equation*}$$\n",
    "\n",
    "$$\\begin{equation*}\n",
    "Sim_{NO}(G, G') = 2\\frac{|N \\cap N'|}{|N| + |N'|}\n",
    "\\end{equation*}$$\n",
    "\n",
    "$$\\begin{equation*}\n",
    "Sim_{LO}(G, G') = 2\\frac{|L \\cap L'|}{|L| + |L'|}\n",
    "\\end{equation*}$$\n",
    "\n",
    "$$\\begin{equation*}\n",
    "recall = \\frac{|\\{relevant\\} \\cap \\{retrieved\\}|}{|\\{relevant\\}|}\n",
    "\\end{equation*}$$\n",
    "\n",
    "The script also reports various counts, such as the number of correct nodes and links.  See the examples section for sample output.\n",
    "\n",
    "## Command-line interface\n",
    "\n",
    "### Required Arguments\n",
    "\n",
    "-o, --output-dir OUTPUT_DIR\n",
    "* Output directory, where you want the script to write results\n",
    "\n",
    "-x, --index-file INDEX_FILE\n",
    "* Index file (e.g. NC2017_Beta/indexes/NC2017_Dev2-provenancefiltering-index.csv)\n",
    "\n",
    "-r, --reference-file REFERENCE_FILE\n",
    "* Reference file (e.g. NC2017_Beta/reference/provenancefiltering/NC2017_Dev2-provenancefiltering-ref.csv)\n",
    "\n",
    "-n, --node-file NODE_FILE\n",
    "* Node file (e.g. NC2017_Beta/reference/provenancefiltering/NC2017_Dev2-provenancefiltering-node.csv)\n",
    "\n",
    "-w, --world-file WORLD_FILE\n",
    "* World file (e.g. NC2017_Beta/indexes/NC2017_Dev2-provenancefiltering-world.csv)\n",
    "\n",
    "-R, --reference-dir REFERENCE_DIR\n",
    "* Reference directory (e.g. NC2017_Beta/), relative paths to journals in the REFERENCE_FILE are relative to this directory\n",
    "\n",
    "-s, --system-output-file SYSTEM_OUTPUT_FILE\n",
    "* System output file (e.g. `<EXPID>`.csv)\n",
    "\n",
    "-S, --system-dir SYSTEM_DIR\n",
    "* System output directory where system output json files can be found.  Paths to system output json files in the SYSTEM_OUTPUT_FILE should be relative to this directory\n",
    "\n",
    "### Optional Arguments\n",
    "\n",
    "-v, --verbose\n",
    "* If set, scoring progress messages and warnings are logged to standard output\n",
    "\n",
    "-t, --skip-trial-disparity-check\n",
    "* By default the script will check that the trials in INDEX_FILE correspond one-to-one to the trials in the SYSTEM_OUTPUT_FILE.  If this option is set, extraneous trials in the SYSTEM_OUTPUT_FILE are reported as warnings instead of errors.  Note that warnings are suppressed unless the -v option is set\n",
    "\n",
    "-d, --direct\n",
    "* Toggles on direct path scoring\n",
    "\n",
    "-p, --plot-scored\n",
    "* If enabled, a graphical representation of each trial's mapping will be produced, where green nodes/links represent correct responses, red represents false alarms, and gray represents misses.  These figures will be placed in `<OUTPUT_DIR>`/figures/ as `<ProvenanceProbeFileID>`.jpg.  Note that this option requires an additional Python library be installed: 'pydot'.\n",
    "\n",
    "-H, --html-report\n",
    "* Generates an HTML report file which includes tables for trial-level and aggregate scores, as well as links to the graphical representations for each trial (this option forces the -p option).  The report is saved as `<OUTPUT_DIR>`/report.html\n",
    "\n",
    "-T, --thumbnail-cache-dir THUMBNAIL_CACHE_DIR\n",
    "* If used in conjunction with the -p option, thumbnails for the graphical output are placed in THUMBNAIL_CACHE_DIR.  Thumbnails are not removed at the end of a scoring run\n",
    "\n",
    "-c, --warn-on-system-cycle\n",
    "* By default the script aborts if a cycle is detected in a system output JSON.  This flag downgrades that error to a warning.  Note that warnings are suppressed unless the -v option is set\n",
    "\n",
    "## Example Usage\n",
    "\n",
    "The following example uses the test case files included with the tool\n"
   ]
  },
  {
   "cell_type": "code",
   "execution_count": 1,
   "metadata": {
    "collapsed": false,
    "deletable": true,
    "editable": true
   },
   "outputs": [
    {
     "name": "stdout",
     "output_type": "stream",
     "text": [
      "==> compcheckfiles/graphbuilding_example/scores.csv <==\n",
      "Direct|MeanSimNLO|MeanSimNO|MeanSimLO|MeanNodeRecall\n",
      "False|0.545454545455|0.789473684211|0.307692307692|0.833333333333\n",
      "\n",
      "==> compcheckfiles/graphbuilding_example/trial_scores.csv <==\n",
      "JournalName|ProvenanceProbeFileID|Direct|ProvenanceOutputFileName|NumSysNodes|NumSysLinks|NumRefNodes|NumRefLinks|NumCorrectNodes|NumMissingNodes|NumFalseAlarmNodes|NumCorrectLinks|NumMissingLinks|NumFalseAlarmLinks|SimNLO|SimNO|SimLO|NodeRecall\n",
      "c257f3e674aaa597784ae6f5a402c748|9f796693249720d9d4eb8f1c3347c300|False|jsons/test_case_2-system_output_1.json|20|21|18|18|15|3|5|6|12|15|0.545454545455|0.789473684211|0.307692307692|0.833333333333\n",
      "\n",
      "==> compcheckfiles/graphbuilding_example/node_mapping.csv <==\n",
      "JournalName|ProvenanceProbeFileID|Direct|ProvenanceOutputFileName|WorldFileID|Mapping\n",
      "c257f3e674aaa597784ae6f5a402c748|9f796693249720d9d4eb8f1c3347c300|False|jsons/test_case_2-system_output_1.json|26ed524291d79ad35696bbe856ba7e38|Correct\n",
      "c257f3e674aaa597784ae6f5a402c748|9f796693249720d9d4eb8f1c3347c300|False|jsons/test_case_2-system_output_1.json|3c109a9289f94a895a26a58b782ad994|Correct\n",
      "c257f3e674aaa597784ae6f5a402c748|9f796693249720d9d4eb8f1c3347c300|False|jsons/test_case_2-system_output_1.json|5169deb7c208794ddeb8ce6b51965da4|Correct\n",
      "c257f3e674aaa597784ae6f5a402c748|9f796693249720d9d4eb8f1c3347c300|False|jsons/test_case_2-system_output_1.json|6dd715c810f9e473429f47dd1e2d2cfa|Correct\n",
      "c257f3e674aaa597784ae6f5a402c748|9f796693249720d9d4eb8f1c3347c300|False|jsons/test_case_2-system_output_1.json|9422d22713fe5ea39831d1858615c329|Correct\n",
      "c257f3e674aaa597784ae6f5a402c748|9f796693249720d9d4eb8f1c3347c300|False|jsons/test_case_2-system_output_1.json|9e245d6ea071c715edd84e9b55649b47|Correct\n",
      "c257f3e674aaa597784ae6f5a402c748|9f796693249720d9d4eb8f1c3347c300|False|jsons/test_case_2-system_output_1.json|9f796693249720d9d4eb8f1c3347c300|Correct\n",
      "c257f3e674aaa597784ae6f5a402c748|9f796693249720d9d4eb8f1c3347c300|False|jsons/test_case_2-system_output_1.json|b828a804bf7c309103ace45fe784d72a|Correct\n",
      "c257f3e674aaa597784ae6f5a402c748|9f796693249720d9d4eb8f1c3347c300|False|jsons/test_case_2-system_output_1.json|c257f3e674aaa597784ae6f5a402c748|Correct\n",
      "\n",
      "==> compcheckfiles/graphbuilding_example/link_mapping.csv <==\n",
      "JournalName|ProvenanceProbeFileID|Direct|ProvenanceOutputFileName|SourceWorldFileID|TargetWorldFileID|Mapping\n",
      "c257f3e674aaa597784ae6f5a402c748|9f796693249720d9d4eb8f1c3347c300|False|jsons/test_case_2-system_output_1.json|26ed524291d79ad35696bbe856ba7e38|b828a804bf7c309103ace45fe784d72a|Correct\n",
      "c257f3e674aaa597784ae6f5a402c748|9f796693249720d9d4eb8f1c3347c300|False|jsons/test_case_2-system_output_1.json|5169deb7c208794ddeb8ce6b51965da4|9e245d6ea071c715edd84e9b55649b47|Correct\n",
      "c257f3e674aaa597784ae6f5a402c748|9f796693249720d9d4eb8f1c3347c300|False|jsons/test_case_2-system_output_1.json|6dd715c810f9e473429f47dd1e2d2cfa|9f796693249720d9d4eb8f1c3347c300|Correct\n",
      "c257f3e674aaa597784ae6f5a402c748|9f796693249720d9d4eb8f1c3347c300|False|jsons/test_case_2-system_output_1.json|d4d6fa9d51b30b4cfb33af76ae99a60d|9422d22713fe5ea39831d1858615c329|Correct\n",
      "c257f3e674aaa597784ae6f5a402c748|9f796693249720d9d4eb8f1c3347c300|False|jsons/test_case_2-system_output_1.json|e30bb951daa405ddd7fc11aa58add07d|5169deb7c208794ddeb8ce6b51965da4|Correct\n",
      "c257f3e674aaa597784ae6f5a402c748|9f796693249720d9d4eb8f1c3347c300|False|jsons/test_case_2-system_output_1.json|e30bb951daa405ddd7fc11aa58add07d|d4d6fa9d51b30b4cfb33af76ae99a60d|Correct\n",
      "c257f3e674aaa597784ae6f5a402c748|9f796693249720d9d4eb8f1c3347c300|False|jsons/test_case_2-system_output_1.json|26ed524291d79ad35696bbe856ba7e38|e30bb951daa405ddd7fc11aa58add07d|FalseAlarm\n",
      "c257f3e674aaa597784ae6f5a402c748|9f796693249720d9d4eb8f1c3347c300|False|jsons/test_case_2-system_output_1.json|3c109a9289f94a895a26a58b782ad994|fake27|FalseAlarm\n",
      "c257f3e674aaa597784ae6f5a402c748|9f796693249720d9d4eb8f1c3347c300|False|jsons/test_case_2-system_output_1.json|9422d22713fe5ea39831d1858615c329|3c109a9289f94a895a26a58b782ad994|FalseAlarm\n"
     ]
    }
   ],
   "source": [
    "%%bash\n",
    "./ProvenanceGraphBuildingScorer.py -o \"compcheckfiles/graphbuilding_example/\" \\\n",
    "                                   -x \"../../data/test_suite/provenanceScorerTests/test_case_2-provenancegraphbuilding-index.csv\" \\\n",
    "                                   -r \"../../data/test_suite/provenanceScorerTests/test_case_2-provenance-ref.csv\" \\\n",
    "                                   -n \"../../data/test_suite/provenanceScorerTests/test_case_2-provenance-node.csv\" \\\n",
    "                                   -w \"../../data/test_suite/provenanceScorerTests/test_case_2-provenancegraphbuilding-world.csv\" \\\n",
    "                                   -R \"../../data/test_suite/provenanceScorerTests/\" \\\n",
    "                                   -s \"../../data/test_suite/provenanceScorerTests/test_case_2-system_output_1_index.csv\" \\\n",
    "                                   -S \"../../data/test_suite/provenanceScorerTests/\"\n",
    "                                   \n",
    "head compcheckfiles/graphbuilding_example/scores.csv \\\n",
    "     compcheckfiles/graphbuilding_example/trial_scores.csv \\\n",
    "     compcheckfiles/graphbuilding_example/node_mapping.csv \\\n",
    "     compcheckfiles/graphbuilding_example/link_mapping.csv"
   ]
  },
  {
   "cell_type": "markdown",
   "metadata": {
    "collapsed": true,
    "deletable": true,
    "editable": true
   },
   "source": [
    "## Disclaimer\n",
    "\n",
    "This software was developed at the National Institute of Standards\n",
    "and Technology (NIST) by employees of the Federal Government in the\n",
    "course of their official duties. Pursuant to Title 17 Section 105\n",
    "of the United States Code, this software is not subject to copyright\n",
    "protection and is in the public domain. NIST assumes no responsibility\n",
    "whatsoever for use by other parties of its source code or open source\n",
    "server, and makes no guarantees, expressed or implied, about its quality,\n",
    "reliability, or any other characteristic."
   ]
  }
 ],
 "metadata": {
  "kernelspec": {
   "display_name": "Python 2",
   "language": "python",
   "name": "python2"
  },
  "language_info": {
   "codemirror_mode": {
    "name": "ipython",
    "version": 2
   },
   "file_extension": ".py",
   "mimetype": "text/x-python",
   "name": "python",
   "nbconvert_exporter": "python",
   "pygments_lexer": "ipython2",
   "version": "2.7.13"
  }
 },
 "nbformat": 4,
 "nbformat_minor": 2
}
