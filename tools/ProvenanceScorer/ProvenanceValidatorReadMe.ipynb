{
 "cells": [
  {
   "cell_type": "markdown",
   "metadata": {},
   "source": [
    "# Provenance Validator"
   ]
  },
  {
   "cell_type": "markdown",
   "metadata": {},
   "source": [
    "## Description"
   ]
  },
  {
   "cell_type": "markdown",
   "metadata": {},
   "source": [
    "This script validates the content of provenance system output files relative to the index file as specified in the NC2017 Evaluation Plan, as well as the basic format of the json files. The script works for both the provenance filtering and graph building tasks.\n",
    "\n",
    "The name of the system output should match the name of the directory it is in (with '.csv' appended to it). In this directory should also be a <b>jsons</b> directory containing the system output masks.\n",
    "\n",
    "All csv files passed to the Provenance Validator must contain headers and must have their rows separated by pipe characters ('|'). Fields and values in the csv should <i>not</i> be enclosed in quotes ( ' or \" ) if possible (e.g. entries 'foo', an empty field, and 'bar', in that order, should look like this on the csv: foo||bar, although this won't be checked).\n",
    "\n",
    "The index and system output files must have the same number of rows; further, the system output must not have duplicate rows.\n",
    "\n",
    "All json files for the validator will be checked for conformity to the format specified for provenance filtering and graph building. (Graph building requires an additional \"links\" entry.) However, json fields with blank entries can be skipped over without the validator throwing an error."
   ]
  },
  {
   "cell_type": "markdown",
   "metadata": {},
   "source": [
    "## Command-line Options"
   ]
  },
  {
   "cell_type": "markdown",
   "metadata": {},
   "source": [
    "Example:"
   ]
  },
  {
   "cell_type": "code",
   "execution_count": 2,
   "metadata": {
    "collapsed": false
   },
   "outputs": [],
   "source": [
    "%%bash\n",
    "python ProvenanceValidator.py -x \"../../data/test_suite/provenanceValidatorTests/indexes/NC2017_Dev1-provenance-index.csv\" \\\n",
    "                              -s \"../../data/test_suite/provenanceValidatorTests/ValidCheck_NC17_FuncTest_2/ValidCheck_NC17_FuncTest_Provenance_ImgOnly_p-all_1/ValidCheck_NC17_FuncTest_Provenance_ImgOnly_p-all_1.csv\" \\\n",
    "    -nc"
   ]
  },
  {
   "cell_type": "markdown",
   "metadata": {},
   "source": [
    "Running this code would validate the ValidCheck_NC17_FuncTest_Provenance_ImgOnly_p-all_1.csv with additional information provided by the NC2017_Dev1-provenance-index.csv, each under its appropriate directory, through the provenance validator. The sample inputs shown here should pass the validation."
   ]
  },
  {
   "cell_type": "markdown",
   "metadata": {},
   "source": [
    "The command-line options for the mask scorer can be categorized as follows:"
   ]
  },
  {
   "cell_type": "markdown",
   "metadata": {},
   "source": [
    "### Validation Modes"
   ]
  },
  {
   "cell_type": "markdown",
   "metadata": {},
   "source": [
    "-nc --nameCheck\n",
    "\n",
    "  * Whether or not to check the naming format of the file according to the ENBF (Extended Backus-Naur Form) <TEAM>_NC17_<DATA>_<TASK>_<CONDITION>_<SYS>_<VERSION>. Selecting the option will run the name checker. Further information on the meaning of the ENBF is available in the evaluation plan."
   ]
  },
  {
   "cell_type": "markdown",
   "metadata": {},
   "source": [
    "-nm --neglectJSON\n",
    "\n",
    " * Whether or not to neglect the JSON format checking. Selecting the option will neglect the JSON format checking."
   ]
  },
  {
   "cell_type": "markdown",
   "metadata": {},
   "source": [
    "-t --task\n",
    "\n",
    " * The task to validate against. Select \"ProvenanceFiltering\" or \"Provenance\". Only relevant where the nameCheck option is selected."
   ]
  },
  {
   "cell_type": "markdown",
   "metadata": {},
   "source": [
    "### Input Options"
   ]
  },
  {
   "cell_type": "markdown",
   "metadata": {},
   "source": [
    "-x --index_file\n",
    "\n",
    "  * Define the index csv file. The index file contains the TaskID, ProvenanceProbeFileID, ProvenanceProbeFileName, ProvenanceProbeWidth, and ProvenanceProbeHeight fields. No additional fields are permitted for the index file."
   ]
  },
  {
   "cell_type": "markdown",
   "metadata": {},
   "source": [
    "-s --system_output_file\n",
    "\n",
    "  * Specify the CSV file of the system performance results formatted according to NC2017 specification. The file must contain the ProvenanceProbeFileID and ProvenanceOutputFileName fields. The ProvenanceOutputFileName's should be directory strings relative to the location of the system performance CSV."
   ]
  },
  {
   "cell_type": "markdown",
   "metadata": {},
   "source": [
    "--ncid\n",
    "\n",
    " * Specify the NCID for the evaluation. This should be the NCID specified in the evaluation plan. Default: 'NC17Eval'"
   ]
  },
  {
   "cell_type": "markdown",
   "metadata": {},
   "source": [
    "### Print Options"
   ]
  },
  {
   "cell_type": "markdown",
   "metadata": {},
   "source": [
    "-v verbose\n",
    "\n",
    "  * Control print output. Select 1 to print all non-error related output and 0 to suppress all print output (bar argument-parsing errors)."
   ]
  },
  {
   "cell_type": "markdown",
   "metadata": {
    "collapsed": true
   },
   "source": [
    "## Disclaimer\n",
    "\n",
    "This software was developed at the National Institute of Standards\n",
    "and Technology (NIST) by employees of the Federal Government in the\n",
    "course of their official duties. Pursuant to Title 17 Section 105\n",
    "of the United States Code, this software is not subject to copyright\n",
    "protection and is in the public domain. NIST assumes no responsibility\n",
    "whatsoever for use by other parties of its source code or open source\n",
    "server, and makes no guarantees, expressed or implied, about its quality,\n",
    "reliability, or any other characteristic."
   ]
  }
 ],
 "metadata": {
  "anaconda-cloud": {},
  "kernelspec": {
   "display_name": "Python [default]",
   "language": "python",
   "name": "python2"
  },
  "language_info": {
   "codemirror_mode": {
    "name": "ipython",
    "version": 2
   },
   "file_extension": ".py",
   "mimetype": "text/x-python",
   "name": "python",
   "nbconvert_exporter": "python",
   "pygments_lexer": "ipython2",
   "version": "2.7.12"
  }
 },
 "nbformat": 4,
 "nbformat_minor": 0
}
