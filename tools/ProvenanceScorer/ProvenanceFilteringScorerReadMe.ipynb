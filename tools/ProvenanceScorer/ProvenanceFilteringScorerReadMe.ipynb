{
 "cells": [
  {
   "cell_type": "markdown",
   "metadata": {
    "deletable": true,
    "editable": true
   },
   "source": [
    "# Provenance Filtering Scorer\n",
    "## Description"
   ]
  },
  {
   "cell_type": "code",
   "execution_count": null,
   "metadata": {
    "collapsed": true,
    "deletable": true,
    "editable": true
   },
   "outputs": [],
   "source": [
    "ProvenanceFilteringScorer.py"
   ]
  },
  {
   "cell_type": "markdown",
   "metadata": {
    "deletable": true,
    "editable": true
   },
   "source": [
    "This script performs scoring for the Medifor Provenance Filtering task.  The script produces output files in the form of a pipe-separated csv files, and returns an exit status of 0 if scoring was successful.  If the script aborts due to an error, the error will be written to standard out, and the script will exit with a status of 1.  The script produces two output files, 'trial_scores.csv', which reports scores at the trial (probe) level, and 'scores.csv', which aggregates metrics over trials.  The script also generates a 'node_mapping.csv' file which lists each individual node for each trial and measure and it's designation as either \"Correct\", \"FalseAlarm\", or \"Missing\".\n",
    "\n",
    "The script reports the following metrics:\n",
    "* Node recall @ 50 - Recall for the top 50 nodes (by confidence score) reported by the system\n",
    "* Node recall @ 100 - Recall for the top 100 nodes (by confidence score) reported by the system\n",
    "* Node recall @ 200 - Recall for the top 200 nodes (by confidence score) reported by the system\n",
    "\n",
    "Where:\n",
    "$$\\begin{equation*}\n",
    "recall = \\frac{|\\{relevant\\} \\cap \\{retrieved\\}|}{|\\{relevant\\}|}\n",
    "\\end{equation*}$$\n",
    "\n",
    "The script also reports various counts, such as the number of correct nodes @ 50.  See the examples section for sample output.\n",
    "\n",
    "## Command-line interface\n",
    "\n",
    "### Required Arguments\n",
    "\n",
    "-o, --output-dir OUTPUT_DIR\n",
    "* Output directory, where you want the script to write results\n",
    "\n",
    "-x, --index-file INDEX_FILE\n",
    "* Index file (e.g. NC2017_Beta/indexes/NC2017_Dev2-provenancefiltering-index.csv)\n",
    "\n",
    "-r, --reference-file REFERENCE_FILE\n",
    "* Reference file (e.g. NC2017_Beta/reference/provenancefiltering/NC2017_Dev2-provenancefiltering-ref.csv)\n",
    "\n",
    "-n, --node-file NODE_FILE\n",
    "* Node file (e.g. NC2017_Beta/reference/provenancefiltering/NC2017_Dev2-provenancefiltering-node.csv)\n",
    "\n",
    "-w, --world-file WORLD_FILE\n",
    "* World file (e.g. NC2017_Beta/indexes/NC2017_Dev2-provenancefiltering-world.csv)\n",
    "\n",
    "-R, --reference-dir REFERENCE_DIR\n",
    "* Reference directory (e.g. NC2017_Beta/), relative paths to journals in the REFERENCE_FILE are relative to this directory\n",
    "\n",
    "-s, --system-output-file SYSTEM_OUTPUT_FILE\n",
    "* System output file (e.g. `<EXPID>`.csv)\n",
    "\n",
    "-S, --system-dir SYSTEM_DIR\n",
    "* System output directory where system output json files can be found.  Paths to system output json files in the SYSTEM_OUTPUT_FILE should be relative to this directory\n",
    "\n",
    "### Optional Arguments\n",
    "\n",
    "-t, --skip-trial-disparity-check\n",
    "* By default the script will check that the trials in INDEX_FILE correspond one-to-one to the trials in the SYSTEM_OUTPUT_FILE.  If this option is set, no such check is performed\n",
    "\n",
    "-H, --html-report\n",
    "* Generates an HTML report file which includes tables for trial-level and aggregate scores, the report is saved as `<OUTPUT_DIR>`/report.html\n",
    "\n",
    "## Example Usage\n",
    "\n",
    "The following example uses the test case files included with the tool"
   ]
  },
  {
   "cell_type": "code",
   "execution_count": 1,
   "metadata": {
    "collapsed": false,
    "deletable": true,
    "editable": true
   },
   "outputs": [
    {
     "name": "stdout",
     "output_type": "stream",
     "text": [
      "==> compcheckfiles/filtering_example/scores.csv <==\n",
      "MeanNodeRecall@50|MeanNodeRecall@100|MeanNodeRecall@200\n",
      "0.333333333333|0.666666666667|1.0\n",
      "\n",
      "==> compcheckfiles/filtering_example/trial_scores.csv <==\n",
      "JournalName|ProvenanceProbeFileID|ProvenanceOutputFileName|NumSysNodes|NumRefNodes|NumCorrectNodes@50|NumMissingNodes@50|NumFalseAlarmNodes@50|NumCorrectNodes@100|NumMissingNodes@100|NumFalseAlarmNodes@100|NumCorrectNodes@200|NumMissingNodes@200|NumFalseAlarmNodes@200|NodeRecall@50|NodeRecall@100|NodeRecall@200\n",
      "c257f3e674aaa597784ae6f5a402c748|9f796693249720d9d4eb8f1c3347c300|jsons/test_case_2-filtering-system_output_1.json|200|18|6|12|44|12|6|88|18|0|182|0.333333333333|0.666666666667|1.0\n",
      "\n",
      "==> compcheckfiles/filtering_example/node_mapping.csv <==\n",
      "JournalName|ProvenanceProbeFileID|ProvenanceOutputFileName|Measure|WorldFileID|Mapping\n",
      "c257f3e674aaa597784ae6f5a402c748|9f796693249720d9d4eb8f1c3347c300|jsons/test_case_2-filtering-system_output_1.json|NodeRecall@50|05091cd3d392e1296004ea4f6487cfe5|Correct\n",
      "c257f3e674aaa597784ae6f5a402c748|9f796693249720d9d4eb8f1c3347c300|jsons/test_case_2-filtering-system_output_1.json|NodeRecall@50|05576908c045ce6a2f217ad4c4c952ab|Correct\n",
      "c257f3e674aaa597784ae6f5a402c748|9f796693249720d9d4eb8f1c3347c300|jsons/test_case_2-filtering-system_output_1.json|NodeRecall@50|26ed524291d79ad35696bbe856ba7e38|Correct\n",
      "c257f3e674aaa597784ae6f5a402c748|9f796693249720d9d4eb8f1c3347c300|jsons/test_case_2-filtering-system_output_1.json|NodeRecall@50|3c109a9289f94a895a26a58b782ad994|Correct\n",
      "c257f3e674aaa597784ae6f5a402c748|9f796693249720d9d4eb8f1c3347c300|jsons/test_case_2-filtering-system_output_1.json|NodeRecall@50|5169deb7c208794ddeb8ce6b51965da4|Correct\n",
      "c257f3e674aaa597784ae6f5a402c748|9f796693249720d9d4eb8f1c3347c300|jsons/test_case_2-filtering-system_output_1.json|NodeRecall@50|6dd715c810f9e473429f47dd1e2d2cfa|Correct\n",
      "c257f3e674aaa597784ae6f5a402c748|9f796693249720d9d4eb8f1c3347c300|jsons/test_case_2-filtering-system_output_1.json|NodeRecall@50|1|FalseAlarm\n",
      "c257f3e674aaa597784ae6f5a402c748|9f796693249720d9d4eb8f1c3347c300|jsons/test_case_2-filtering-system_output_1.json|NodeRecall@50|10|FalseAlarm\n",
      "c257f3e674aaa597784ae6f5a402c748|9f796693249720d9d4eb8f1c3347c300|jsons/test_case_2-filtering-system_output_1.json|NodeRecall@50|11|FalseAlarm\n"
     ]
    }
   ],
   "source": [
    "%%bash\n",
    "./ProvenanceFilteringScorer.py -o \"compcheckfiles/filtering_example/\" \\\n",
    "                               -x \"../../data/test_suite/provenanceScorerTests/test_case_2-provenancegraphbuilding-index.csv\" \\\n",
    "                               -r \"../../data/test_suite/provenanceScorerTests/test_case_2-provenance-ref.csv\" \\\n",
    "                               -n \"../../data/test_suite/provenanceScorerTests/test_case_2-provenance-node.csv\" \\\n",
    "                               -w \"../../data/test_suite/provenanceScorerTests/test_case_2-provenancegraphbuilding-world.csv\" \\\n",
    "                               -R \"../../data/test_suite/provenanceScorerTests/\" \\\n",
    "                               -s \"../../data/test_suite/provenanceScorerTests/test_case_2-filtering-system_output_1_index.csv\" \\\n",
    "                               -S \"../../data/test_suite/provenanceScorerTests/\"\n",
    "                               \n",
    "head compcheckfiles/filtering_example/scores.csv \\\n",
    "     compcheckfiles/filtering_example/trial_scores.csv \\\n",
    "     compcheckfiles/filtering_example/node_mapping.csv \\"
   ]
  },
  {
   "cell_type": "markdown",
   "metadata": {
    "deletable": true,
    "editable": true
   },
   "source": [
    "## Disclaimer\n",
    "\n",
    "This software was developed at the National Institute of Standards\n",
    "and Technology (NIST) by employees of the Federal Government in the\n",
    "course of their official duties. Pursuant to Title 17 Section 105\n",
    "of the United States Code, this software is not subject to copyright\n",
    "protection and is in the public domain. NIST assumes no responsibility\n",
    "whatsoever for use by other parties of its source code or open source\n",
    "server, and makes no guarantees, expressed or implied, about its quality,\n",
    "reliability, or any other characteristic."
   ]
  }
 ],
 "metadata": {
  "kernelspec": {
   "display_name": "Python 2",
   "language": "python",
   "name": "python2"
  },
  "language_info": {
   "codemirror_mode": {
    "name": "ipython",
    "version": 2
   },
   "file_extension": ".py",
   "mimetype": "text/x-python",
   "name": "python",
   "nbconvert_exporter": "python",
   "pygments_lexer": "ipython2",
   "version": "2.7.13"
  }
 },
 "nbformat": 4,
 "nbformat_minor": 2
}
