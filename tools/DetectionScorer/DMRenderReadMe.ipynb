{
 "cells": [
  {
   "cell_type": "markdown",
   "metadata": {},
   "source": [
    "# DM Render\n",
    "\n",
    "## Description"
   ]
  },
  {
   "cell_type": "markdown",
   "metadata": {},
   "source": [
    "<p>This script loads DM (dump) files and renders plots. In addition, the code generates a JSON file that allows user to customize curves, points, and legend.</p> "
   ]
  },
  {
   "cell_type": "markdown",
   "metadata": {},
   "source": [
    "## Command-line Options"
   ]
  },
  {
   "cell_type": "markdown",
   "metadata": {},
   "source": [
    "Syntax:\n",
    "<code>\n",
    "python DMRender.py [OPTIONS] -i input\n",
    "</code>\n"
   ]
  },
  {
   "cell_type": "markdown",
   "metadata": {},
   "source": [
    "The command-line options for DMRender can be categorized as follows:"
   ]
  },
  {
   "cell_type": "markdown",
   "metadata": {},
   "source": [
    "### Input Options:"
   ]
  },
  {
   "cell_type": "markdown",
   "metadata": {},
   "source": [
    "-i --input\n",
    "\n",
    "  * Specify either the '.dm' or '.txt' file. The '.txt' file should contain the list of '.dm' files--note that if you specify the colon ':' after the file name, for example, 'NC16_002_query_0.dm:Splice', the string after the colon will be the legend label (e.g., Spice) for the plot. Otherwise, the legend will be the file name including the path.            "
   ]
  },
  {
   "cell_type": "markdown",
   "metadata": {},
   "source": [
    "### Output Options:"
   ]
  },
  {
   "cell_type": "markdown",
   "metadata": {},
   "source": [
    "--outRoot\n",
    "\n",
    "  * Specify the report output path and the file name prefix for saving the plot(s). For example, if you specify \"--outRoot test/NIST_001\", you will find the plot \"NIST_001_det.pdf\"(default =.)\n"
   ]
  },
  {
   "cell_type": "markdown",
   "metadata": {},
   "source": [
    "-v --verbose\n",
    "\n",
    "   * Print output with procedure messages on the command-line if this option is specified."
   ]
  },
  {
   "cell_type": "markdown",
   "metadata": {},
   "source": [
    "### Plot Options:"
   ]
  },
  {
   "cell_type": "markdown",
   "metadata": {},
   "source": [
    "--plotType [det, roc]\n",
    "\n",
    "  * Define the plot type (default = roc)\n"
   ]
  },
  {
   "cell_type": "markdown",
   "metadata": {},
   "source": [
    "--plotTitle\n",
    "\n",
    "  * Define the main title for plot (default = Performance)"
   ]
  },
  {
   "cell_type": "markdown",
   "metadata": {},
   "source": [
    "--plotSubtitle\n",
    "\n",
    "  * Define the sub title for plot (default ='')"
   ]
  },
  {
   "cell_type": "markdown",
   "metadata": {},
   "source": [
    "--display\n",
    "\n",
    "  * Display a window with the plot (s) on the command-line if this option is specified (default = False) \n"
   ]
  },
  {
   "cell_type": "markdown",
   "metadata": {},
   "source": [
    "--multiFigs\n",
    "* Generate a single curve plot per partition\n",
    "  <pre>\n",
    "  Plot output: NIST_001_f_roc_0.pdf, NIST_001_f_roc_1.pdf, ...\n",
    "  </pre>"
   ]
  },
  {
   "cell_type": "markdown",
   "metadata": {},
   "source": [
    "--noNum\n",
    "\n",
    "  * Display a legend without the number of target and non-target trials.\n"
   ]
  },
  {
   "cell_type": "markdown",
   "metadata": {},
   "source": [
    "--curveOption\n",
    "\n",
    "* Generate a JSON file for defalut curve options in the \"plotJsonFiles\" folder (e.g., plotJsonFiles/curve_options.json).\n",
    "\n",
    "An example:\n",
    "```json\n",
    "[{\"color\": \"red\",\n",
    " \"linestyle\": \"solid\",\n",
    " \"marker\": \".\",\n",
    " \"markersize\": 8,\n",
    " \"markerfacecolor\": \"red\",\n",
    " \"antialiased\": \"False\",\n",
    " \"label\": \"testcases/NC17_004_query_0.dm\"},\n",
    " {\"color\": \"blue\",\n",
    " \"linestyle\": \"dashed\",\n",
    " \"marker\": \".\",\n",
    " \"markersize\": 8,\n",
    " \"markerfacecolor\": \"blue\",\n",
    " \"antialiased\": \"False\",\n",
    " \"label\": \"testcases/NC17_004_query_1.dm\"}]\n",
    " ```"
   ]
  },
  {
   "cell_type": "markdown",
   "metadata": {},
   "source": [
    "## Command-line Usage"
   ]
  },
  {
   "cell_type": "markdown",
   "metadata": {},
   "source": [
    "* Rendering the ROC curve with the '.dm' file\n",
    "<code>\n",
    "python DMRender.py -i ../../data/test_suite/dmRenderTests/NC16_001_query_0.dm --outRoot ./testcases/dump_test1 --display\n",
    "</code>\n",
    "<img src=\"./notebookImgs/dump_test1_ROC_all.png\" alt=\"Default ROC curve\" width=\"500\" height=\"400\" align=\"left\">"
   ]
  },
  {
   "cell_type": "markdown",
   "metadata": {},
   "source": [
    "* Rendering the ROC curve with the '.txt' file (with the colon ':')\n",
    "<code>\n",
    "python DMRender.py -i ../../data/test_suite/dmRenderTests/dm_list_with_colon.txt --outRoot ./testcases/dump_test2 --plotTitle DMRenderTest --plotSubtitle WithColon --display\n",
    "</code>\n",
    "<img src=\"./notebookImgs/dump_test2_ROC_all.png\" alt=\"Default ROC curve\" width=\"500\" height=\"400\" align=\"left\">"
   ]
  },
  {
   "cell_type": "markdown",
   "metadata": {},
   "source": [
    "* Rendering the ROC curve with the '.txt' file (without the colon ':')\n",
    "<code>\n",
    "python DMRender.py -i ../../data/test_suite/dmRenderTests/dm_list_without_colon.txt --outRoot ./testcases/dump_test3 --plotTitle DMRenderTest --plotSubtitle WithoutColon --display\n",
    "</code>\n",
    "<img src=\"./notebookImgs/dump_test3_ROC_all.png\" alt=\"Default ROC curve\" width=\"500\" height=\"400\" align=\"left\">"
   ]
  }
 ],
 "metadata": {
  "anaconda-cloud": {},
  "kernelspec": {
   "display_name": "Python 2",
   "language": "python",
   "name": "python2"
  },
  "language_info": {
   "codemirror_mode": {
    "name": "ipython",
    "version": 2
   },
   "file_extension": ".py",
   "mimetype": "text/x-python",
   "name": "python",
   "nbconvert_exporter": "python",
   "pygments_lexer": "ipython2",
   "version": "2.7.13"
  }
 },
 "nbformat": 4,
 "nbformat_minor": 0
}
