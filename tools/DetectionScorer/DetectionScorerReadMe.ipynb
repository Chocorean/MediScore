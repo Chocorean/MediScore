{
 "cells": [
  {
   "cell_type": "markdown",
   "metadata": {},
   "source": [
    "# Detection Scorer"
   ]
  },
  {
   "cell_type": "markdown",
   "metadata": {},
   "source": [
    "## Description"
   ]
  },
  {
   "cell_type": "markdown",
   "metadata": {},
   "source": [
    "<p>The purpose of this script is to evaluate the accuracy of the image tampering detection algorithms in multimedia forensics. The script currently supports an evaluation of the following distinctive detection tasks, namely 1) Manipulation, 2) Splice, 3) Event Verification, and 4) Camera detections. The Manipulation detection task is to detect whether or not a probe image has been manipulated. The Splice detection task is to detect if a region of the other source (donor) image has been spliced into a probe image.  The Event Verification task is to determine if a probe is from a claimed event. Lastly, the Camera detection is to detect if a probe is from a claimed camera fingerprint given a pool of the camera device ID. Please refer the detailed information in the document \"Media Forensics Challenge 2018 Evaluation Plan\" </p>   \n",
    "<p>The script calculates performance measures of AUC (Area Under Curve) and EER (Equal Error Rate)\n",
    "based on a system's output (e.g., confidence scores) for the tasks described above. The output is a report table (CSV) that includes the measures of AUC, EER, and AUC_CI (confidence interval for AUC), and a graphical plot (PDF) that supports either ROC (receiver operating characteristic) or DET (detection error tradeoff) for algorithm performance results. In addition, this script allows the user to evaluate their algorithm performance on either subsets or partitions of the data set based on the specified queries.</p> \n"
   ]
  },
  {
   "cell_type": "markdown",
   "metadata": {},
   "source": [
    "## Command-line Options"
   ]
  },
  {
   "cell_type": "markdown",
   "metadata": {},
   "source": [
    "Syntax:\n",
    "<code>\n",
    "python DetectionScorer.py [OPTIONS] -r inRef -x inIndex -s inSys\n",
    "</code>\n"
   ]
  },
  {
   "cell_type": "markdown",
   "metadata": {},
   "source": [
    "The command-line options for detection scorer can be categorized as follows:"
   ]
  },
  {
   "cell_type": "markdown",
   "metadata": {},
   "source": [
    "### Task Type Options:"
   ]
  },
  {
   "cell_type": "markdown",
   "metadata": {},
   "source": [
    "-t --task [manipulation, splice, eventverification, camera]\n",
    "\n",
    "  * Define the target manipulation task type for evaluation (default = manipulation). This is a value of the \"TaskID\" column in the index file. "
   ]
  },
  {
   "cell_type": "markdown",
   "metadata": {},
   "source": [
    "### Input Options:"
   ]
  },
  {
   "cell_type": "markdown",
   "metadata": {},
   "source": [
    "--refDir\n",
    "\n",
    "  * Specify the reference and index data path, for example \"/NC2016_Test\" (default = .)\n"
   ]
  },
  {
   "cell_type": "markdown",
   "metadata": {},
   "source": [
    "-r --inRef\n",
    "\n",
    "  * Specify the reference CSV file (under the refDir folder) that contains the ground-truth and metadata information\n",
    "  * For example, the fields are: TaskID|ProbeFileID|ProbeFileName|ProbeMaskFileName|...             "
   ]
  },
  {
   "cell_type": "markdown",
   "metadata": {},
   "source": [
    "-x --inIndex\n",
    "\n",
    "  * Specify the index CSV file\n",
    "  * For example, the fields are: TaskID|ProbeFileID|ProbeFileName|ProbeWidth|ProbeHeight"
   ]
  },
  {
   "cell_type": "markdown",
   "metadata": {},
   "source": [
    "--sysDir\n",
    "\n",
    "  * Specify the system output data path, for example \"mysysoutput/\" (default = .) \n"
   ]
  },
  {
   "cell_type": "markdown",
   "metadata": {},
   "source": [
    "-s --inSys\n",
    "\n",
    "  * Specify the CSV file of the system performance result formatted according to the specification"
   ]
  },
  {
   "cell_type": "markdown",
   "metadata": {},
   "source": [
    "### Metric Options:"
   ]
  },
  {
   "cell_type": "markdown",
   "metadata": {},
   "source": [
    "--farStop\n",
    "\n",
    " * Specify the stop point of FAR for calculating partial AUC and Correction Detection Rate at False Alarm Rate (FAR) specified. The default (0.1) provides FAR=10%.\n",
    "    \n"
   ]
  },
  {
   "cell_type": "markdown",
   "metadata": {},
   "source": [
    "--ci\n",
    "\n",
    "   * Calculate the lower and upper confidence interval for AUC if this option is specified. The option will slowdown the speed due to the bootstrapping method."
   ]
  },
  {
   "cell_type": "markdown",
   "metadata": {},
   "source": [
    "--ciLevel\n",
    "\n",
    "   * Specify the confidence level (range [0.8, 0.99]) to calculate the lower and upper confidence interval for AUC. The default is 0.9. "
   ]
  },
  {
   "cell_type": "markdown",
   "metadata": {},
   "source": [
    "--dLevel\n",
    "\n",
    "  * Define the lower and upper exclusions (range [0, 0.3]) for d-prime calculation. The default is 0.\n",
    "    Note that the d-prime specified in the plot is the maximum d-prime."
   ]
  },
  {
   "cell_type": "markdown",
   "metadata": {},
   "source": [
    "### Output Options:"
   ]
  },
  {
   "cell_type": "markdown",
   "metadata": {},
   "source": [
    "--outRoot\n",
    "\n",
    "  * Specify the report output path and the file name prefix for saving the plot(s) and table (s). For example, if you specify \"--outRoot test/NIST_001\", you will find the plot \"NIST_001_det.pdf\" and the table \"NIST_001_report.csv\" in the \"test\" folder (default =.)\n"
   ]
  },
  {
   "cell_type": "markdown",
   "metadata": {},
   "source": [
    "--dump\n",
    "\n",
    "   * Save the dump files (formatted as a binary) that contains a list of FAR, FPR, TPR, threshold, AUC, and EER values. The purpose of the dump files is to load the point values for further analysis without calculating the values again.\n",
    "   <pre>\n",
    "   - Dump file output: NIST_001_query_0.dm, NIST_001_query_1.dm, ...\n",
    "   </pre>"
   ]
  },
  {
   "cell_type": "markdown",
   "metadata": {},
   "source": [
    "--outMeta\n",
    "\n",
    "   * Save the CSV file with the system output with reference and journal mask metadata."
   ]
  },
  {
   "cell_type": "markdown",
   "metadata": {},
   "source": [
    "--outSubMeta\n",
    "\n",
    "   * Save the CSV file with the system output with minimal metadata."
   ]
  },
  {
   "cell_type": "markdown",
   "metadata": {},
   "source": [
    "-v --verbose\n",
    "\n",
    "   * Print output with procedure messages on the command-line if this option is specified."
   ]
  },
  {
   "cell_type": "markdown",
   "metadata": {},
   "source": [
    "### Plot Options:"
   ]
  },
  {
   "cell_type": "markdown",
   "metadata": {},
   "source": [
    "--plotType [det, roc]\n",
    "\n",
    "  * Define the plot type (default = roc)\n"
   ]
  },
  {
   "cell_type": "markdown",
   "metadata": {},
   "source": [
    "--plotTitle\n",
    "\n",
    "  * Define the main title for plot (default = Performance)"
   ]
  },
  {
   "cell_type": "markdown",
   "metadata": {},
   "source": [
    "--plotSubtitle\n",
    "\n",
    "  * Define the sub title for plot (default ='')"
   ]
  },
  {
   "cell_type": "markdown",
   "metadata": {},
   "source": [
    "--plotType [det, roc]\n",
    "\n",
    "  * Define the plot type (default = roc)\n"
   ]
  },
  {
   "cell_type": "markdown",
   "metadata": {},
   "source": [
    "--display\n",
    "\n",
    "  * Display a window with the plot (s) on the command-line if this option is specified (default = False) \n"
   ]
  },
  {
   "cell_type": "markdown",
   "metadata": {},
   "source": [
    "--multiFigs\n",
    "* Generate a single curve plot per partition\n",
    "  <pre>\n",
    "  Plot output: NIST_001_f_roc_0.pdf, NIST_001_f_roc_1.pdf, ...\n",
    "  </pre>"
   ]
  },
  {
   "cell_type": "markdown",
   "metadata": {},
   "source": [
    "--noNum\n",
    "\n",
    "  * Display a legend without the number of target and non-target trials.\n"
   ]
  },
  {
   "cell_type": "markdown",
   "metadata": {},
   "source": [
    "### Custom Plot Options:"
   ]
  },
  {
   "cell_type": "markdown",
   "metadata": {},
   "source": [
    "--configPlot [\n",
    "\n",
    "  * Load a JSON file that allows the user to customize the plot (e.g. change the title font size) by augmenting the json files located in the \"plotJsonFiles\" folder (e.g., plotJsonFiles/plot_options.json).\n",
    "\n",
    "An example:\n",
    "```json\n",
    "{\"title\": \"Customized Plot Example\",\n",
    " \"plot_type\": \"DET\",\n",
    " \"title_fontsize\": 15,\n",
    " \"xticks_size\": \"medium\",\n",
    " \"yticks_size\": \"medium\",\n",
    " \"xlabel\": \"False Alarm Rate [%]\",\n",
    " \"xlabel_fontsize\": 12,\n",
    " \"ylabel\": \"Miss Detection Rate [%]\",\n",
    " \"ylabel_fontsize\": 12}\n",
    " ```"
   ]
  },
  {
   "cell_type": "markdown",
   "metadata": {},
   "source": [
    "### OptOut Options:"
   ]
  },
  {
   "cell_type": "markdown",
   "metadata": {},
   "source": [
    "--optOut\n",
    "\n",
    "  * Evaluate algorithm performance on trials where IsOptOut values are ['N', 'Localization'] or ProbeStatus values are ['Processed', 'NonProcessed','OptOutLocalization']."
   ]
  },
  {
   "cell_type": "markdown",
   "metadata": {},
   "source": [
    "### Performance Evaluation by Query Options:"
   ]
  },
  {
   "cell_type": "markdown",
   "metadata": {},
   "source": [
    "The set of the following options allow the user to evaluate their algorithm performance on either subsets or partitions of the data set based on the specified queries. These options utilize Pandas’ queries to produce scoring reports using the metadata (e.g., Operation| Color| Purpose| OperationArgument| ...) within the reference file to subset/partition of the scored data.  There are three types of analysis supported:\n",
    "\n",
    "* Query (-q --query): this option allows the user to specify multiple queries. Each query filters both target and non-target trials and then processes one scoring run of the system output to generate the requested scoring report.\n",
    "* Query for partitions (-qp --queryPartition): this option allows the user to specify one query. The query separates the data set into M partitions by filtering both target and non-target trials and processes one or multiple scoring runs of the system output to generate the requested scoring report.\n",
    "* Query for selective manipulations (-qm --queryManipulation): this option allows the user to specify multiple queries. Each query restricts filtering to target trials only (while using all non-target trials) to generate the requested scoring report."
   ]
  },
  {
   "cell_type": "markdown",
   "metadata": {},
   "source": [
    "-q --query\n",
    "\n",
    "* Evaluate algorithm performance selecting the targets and non-targets via a query. Multiple queries can be used. Depending on the number (N) of queries, the option generates N report tables (CSV) and one plot (PDF) that contains N curves.\n",
    "  + Syntax : -q \"query1\" \"query2\" \"query3\" ... \n",
    "   ```\n",
    "   - The syntax is the same with Pandas' query syntax. Please see the detailed query rule in the website: http://pandas.pydata.org/pandas-docs/stable/indexing.html#indexing-query.\n",
    "   Examples:\n",
    "   % -q \"Collection==['Nimble-SCI']\" => 1 query\n",
    "   % -q \"Collection==['Nimble-SCI'] and PostProcessing=['rescale']\" => 1 query\n",
    "   % -q \"Collection==['Nimble-SCI','Nimble-WEB']\" \"PostProcessing=['rescale']\" \"200<ProbeWidth<=3000\" => 3 queries\n",
    "   ```\n",
    "  + Output: \n",
    "   ```\n",
    "   - CSV report: NIST_001_q_query0.csv, NIST_001_q_query1.csv, ...\n",
    "   - PDF plot: NIST_001_roc_all.pdf\n",
    "   - DM file (using --dump): NIST_001_query0.dm, NIST_001_query1.dm, ...\n",
    "   ```"
   ]
  },
  {
   "cell_type": "markdown",
   "metadata": {},
   "source": [
    "-qp --queryPartition\n",
    "\n",
    "* Evaluate algorithm performance partitioning the dataset via a query.  The partitions are automatically determined based on the metadata factors identified in the query.  Depending on the number (M) of partitions provided by the cartesian product on query conditions, this option generates a single report table (CSV) that contains M partition results and one plot that contains M curves.\n",
    "  + Syntax : -fp \"query\"\n",
    "   ```\n",
    "   - The query syntax only allows the three operators \"==[]\", \"<\", and \"<=\".\n",
    "   Examples: \n",
    "   % -qp \"Collection==['Nimble-SCI']\" => 1 partition\n",
    "   % -qp \"Collection==['Nimble-SCI','Nimble-WEB'] & PostProcessing=['rescale']\" => 2 partitions\n",
    "   % -qp \"Collection==['Nimble-SCI','Nimble-WEB'] & PostProcessing=['rescale','noise']\" => 4 partitions\n",
    "   ```\n",
    "  + Output: \n",
    "   ``` \n",
    "   - CSV report: NIST_001_qp_query.csv\n",
    "   - PDF plot: NIST_001_roc_all.pdf\n",
    "   - DM file (using --dump): NIST_001_query0.dm, NIST_001_query1.dm, ...\n",
    "   ```"
   ]
  },
  {
   "cell_type": "markdown",
   "metadata": {},
   "source": [
    "-qm --queryManipulation\n",
    "\n",
    "* This option is similar to the '-q' option; however, the queries are only applied to the target trials (IsTarget == 'Y') while all non-target trials are used. Depending on the number (N) of queries, the option generates N report tables (CSV) and one plot (PDF) that contains N curves.\n",
    "  + Syntax : -qm \"query1\" \"query2\" \"query3\" ... \n",
    "   ```\n",
    "   - The syntax is the same with Pandas' query syntax, \n",
    "     note that your query will be converted as to (\"query\" and IsTarget == ['Y']) or IsTarget == ['N'])\n",
    "   Examples:\n",
    "   % -qm \"Purpose==['remove']\" => 1 query\n",
    "   % -qm \"Operation==['PasteSplice']\" \"Operation==['FillContentAwareFill']\" => 2 query\n",
    "   % -qm \"Purpose==['remove']\" \"Purpose==['add']\" \"Purpose==['splice']\"=> 3 queries\n",
    "   ```\n",
    "  + Output: \n",
    "   ```\n",
    "   - CSV report: NIST_001_qm_query0.csv, NIST_001_qm_query1.csv, ...\n",
    "   - PDF plot: NIST_001_roc_all.pdf\n",
    "   - DM file (using --dump): NIST_001_query0.dm, NIST_001_query1.dm, ...\n",
    "   ```"
   ]
  },
  {
   "cell_type": "markdown",
   "metadata": {},
   "source": [
    "## Command-line Usage"
   ]
  },
  {
   "cell_type": "markdown",
   "metadata": {},
   "source": [
    "### NC2016 Dataset Testcases"
   ]
  },
  {
   "cell_type": "markdown",
   "metadata": {},
   "source": [
    "#### * Manipulation Task"
   ]
  },
  {
   "cell_type": "markdown",
   "metadata": {},
   "source": [
    "* Full scoring: rendering the ROC curve and the report table,\n",
    "<code>\n",
    "python DetectionScorer.py -o ./testcases/NC16_001 \\\n",
    "-t manipulation \\\n",
    "--refDir ../../data/test_suite/detectionScorerTests/reference \\\n",
    "-r NC2016-manipulation-ref.csv \\\n",
    "-x NC2016-manipulation-index.csv \\\n",
    "--sysDir ../../data/test_suite/detectionScorerTests/baseline \\\n",
    "-s Base_NC2016_Manipulation_ImgOnly_p-dct_02.csv \\\n",
    "--ci --display\n",
    "</code>\n",
    "<img src=\"./notebookImgs/test_c5_1-1_ROC_all.png\" alt=\"Default ROC curve\" width=\"500\" height=\"400\" align=\"left\">"
   ]
  },
  {
   "cell_type": "code",
   "execution_count": 18,
   "metadata": {
    "collapsed": false
   },
   "outputs": [
    {
     "data": {
      "text/html": [
       "<script>jQuery(function() {if (jQuery(\"body.notebook_app\").length == 0) { jQuery(\".input_area\").toggle(); jQuery(\".prompt\").toggle();}});</script>"
      ]
     },
     "metadata": {},
     "output_type": "display_data"
    },
    {
     "data": {
      "text/html": [
       "<div>\n",
       "<table border=\"1\" class=\"dataframe\">\n",
       "  <thead>\n",
       "    <tr style=\"text-align: right;\">\n",
       "      <th></th>\n",
       "      <th>AUC</th>\n",
       "      <th>EER</th>\n",
       "      <th>FAR_STOP</th>\n",
       "      <th>AUC@FAR</th>\n",
       "      <th>CDR@FAR</th>\n",
       "      <th>AUC_CI_LOWER@FAR</th>\n",
       "      <th>AUC_CI_UPPER@FAR</th>\n",
       "      <th>TRR</th>\n",
       "      <th>SYS_RESPONSE</th>\n",
       "    </tr>\n",
       "  </thead>\n",
       "  <tbody>\n",
       "    <tr>\n",
       "      <th>0</th>\n",
       "      <td>0.517917</td>\n",
       "      <td>0.516901</td>\n",
       "      <td>0.1</td>\n",
       "      <td>0.019481</td>\n",
       "      <td>0.228723</td>\n",
       "      <td>0.016148</td>\n",
       "      <td>0.022018</td>\n",
       "      <td>1.0</td>\n",
       "      <td>all</td>\n",
       "    </tr>\n",
       "  </tbody>\n",
       "</table>\n",
       "</div>"
      ],
      "text/plain": [
       "        AUC       EER  FAR_STOP   AUC@FAR   CDR@FAR  AUC_CI_LOWER@FAR  \\\n",
       "0  0.517917  0.516901       0.1  0.019481  0.228723          0.016148   \n",
       "\n",
       "   AUC_CI_UPPER@FAR  TRR SYS_RESPONSE  \n",
       "0          0.022018  1.0          all  "
      ]
     },
     "execution_count": 18,
     "metadata": {},
     "output_type": "execute_result"
    }
   ],
   "source": [
    "import IPython.core.display as di\n",
    "# This line will hide code by default when the notebook is exported as HTML\n",
    "di.display_html('<script>jQuery(function() {if (jQuery(\"body.notebook_app\").length == 0) { jQuery(\".input_area\").toggle(); jQuery(\".prompt\").toggle();}});</script>', raw=True)\n",
    "import pandas as pd\n",
    "df1=pd.read_csv(\"./notebookImgs/test_c5_1-1_all_report.csv\", sep=\"|\")\n",
    "df1"
   ]
  },
  {
   "cell_type": "markdown",
   "metadata": {},
   "source": [
    "* Full scoring: rendering DET curve:\n",
    "<code>\n",
    "python DetectionScorer.py -o ./testcases/NC16_002 \\\n",
    "-t manipulation \\\n",
    "--refDir ../../data/test_suite/detectionScorerTests/reference \\\n",
    "-r NC2016-manipulation-ref.csv -x NC2016-manipulation-index.csv \\\n",
    "--sysDir ../../data/test_suite/detectionScorerTests/baseline \\\n",
    "-s Base_NC2016_Manipulation_ImgOnly_p-dct_02.csv  \\\n",
    "--plotType det --display\n",
    "</code>\n",
    "<img src=\"./notebookImgs/test_c5_1-2_det_all.png\" alt=\"ROC2\" width=\"500\" height=\"400\" align=\"left\">"
   ]
  },
  {
   "cell_type": "markdown",
   "metadata": {},
   "source": [
    "* OptOut (IsOptOut =='N') scoring\n",
    "<code>\n",
    "python DetectionScorer.py -o ./testcases/NC16_101 \\\n",
    "-t manipulation \\\n",
    "--refDir ../../data/test_suite/detectionScorerTests/reference \\\n",
    "-r NC2016-manipulation-ref.csv -x NC2016-manipulation-index.csv \\\n",
    "--sysDir ../../data/test_suite/detectionScorerTests/baseline \\\n",
    "-s Base_NC2016_Manipulation_ImgOnly_p-dct_02_optout.csv  \\\n",
    "--optOut --dLevel 0.1 --ci --plotType roc --display\n",
    "</code>\n",
    "<img src=\"./notebookImgs/test_c5_1-3_roc_all.png\" alt=\"Default ROC curve\" width=\"500\" height=\"400\" align=\"left\">"
   ]
  },
  {
   "cell_type": "markdown",
   "metadata": {},
   "source": [
    "* Reduced (--noNum): legend without the number of target and non-target trials,\n",
    "<code>\n",
    "python DetectionScorer.py -o ./testcases/NC16_102 \\\n",
    "-t manipulation \\\n",
    "--refDir ../../data/test_suite/detectionScorerTests/reference \\\n",
    "-r NC2016-manipulation-ref.csv \\\n",
    "-x NC2016-manipulation-index.csv \\\n",
    "--sysDir ../../data/test_suite/detectionScorerTests/baseline \\\n",
    "-s Base_NC2016_Manipulation_ImgOnly_p-dct_02.csv \\\n",
    "--ci --display --noNum\n",
    "</code>\n",
    "<img src=\"./notebookImgs/test_c5_1-4_ROC_all.png\" alt=\"Default ROC curve\" width=\"500\" height=\"400\" align=\"left\">"
   ]
  },
  {
   "cell_type": "markdown",
   "metadata": {},
   "source": [
    "* Query (-q) with one query\n",
    "<code>\n",
    "python DetectionScorer.py -o ./testcases/NC16_003 \\\n",
    "-t manipulation \\\n",
    "--refDir ../../data/test_suite/detectionScorerTests/reference \\\n",
    "-r NC2016-manipulation-ref.csv \\\n",
    "-x NC2016-manipulation-index.csv \\\n",
    "--sysDir ../../data/test_suite/detectionScorerTests/baseline \\\n",
    "-s Base_NC2016_Manipulation_ImgOnly_p-dct_02.csv  \\\n",
    "<b>-q \"Collection==['Nimble-SCI','Nimble-WEB']\"</b> \\\n",
    "--ci --display\n",
    "</code>\n",
    "<img src=\"./notebookImgs/test_c5_1-5_ROC_all.png\" alt=\"ROC3\" width=\"700\" height=\"600\" align=\"left\">"
   ]
  },
  {
   "cell_type": "code",
   "execution_count": 19,
   "metadata": {
    "collapsed": false
   },
   "outputs": [
    {
     "data": {
      "text/html": [
       "<div>\n",
       "<table border=\"1\" class=\"dataframe\">\n",
       "  <thead>\n",
       "    <tr style=\"text-align: right;\">\n",
       "      <th></th>\n",
       "      <th>QUERY</th>\n",
       "      <th>AUC</th>\n",
       "      <th>EER</th>\n",
       "      <th>FAR_STOP</th>\n",
       "      <th>AUC@FAR</th>\n",
       "      <th>CDR@FAR</th>\n",
       "      <th>AUC_CI_LOWER@FAR</th>\n",
       "      <th>AUC_CI_UPPER@FAR</th>\n",
       "      <th>TRR</th>\n",
       "      <th>SYS_RESPONSE</th>\n",
       "    </tr>\n",
       "  </thead>\n",
       "  <tbody>\n",
       "    <tr>\n",
       "      <th>0</th>\n",
       "      <td>Collection==['Nimble-SCI','Nimble-WEB']</td>\n",
       "      <td>0.517917</td>\n",
       "      <td>0.516901</td>\n",
       "      <td>0.1</td>\n",
       "      <td>0.019481</td>\n",
       "      <td>0.228723</td>\n",
       "      <td>0.016148</td>\n",
       "      <td>0.022018</td>\n",
       "      <td>1.0</td>\n",
       "      <td>all</td>\n",
       "    </tr>\n",
       "  </tbody>\n",
       "</table>\n",
       "</div>"
      ],
      "text/plain": [
       "                                     QUERY       AUC       EER  FAR_STOP  \\\n",
       "0  Collection==['Nimble-SCI','Nimble-WEB']  0.517917  0.516901       0.1   \n",
       "\n",
       "    AUC@FAR   CDR@FAR  AUC_CI_LOWER@FAR  AUC_CI_UPPER@FAR  TRR SYS_RESPONSE  \n",
       "0  0.019481  0.228723          0.016148          0.022018  1.0          all  "
      ]
     },
     "execution_count": 19,
     "metadata": {},
     "output_type": "execute_result"
    }
   ],
   "source": [
    "df2=pd.read_csv(\"./notebookImgs/test_c5_1-5_q_query_0_report.csv\",sep=\"|\")\n",
    "df2"
   ]
  },
  {
   "cell_type": "markdown",
   "metadata": {},
   "source": [
    "* Query (-q) with two queries\n",
    "<code>\n",
    "python DetectionScorer.py -o ./testcases/NC16_004 \\\n",
    "-t manipulation \\\n",
    "--refDir ../../data/test_suite/detectionScorerTests/reference \\\n",
    "-r NC2016-manipulation-ref.csv \\\n",
    "-x NC2016-manipulation-index.csv \\\n",
    "--sysDir ../../data/test_suite/detectionScorerTests/baseline \\\n",
    "-s Base_NC2016_Manipulation_ImgOnly_p-dct_02.csv  \\\n",
    "<b>-q \"Collection==['Nimble-SCI'] & 300 <= ProbeWidth\" \"Collection==['Nimble-WEB'] & 300 <= ProbeWidth\"</b> \\\n",
    "--ci --display\n",
    "</code>\n",
    "<img src=\"./notebookImgs/test_c5_1-6_ROC_all.png\" alt=\"ROC4\" width=\"700\" height=\"600\"  align=\"left\">"
   ]
  },
  {
   "cell_type": "code",
   "execution_count": 20,
   "metadata": {
    "collapsed": false
   },
   "outputs": [
    {
     "data": {
      "text/html": [
       "<div>\n",
       "<table border=\"1\" class=\"dataframe\">\n",
       "  <thead>\n",
       "    <tr style=\"text-align: right;\">\n",
       "      <th></th>\n",
       "      <th>QUERY</th>\n",
       "      <th>AUC</th>\n",
       "      <th>EER</th>\n",
       "      <th>FAR_STOP</th>\n",
       "      <th>AUC@FAR</th>\n",
       "      <th>CDR@FAR</th>\n",
       "      <th>AUC_CI_LOWER@FAR</th>\n",
       "      <th>AUC_CI_UPPER@FAR</th>\n",
       "      <th>TRR</th>\n",
       "      <th>SYS_RESPONSE</th>\n",
       "    </tr>\n",
       "  </thead>\n",
       "  <tbody>\n",
       "    <tr>\n",
       "      <th>0</th>\n",
       "      <td>Collection==['Nimble-SCI'] &amp; 300 &lt;= ProbeWidth</td>\n",
       "      <td>0.462995</td>\n",
       "      <td>0.565625</td>\n",
       "      <td>0.1</td>\n",
       "      <td>0.007734</td>\n",
       "      <td>0.141667</td>\n",
       "      <td>0.007776</td>\n",
       "      <td>0.015399</td>\n",
       "      <td>0.36</td>\n",
       "      <td>all</td>\n",
       "    </tr>\n",
       "  </tbody>\n",
       "</table>\n",
       "</div>"
      ],
      "text/plain": [
       "                                            QUERY       AUC       EER  \\\n",
       "0  Collection==['Nimble-SCI'] & 300 <= ProbeWidth  0.462995  0.565625   \n",
       "\n",
       "   FAR_STOP   AUC@FAR   CDR@FAR  AUC_CI_LOWER@FAR  AUC_CI_UPPER@FAR   TRR  \\\n",
       "0       0.1  0.007734  0.141667          0.007776          0.015399  0.36   \n",
       "\n",
       "  SYS_RESPONSE  \n",
       "0          all  "
      ]
     },
     "execution_count": 20,
     "metadata": {},
     "output_type": "execute_result"
    }
   ],
   "source": [
    "df3=pd.read_csv(\"./notebookImgs/test_c5_1-6_q_query_0_report.csv\",sep=\"|\")\n",
    "df3\n"
   ]
  },
  {
   "cell_type": "code",
   "execution_count": 21,
   "metadata": {
    "collapsed": false
   },
   "outputs": [
    {
     "data": {
      "text/html": [
       "<div>\n",
       "<table border=\"1\" class=\"dataframe\">\n",
       "  <thead>\n",
       "    <tr style=\"text-align: right;\">\n",
       "      <th></th>\n",
       "      <th>QUERY</th>\n",
       "      <th>AUC</th>\n",
       "      <th>EER</th>\n",
       "      <th>FAR_STOP</th>\n",
       "      <th>AUC@FAR</th>\n",
       "      <th>CDR@FAR</th>\n",
       "      <th>AUC_CI_LOWER@FAR</th>\n",
       "      <th>AUC_CI_UPPER@FAR</th>\n",
       "      <th>TRR</th>\n",
       "      <th>SYS_RESPONSE</th>\n",
       "    </tr>\n",
       "  </thead>\n",
       "  <tbody>\n",
       "    <tr>\n",
       "      <th>0</th>\n",
       "      <td>Collection==['Nimble-WEB'] &amp; 300 &lt;= ProbeWidth</td>\n",
       "      <td>0.556042</td>\n",
       "      <td>0.479198</td>\n",
       "      <td>0.1</td>\n",
       "      <td>0.022068</td>\n",
       "      <td>0.268519</td>\n",
       "      <td>0.018139</td>\n",
       "      <td>0.026435</td>\n",
       "      <td>0.64</td>\n",
       "      <td>all</td>\n",
       "    </tr>\n",
       "  </tbody>\n",
       "</table>\n",
       "</div>"
      ],
      "text/plain": [
       "                                            QUERY       AUC       EER  \\\n",
       "0  Collection==['Nimble-WEB'] & 300 <= ProbeWidth  0.556042  0.479198   \n",
       "\n",
       "   FAR_STOP   AUC@FAR   CDR@FAR  AUC_CI_LOWER@FAR  AUC_CI_UPPER@FAR   TRR  \\\n",
       "0       0.1  0.022068  0.268519          0.018139          0.026435  0.64   \n",
       "\n",
       "  SYS_RESPONSE  \n",
       "0          all  "
      ]
     },
     "execution_count": 21,
     "metadata": {},
     "output_type": "execute_result"
    }
   ],
   "source": [
    "df4=pd.read_csv(\"./notebookImgs/test_c5_1-6_q_query_1_report.csv\",sep=\"|\")\n",
    "df4"
   ]
  },
  {
   "cell_type": "markdown",
   "metadata": {},
   "source": [
    "* Query for partition (-qp) with one partition\n",
    "<code>\n",
    "python DetectionScorer.py -o ./testcases/NC16_005 \\\n",
    "-t manipulation \\\n",
    "--refDir ../../data/test_suite/detectionScorerTests/reference \\\n",
    "-r NC2016-manipulation-ref.csv \\\n",
    "-x NC2016-manipulation-index.csv \\\n",
    "--sysDir ../../data/test_suite/detectionScorerTests/baseline \\\n",
    "-s Base_NC2016_Manipulation_ImgOnly_p-dct_02.csv  \\\n",
    "<b>-qp \"Collection==['Nimble-SCI'] & 300 <= ProbeWidth\"</b> \\\n",
    "--ci --display\n",
    "\n",
    "</code>\n",
    "<img src=\"./notebookImgs/test_c5_1-6_ROC_all.png\" alt=\"ROC4\" width=\"700\" height=\"600\" align=\"left\">"
   ]
  },
  {
   "cell_type": "code",
   "execution_count": 22,
   "metadata": {
    "collapsed": false
   },
   "outputs": [
    {
     "data": {
      "text/html": [
       "<div>\n",
       "<table border=\"1\" class=\"dataframe\">\n",
       "  <thead>\n",
       "    <tr style=\"text-align: right;\">\n",
       "      <th></th>\n",
       "      <th>Unnamed: 0</th>\n",
       "      <th>Collection</th>\n",
       "      <th>ProbeWidth</th>\n",
       "      <th>AUC</th>\n",
       "      <th>EER</th>\n",
       "      <th>FAR_STOP</th>\n",
       "      <th>AUC@FAR</th>\n",
       "      <th>CDR@FAR</th>\n",
       "      <th>AUC_CI_LOWER@FAR</th>\n",
       "      <th>AUC_CI_UPPER@FAR</th>\n",
       "      <th>TRR</th>\n",
       "      <th>SYS_RESPONSE</th>\n",
       "    </tr>\n",
       "  </thead>\n",
       "  <tbody>\n",
       "    <tr>\n",
       "      <th>0</th>\n",
       "      <td>Partition_0</td>\n",
       "      <td>'Nimble-SCI'</td>\n",
       "      <td>300&lt;=ProbeWidth</td>\n",
       "      <td>0.462995</td>\n",
       "      <td>0.565625</td>\n",
       "      <td>0.1</td>\n",
       "      <td>0.007734</td>\n",
       "      <td>0.141667</td>\n",
       "      <td>0.007776</td>\n",
       "      <td>0.015399</td>\n",
       "      <td>0.36</td>\n",
       "      <td>all</td>\n",
       "    </tr>\n",
       "  </tbody>\n",
       "</table>\n",
       "</div>"
      ],
      "text/plain": [
       "    Unnamed: 0    Collection       ProbeWidth       AUC       EER  FAR_STOP  \\\n",
       "0  Partition_0  'Nimble-SCI'  300<=ProbeWidth  0.462995  0.565625       0.1   \n",
       "\n",
       "    AUC@FAR   CDR@FAR  AUC_CI_LOWER@FAR  AUC_CI_UPPER@FAR   TRR SYS_RESPONSE  \n",
       "0  0.007734  0.141667          0.007776          0.015399  0.36          all  "
      ]
     },
     "execution_count": 22,
     "metadata": {},
     "output_type": "execute_result"
    }
   ],
   "source": [
    "df5=pd.read_csv(\"./notebookImgs/test_c5_1-7_qp_query_report.csv\",sep=\"|\")\n",
    "df5"
   ]
  },
  {
   "cell_type": "markdown",
   "metadata": {},
   "source": [
    "* Query for partition (-qp) with two partitions\n",
    "<code>\n",
    "python DetectionScorer.py -o ./testcases/NC16_006 \\\n",
    "-t manipulation \\\n",
    "--refDir ../../data/test_suite/detectionScorerTests/reference \\\n",
    "-r NC2016-manipulation-ref.csv \\\n",
    "-x NC2016-manipulation-index.csv \\\n",
    "--sysDir ../../data/test_suite/detectionScorerTests/baseline \\\n",
    "-s Base_NC2016_Manipulation_ImgOnly_p-dct_02.csv \\\n",
    "<b>-qp \"Collection==['Nimble-SCI','Nimble-WEB'] & 300 <= ProbeWidth\"</b> \\\n",
    "--ci --display\n",
    "</code>\n",
    "<img src=\"./notebookImgs/test_c5_1-8_ROC_all.png\" alt=\"ROC6\" width=\"700\" height=\"600\" align=\"left\">"
   ]
  },
  {
   "cell_type": "code",
   "execution_count": 23,
   "metadata": {
    "collapsed": false
   },
   "outputs": [
    {
     "data": {
      "text/html": [
       "<div>\n",
       "<table border=\"1\" class=\"dataframe\">\n",
       "  <thead>\n",
       "    <tr style=\"text-align: right;\">\n",
       "      <th></th>\n",
       "      <th>Unnamed: 0</th>\n",
       "      <th>Collection</th>\n",
       "      <th>ProbeWidth</th>\n",
       "      <th>AUC</th>\n",
       "      <th>EER</th>\n",
       "      <th>FAR_STOP</th>\n",
       "      <th>AUC@FAR</th>\n",
       "      <th>CDR@FAR</th>\n",
       "      <th>AUC_CI_LOWER@FAR</th>\n",
       "      <th>AUC_CI_UPPER@FAR</th>\n",
       "      <th>TRR</th>\n",
       "      <th>SYS_RESPONSE</th>\n",
       "    </tr>\n",
       "  </thead>\n",
       "  <tbody>\n",
       "    <tr>\n",
       "      <th>0</th>\n",
       "      <td>Partition_0</td>\n",
       "      <td>'Nimble-SCI'</td>\n",
       "      <td>300&lt;=ProbeWidth</td>\n",
       "      <td>0.462995</td>\n",
       "      <td>0.565625</td>\n",
       "      <td>0.1</td>\n",
       "      <td>0.007734</td>\n",
       "      <td>0.141667</td>\n",
       "      <td>0.007776</td>\n",
       "      <td>0.015399</td>\n",
       "      <td>0.36</td>\n",
       "      <td>all</td>\n",
       "    </tr>\n",
       "    <tr>\n",
       "      <th>1</th>\n",
       "      <td>Partition_1</td>\n",
       "      <td>'Nimble-WEB'</td>\n",
       "      <td>300&lt;=ProbeWidth</td>\n",
       "      <td>0.556042</td>\n",
       "      <td>0.479198</td>\n",
       "      <td>0.1</td>\n",
       "      <td>0.022068</td>\n",
       "      <td>0.268519</td>\n",
       "      <td>0.018139</td>\n",
       "      <td>0.026435</td>\n",
       "      <td>0.64</td>\n",
       "      <td>all</td>\n",
       "    </tr>\n",
       "  </tbody>\n",
       "</table>\n",
       "</div>"
      ],
      "text/plain": [
       "    Unnamed: 0    Collection       ProbeWidth       AUC       EER  FAR_STOP  \\\n",
       "0  Partition_0  'Nimble-SCI'  300<=ProbeWidth  0.462995  0.565625       0.1   \n",
       "1  Partition_1  'Nimble-WEB'  300<=ProbeWidth  0.556042  0.479198       0.1   \n",
       "\n",
       "    AUC@FAR   CDR@FAR  AUC_CI_LOWER@FAR  AUC_CI_UPPER@FAR   TRR SYS_RESPONSE  \n",
       "0  0.007734  0.141667          0.007776          0.015399  0.36          all  \n",
       "1  0.022068  0.268519          0.018139          0.026435  0.64          all  "
      ]
     },
     "execution_count": 23,
     "metadata": {},
     "output_type": "execute_result"
    }
   ],
   "source": [
    "df6=pd.read_csv(\"./notebookImgs/test_c5_1-8_qp_query_report.csv\",sep=\"|\")\n",
    "df6"
   ]
  },
  {
   "cell_type": "markdown",
   "metadata": {},
   "source": [
    "* Query for selective manipulation (-qm) with two queries\n",
    "<code>\n",
    "python DetectionScorer.py -o ./testcases/NC16_010 \\\n",
    "-t manipulation \\\n",
    "--refDir ../../data/test_suite/detectionScorerTests/reference \\\n",
    "-r NC2016-manipulation-ref.csv \\\n",
    "-x NC2016-manipulation-index.csv \\\n",
    "--sysDir ../../data/test_suite/detectionScorerTests/baseline \\\n",
    "-s Base_NC2016_Manipulation_ImgOnly_p-dct_02.csv \\\n",
    " <b>-qm \"Collection==['Nimble-SCI'] & IsManipulationTypeRemoval==['Y']\" \"Collection==['Nimble-WEB'] & IsManipulationTypeRemoval==['Y']\"</b> \\\n",
    "--display\n",
    "</code>\n",
    "<img src=\"./notebookImgs/test_c5_1-9_ROC_all.png\" alt=\"ROC111\" width=\"700\" height=\"600\" align=\"left\">"
   ]
  },
  {
   "cell_type": "code",
   "execution_count": 24,
   "metadata": {
    "collapsed": false
   },
   "outputs": [
    {
     "data": {
      "text/html": [
       "<div>\n",
       "<table border=\"1\" class=\"dataframe\">\n",
       "  <thead>\n",
       "    <tr style=\"text-align: right;\">\n",
       "      <th></th>\n",
       "      <th>QUERY</th>\n",
       "      <th>AUC</th>\n",
       "      <th>EER</th>\n",
       "      <th>FAR_STOP</th>\n",
       "      <th>AUC@FAR</th>\n",
       "      <th>CDR@FAR</th>\n",
       "      <th>AUC_CI_LOWER@FAR</th>\n",
       "      <th>AUC_CI_UPPER@FAR</th>\n",
       "      <th>TRR</th>\n",
       "      <th>SYS_RESPONSE</th>\n",
       "    </tr>\n",
       "  </thead>\n",
       "  <tbody>\n",
       "    <tr>\n",
       "      <th>0</th>\n",
       "      <td>Collection==['Nimble-SCI'] &amp; IsManipulationTyp...</td>\n",
       "      <td>0.4525</td>\n",
       "      <td>0.594643</td>\n",
       "      <td>0.1</td>\n",
       "      <td>0.009464</td>\n",
       "      <td>0.1875</td>\n",
       "      <td>0</td>\n",
       "      <td>0</td>\n",
       "      <td>0.57</td>\n",
       "      <td>all</td>\n",
       "    </tr>\n",
       "  </tbody>\n",
       "</table>\n",
       "</div>"
      ],
      "text/plain": [
       "                                               QUERY     AUC       EER  \\\n",
       "0  Collection==['Nimble-SCI'] & IsManipulationTyp...  0.4525  0.594643   \n",
       "\n",
       "   FAR_STOP   AUC@FAR  CDR@FAR  AUC_CI_LOWER@FAR  AUC_CI_UPPER@FAR   TRR  \\\n",
       "0       0.1  0.009464   0.1875                 0                 0  0.57   \n",
       "\n",
       "  SYS_RESPONSE  \n",
       "0          all  "
      ]
     },
     "execution_count": 24,
     "metadata": {},
     "output_type": "execute_result"
    }
   ],
   "source": [
    "df10=pd.read_csv(\"./notebookImgs/test_c5_1-9_qm_query_0_report.csv\", sep=\"|\")\n",
    "df10"
   ]
  },
  {
   "cell_type": "code",
   "execution_count": 25,
   "metadata": {
    "collapsed": false
   },
   "outputs": [
    {
     "data": {
      "text/html": [
       "<div>\n",
       "<table border=\"1\" class=\"dataframe\">\n",
       "  <thead>\n",
       "    <tr style=\"text-align: right;\">\n",
       "      <th></th>\n",
       "      <th>QUERY</th>\n",
       "      <th>AUC</th>\n",
       "      <th>EER</th>\n",
       "      <th>FAR_STOP</th>\n",
       "      <th>AUC@FAR</th>\n",
       "      <th>CDR@FAR</th>\n",
       "      <th>AUC_CI_LOWER@FAR</th>\n",
       "      <th>AUC_CI_UPPER@FAR</th>\n",
       "      <th>TRR</th>\n",
       "      <th>SYS_RESPONSE</th>\n",
       "    </tr>\n",
       "  </thead>\n",
       "  <tbody>\n",
       "    <tr>\n",
       "      <th>0</th>\n",
       "      <td>Collection==['Nimble-WEB'] &amp; IsManipulationTyp...</td>\n",
       "      <td>0.590206</td>\n",
       "      <td>0.436607</td>\n",
       "      <td>0.1</td>\n",
       "      <td>0.024261</td>\n",
       "      <td>0.273438</td>\n",
       "      <td>0</td>\n",
       "      <td>0</td>\n",
       "      <td>0.61</td>\n",
       "      <td>all</td>\n",
       "    </tr>\n",
       "  </tbody>\n",
       "</table>\n",
       "</div>"
      ],
      "text/plain": [
       "                                               QUERY       AUC       EER  \\\n",
       "0  Collection==['Nimble-WEB'] & IsManipulationTyp...  0.590206  0.436607   \n",
       "\n",
       "   FAR_STOP   AUC@FAR   CDR@FAR  AUC_CI_LOWER@FAR  AUC_CI_UPPER@FAR   TRR  \\\n",
       "0       0.1  0.024261  0.273438                 0                 0  0.61   \n",
       "\n",
       "  SYS_RESPONSE  \n",
       "0          all  "
      ]
     },
     "execution_count": 25,
     "metadata": {},
     "output_type": "execute_result"
    }
   ],
   "source": [
    "df11=pd.read_csv(\"./notebookImgs/test_c5_1-9_qm_query_1_report.csv\", sep=\"|\")\n",
    "df11"
   ]
  },
  {
   "cell_type": "markdown",
   "metadata": {},
   "source": [
    "* --multiFigs with the query option\n",
    "<code>\n",
    "python DetectionScorer.py -o ./testcases/NC16_007 \\\n",
    "-t manipulation \\\n",
    "--refDir ../../data/test_suite/detectionScorerTests/reference \\\n",
    "-r NC2016-manipulation-ref.csv \\\n",
    "-x NC2016-manipulation-index.csv \\\n",
    "--sysDir ../../data/test_suite/detectionScorerTests/baseline \\\n",
    "-s Base_NC2016_Manipulation_ImgOnly_p-dct_02.csv \\\n",
    "<b>-qp \"Collection==['Nimble-SCI','Nimble-WEB'] & 300 <= ProbeWidth\" --multiFigs</b> \\\n",
    "--ci --display\n",
    "</code>\n",
    "<img src=\"./notebookImgs/NC16_007_roc_combine.png\" alt=\"ROC7\" width=\"1000\" height=\"700\" align=\"left\">"
   ]
  },
  {
   "cell_type": "markdown",
   "metadata": {},
   "source": [
    "#### * Splice Task"
   ]
  },
  {
   "cell_type": "markdown",
   "metadata": {},
   "source": [
    "Note that the following result may not be consistent with your result due to the number inconsistency of NC2016 data.\n",
    "<code>\n",
    "python DetectionScorer.py -o ./testcases/NC16_100 \\\n",
    "<b>-t splice</b> \\\n",
    "--refDir ../../data/test_suite/detectionScorerTests/reference \\\n",
    "-r NC2016-splice-ref.csv -x NC2016-splice-index.csv \\\n",
    "--sysDir ../../data/test_suite/detectionScorerTests/baseline \\\n",
    "-s Base_NC2016_Splice_ImgOnly_p-splice_01.csv \\\n",
    "--ci --display\n",
    "</code>\n",
    "<img src=\"./notebookImgs/test_c5_1-11_ROC_all.png\" alt=\"ROC8\" width=\"500\" height=\"400\" align=\"left\">"
   ]
  },
  {
   "cell_type": "code",
   "execution_count": 26,
   "metadata": {
    "collapsed": false
   },
   "outputs": [
    {
     "data": {
      "text/html": [
       "<div>\n",
       "<table border=\"1\" class=\"dataframe\">\n",
       "  <thead>\n",
       "    <tr style=\"text-align: right;\">\n",
       "      <th></th>\n",
       "      <th>AUC</th>\n",
       "      <th>EER</th>\n",
       "      <th>FAR_STOP</th>\n",
       "      <th>AUC@FAR</th>\n",
       "      <th>CDR@FAR</th>\n",
       "      <th>AUC_CI_LOWER@FAR</th>\n",
       "      <th>AUC_CI_UPPER@FAR</th>\n",
       "      <th>TRR</th>\n",
       "      <th>SYS_RESPONSE</th>\n",
       "    </tr>\n",
       "  </thead>\n",
       "  <tbody>\n",
       "    <tr>\n",
       "      <th>0</th>\n",
       "      <td>0.86436</td>\n",
       "      <td>0.23348</td>\n",
       "      <td>0.1</td>\n",
       "      <td>0.068703</td>\n",
       "      <td>0.716667</td>\n",
       "      <td>0.060427</td>\n",
       "      <td>0.070878</td>\n",
       "      <td>1.0</td>\n",
       "      <td>all</td>\n",
       "    </tr>\n",
       "  </tbody>\n",
       "</table>\n",
       "</div>"
      ],
      "text/plain": [
       "       AUC      EER  FAR_STOP   AUC@FAR   CDR@FAR  AUC_CI_LOWER@FAR  \\\n",
       "0  0.86436  0.23348       0.1  0.068703  0.716667          0.060427   \n",
       "\n",
       "   AUC_CI_UPPER@FAR  TRR SYS_RESPONSE  \n",
       "0          0.070878  1.0          all  "
      ]
     },
     "execution_count": 26,
     "metadata": {},
     "output_type": "execute_result"
    }
   ],
   "source": [
    "df6=pd.read_csv(\"./notebookImgs/test_c5_1-11_all_report.csv\", sep=\"|\")\n",
    "df6"
   ]
  },
  {
   "cell_type": "markdown",
   "metadata": {},
   "source": [
    "### NC2017 Dataset Testcases"
   ]
  },
  {
   "cell_type": "markdown",
   "metadata": {},
   "source": [
    "#### * Manipulation Task"
   ]
  },
  {
   "cell_type": "markdown",
   "metadata": {},
   "source": [
    "* Full scoring: rendering ROC curve\n",
    "<code>\n",
    "python DetectionScorer.py -o ./testcases/NC17_001 \\\n",
    "-t manipulation \\\n",
    "--refDir ../../data/test_suite/detectionScorerTests/ \\\n",
    "-r reference/NC2017-manipulation-ref.csv \\\n",
    "-x reference/NC2017-manipulation-index.csv \\\n",
    "--sysDir ../../data/test_suite/detectionScorerTests/baseline \\\n",
    "-s Base_NC2017_Manipulation_ImgOnly_p-copymove_01.csv \\\n",
    "--ci --display\n",
    "</code>\n",
    "<img src=\"./notebookImgs/test_c5_1-12_ROC_all.png\" alt=\"ROC9\" width=\"500\" height=\"400\" align=\"left\">"
   ]
  },
  {
   "cell_type": "code",
   "execution_count": 27,
   "metadata": {
    "collapsed": false
   },
   "outputs": [
    {
     "data": {
      "text/html": [
       "<div>\n",
       "<table border=\"1\" class=\"dataframe\">\n",
       "  <thead>\n",
       "    <tr style=\"text-align: right;\">\n",
       "      <th></th>\n",
       "      <th>AUC</th>\n",
       "      <th>EER</th>\n",
       "      <th>FAR_STOP</th>\n",
       "      <th>AUC@FAR</th>\n",
       "      <th>CDR@FAR</th>\n",
       "      <th>AUC_CI_LOWER@FAR</th>\n",
       "      <th>AUC_CI_UPPER@FAR</th>\n",
       "      <th>TRR</th>\n",
       "      <th>SYS_RESPONSE</th>\n",
       "    </tr>\n",
       "  </thead>\n",
       "  <tbody>\n",
       "    <tr>\n",
       "      <th>0</th>\n",
       "      <td>0.679533</td>\n",
       "      <td>0.328889</td>\n",
       "      <td>0.1</td>\n",
       "      <td>0.024756</td>\n",
       "      <td>0.433976</td>\n",
       "      <td>0.015407</td>\n",
       "      <td>0.034555</td>\n",
       "      <td>1.0</td>\n",
       "      <td>all</td>\n",
       "    </tr>\n",
       "  </tbody>\n",
       "</table>\n",
       "</div>"
      ],
      "text/plain": [
       "        AUC       EER  FAR_STOP   AUC@FAR   CDR@FAR  AUC_CI_LOWER@FAR  \\\n",
       "0  0.679533  0.328889       0.1  0.024756  0.433976          0.015407   \n",
       "\n",
       "   AUC_CI_UPPER@FAR  TRR SYS_RESPONSE  \n",
       "0          0.034555  1.0          all  "
      ]
     },
     "execution_count": 27,
     "metadata": {},
     "output_type": "execute_result"
    }
   ],
   "source": [
    "df7=pd.read_csv(\"./notebookImgs/test_c5_1-12_all_report.csv\", sep=\"|\")\n",
    "df7"
   ]
  },
  {
   "cell_type": "markdown",
   "metadata": {},
   "source": [
    "<b>The tables are omitted from now on.</b>"
   ]
  },
  {
   "cell_type": "markdown",
   "metadata": {},
   "source": [
    "* Query (-q) with two queries\n",
    "<code>\n",
    "python DetectionScorer.py -o ./testcases/NC17_002 \\\n",
    "-t manipulation \\\n",
    "--refDir ../../data/test_suite/detectionScorerTests/ \\\n",
    "-r reference/NC2017-manipulation-ref.csv \\\n",
    "-x reference/NC2017-manipulation-index.csv \\\n",
    "--sysDir ../../data/test_suite/detectionScorerTests/baseline \\\n",
    "-s Base_NC2017_Manipulation_ImgOnly_p-copymove_01.csv \\\n",
    "<b>-q \"(Purpose ==['remove'] and IsTarget == ['Y']) or IsTarget == ['N']\" \"(Purpose ==['clone'] and IsTarget == ['Y']) or IsTarget == ['N']\"</b> \\\n",
    "--display\n",
    "</code>\n",
    "<img src=\"./notebookImgs/test_c5_1-13_ROC_all.png\" alt=\"ROC17_002\" width=\"700\" height=\"600\" align=\"left\">"
   ]
  },
  {
   "cell_type": "markdown",
   "metadata": {},
   "source": [
    "* Query for selective manipulation (-qm) with the factor \"Purpose\"\n",
    "<code>\n",
    "python DetectionScorer.py -o ./testcases/NC17_003 \\\n",
    "-t manipulation \\\n",
    "--refDir ../../data/test_suite/detectionScorerTests/ \\\n",
    "-r reference/NC2017-manipulation-ref.csv \\\n",
    "-x reference/NC2017-manipulation-index.csv \\\n",
    "--sysDir ../../data/test_suite/detectionScorerTests/baseline \\\n",
    "-s Base_NC2017_Manipulation_ImgOnly_p-copymove_01.csv \\\n",
    "<b>-qm \"Purpose==['remove']\" \"Purpose==['clone']\"</b> \\\n",
    "--display\n",
    "</code>\n",
    "<img src=\"./notebookImgs/test_c5_1-14_ROC_all.png\" alt=\"ROC17_003\" width=\"700\" height=\"600\" align=\"left\">"
   ]
  },
  {
   "cell_type": "markdown",
   "metadata": {},
   "source": [
    "* Query for selective manipulation (-qm) with the factor \"OperationArgument\"\n",
    "<code>\n",
    "python DetectionScorer.py -o ./testcases/NC17_004 \\\n",
    "-t manipulation \\\n",
    "--refDir ../../data/test_suite/detectionScorerTests/ \\\n",
    "-r reference/NC2017-manipulation-ref.csv \\\n",
    "-x reference/NC2017-manipulation-index.csv \\\n",
    "--sysDir ../../data/test_suite/detectionScorerTests/baseline \\\n",
    "-s Base_NC2017_Manipulation_ImgOnly_p-copymove_01.csv \\\n",
    "<b>-qm \"OperationArgument==['people','face']\" \"OperationArgument==['man-made object','landscape']\"</b> \\\n",
    "--display\n",
    "</code>\n",
    "<img src=\"./notebookImgs/test_c5_1-15_ROC_all.png\" alt=\"ROC17_004\" width=\"700\" height=\"600\" align=\"left\">"
   ]
  },
  {
   "cell_type": "markdown",
   "metadata": {},
   "source": [
    "* Query for selective manipulation (-qm) with the mixed of factors\n",
    "<code>\n",
    "python DetectionScorer.py -o ./testcases/NC17_005 \\\n",
    "-t manipulation \\\n",
    "--refDir ../../data/test_suite/detectionScorerTests/ \\\n",
    "-r reference/NC2017-manipulation-ref.csv \\\n",
    "-x reference/NC2017-manipulation-index.csv \\\n",
    "--sysDir ../../data/test_suite/detectionScorerTests/baseline \\\n",
    "-s Base_NC2017_Manipulation_ImgOnly_p-copymove_01.csv \\\n",
    "<b>-qm \"Purpose==['remove'] and Operation ==['FillContentAwareFill']\"</b> \\\n",
    "--display\n",
    "</code>\n",
    "<img src=\"./notebookImgs/test_c5_1-16_ROC_all.png\" alt=\"ROC17_005\" width=\"700\" height=\"600\" align=\"left\">"
   ]
  },
  {
   "cell_type": "markdown",
   "metadata": {},
   "source": [
    "### Disclaimer\n",
    "\n",
    "This software was developed at the National Institute of Standards\n",
    "and Technology (NIST) by employees of the Federal Government in the\n",
    "course of their official duties. Pursuant to Title 17 Section 105\n",
    "of the United States Code, this software is not subject to copyright\n",
    "protection and is in the public domain. NIST assumes no responsibility\n",
    "whatsoever for use by other parties of its source code or open source\n",
    "server, and makes no guarantees, expressed or implied, about its quality,\n",
    "reliability, or any other characteristic.\n"
   ]
  }
 ],
 "metadata": {
  "anaconda-cloud": {},
  "kernelspec": {
   "display_name": "Python 2",
   "language": "python",
   "name": "python2"
  },
  "language_info": {
   "codemirror_mode": {
    "name": "ipython",
    "version": 2
   },
   "file_extension": ".py",
   "mimetype": "text/x-python",
   "name": "python",
   "nbconvert_exporter": "python",
   "pygments_lexer": "ipython2",
   "version": "2.7.13"
  }
 },
 "nbformat": 4,
 "nbformat_minor": 1
}
