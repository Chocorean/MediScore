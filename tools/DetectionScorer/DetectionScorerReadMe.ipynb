{
 "cells": [
  {
   "cell_type": "markdown",
   "metadata": {},
   "source": [
    "# Detection Scorer"
   ]
  },
  {
   "cell_type": "markdown",
   "metadata": {},
   "source": [
    "## Description"
   ]
  },
  {
   "cell_type": "markdown",
   "metadata": {},
   "source": [
    "<p>The purpose of this script is to evaluate the accuracy of the image tampering detection algorithms in multimedia forensics. The script currently supports an evaluation of two distinctive detection tasks, namely 1) Manipulation Detection and 2) Splice Detection. The Manipulation detection task is to detect whether or not a probe image has been manipulated. The Splice detection task is to detect if a region of the other source (donor) image has been spliced into a probe image.  Please refer the detailed information in the document \"Nimble Challenge 2017 Evaluation Data and Tool\" </p>   \n",
    "<p>The script calculates performance measures of AUC (Area Under Curve) and EER (Equal Error Rate)\n",
    "based on a system's output (e.g., confidence scores) for the tasks described above. The output is a report table (CSV) that includes the measures of AUC, EER, and AUC_CI (confidence interval for AUC), and a graphical plot (PDF) that supports either ROC (receiver operating characteristic) or DET (detection error tradeoff) for algorithm performance results. In addition, this script allows the user to evaluate their algorithm performance on either subsets or partitions of the data set based on the specified queries.</p> \n"
   ]
  },
  {
   "cell_type": "markdown",
   "metadata": {},
   "source": [
    "## Command-line Options"
   ]
  },
  {
   "cell_type": "markdown",
   "metadata": {},
   "source": [
    "Syntax:\n",
    "<code>\n",
    "python DetectionScorer.py [OPTIONS] -r inRef -x inIndex -s inSys\n",
    "</code>\n"
   ]
  },
  {
   "cell_type": "markdown",
   "metadata": {},
   "source": [
    "The command-line options for detection scorer can be categorized as follows:"
   ]
  },
  {
   "cell_type": "markdown",
   "metadata": {},
   "source": [
    "### Task Type Options:"
   ]
  },
  {
   "cell_type": "markdown",
   "metadata": {},
   "source": [
    "-t --task [manipulation, splice]\n",
    "\n",
    "  * Define the target manipulation task type for evaluation (default = manipulation). This is a value of the \"TaskID\" column in the index file. "
   ]
  },
  {
   "cell_type": "markdown",
   "metadata": {},
   "source": [
    "### Input Options:"
   ]
  },
  {
   "cell_type": "markdown",
   "metadata": {},
   "source": [
    "--refDir\n",
    "\n",
    "  * Specify the reference and index data path, for example \"/NC2016_Test\" (default = .)\n"
   ]
  },
  {
   "cell_type": "markdown",
   "metadata": {},
   "source": [
    "-r --inRef\n",
    "\n",
    "  * Specify the reference CSV file (under the refDir folder) that contains the ground-truth and metadata information\n",
    "  * For example, the fields are: TaskID|ProbeFileID|ProbeFileName|ProbeMaskFileName|...             "
   ]
  },
  {
   "cell_type": "markdown",
   "metadata": {},
   "source": [
    "-x --inIndex\n",
    "\n",
    "  * Specify the index CSV file\n",
    "  * For example, the fields are: TaskID|ProbeFileID|ProbeFileName|ProbeWidth|ProbeHeight"
   ]
  },
  {
   "cell_type": "markdown",
   "metadata": {},
   "source": [
    "--sysDir\n",
    "\n",
    "  * Specify the system output data path, for example \"mysysoutput/\" (default = .) \n"
   ]
  },
  {
   "cell_type": "markdown",
   "metadata": {},
   "source": [
    "-s --inSys\n",
    "\n",
    "  * Specify the CSV file of the system performance result formatted according to the specification"
   ]
  },
  {
   "cell_type": "markdown",
   "metadata": {},
   "source": [
    "### Metric Options:"
   ]
  },
  {
   "cell_type": "markdown",
   "metadata": {},
   "source": [
    "--farStop\n",
    "\n",
    " * Specify the stop point of FAR for calculating partial AUC. The default (1) provides the full AUC value.\n",
    "    \n"
   ]
  },
  {
   "cell_type": "markdown",
   "metadata": {},
   "source": [
    "--ci\n",
    "\n",
    "   * Calculate the lower and upper confidence interval for AUC if this option is specified. The option will slowdown the speed due to the bootstrapping method."
   ]
  },
  {
   "cell_type": "markdown",
   "metadata": {},
   "source": [
    "--ciLevel\n",
    "\n",
    "   * Specify the confidence level (range [0.8, 0.99]) to calculate the lower and upper confidence interval for AUC. The default is 0.9. "
   ]
  },
  {
   "cell_type": "markdown",
   "metadata": {},
   "source": [
    "--dLevel\n",
    "\n",
    "  * Define the lower and upper exclusions (range [0, 0.3]) for d-prime calculation. The default is 0.\n",
    "    Note that the d-prime specified in the plot is the maximum d-prime."
   ]
  },
  {
   "cell_type": "markdown",
   "metadata": {},
   "source": [
    "### Output Options:"
   ]
  },
  {
   "cell_type": "markdown",
   "metadata": {},
   "source": [
    "--outRoot\n",
    "\n",
    "  * Specify the report output path and the file name prefix for saving the plot(s) and table (s). For example, if you specify \"--outRoot test/NIST_001\", you will find the plot \"NIST_001_det.png\" and the table \"NIST_001_report.csv\" in the \"test\" folder (default =.)\n"
   ]
  },
  {
   "cell_type": "markdown",
   "metadata": {},
   "source": [
    "--dump\n",
    "\n",
    "   * Save the dump files (formatted as a binary) that contains a list of FAR, FPR, TPR, threshold, AUC, and EER values. The purpose of the dump files is to load the point values for further analysis without calculating the values again.\n",
    "   <pre>\n",
    "   - Dump file output: NIST_001_query_0.dm, NIST_001_query_1.dm, ...\n",
    "   </pre>"
   ]
  },
  {
   "cell_type": "markdown",
   "metadata": {},
   "source": [
    "-v --verbose\n",
    "\n",
    "   * Print output with procedure messages on the command-line if this option is specified."
   ]
  },
  {
   "cell_type": "markdown",
   "metadata": {},
   "source": [
    "### Plot Options:"
   ]
  },
  {
   "cell_type": "markdown",
   "metadata": {},
   "source": [
    "--plotType [det, roc]\n",
    "\n",
    "  * Define the plot type (default = roc)\n"
   ]
  },
  {
   "cell_type": "markdown",
   "metadata": {},
   "source": [
    "--display\n",
    "\n",
    "  * Display a window with the plot (s) on the command-line if this option is specified (default = False) \n"
   ]
  },
  {
   "cell_type": "markdown",
   "metadata": {},
   "source": [
    "--multiFigs\n",
    "* Generate a single curve plot per partition\n",
    "  <pre>\n",
    "  Plot output: NIST_001_f_roc_0.pdf, NIST_001_f_roc_1.pdf, ...\n",
    "  </pre>"
   ]
  },
  {
   "cell_type": "markdown",
   "metadata": {},
   "source": [
    "### Custom Plot Options:"
   ]
  },
  {
   "cell_type": "markdown",
   "metadata": {},
   "source": [
    "--configPlot\n",
    "\n",
    "  * Open a JSON file that allows the user to customize the plot (e.g. change the title font size) by augmenting the json files located in the \"plotJsonFiles\" folder (e.g., plotJsonFiles/plot_options.json).\n",
    "\n",
    "An example:\n",
    "```json\n",
    "{\"title\": \"DET\",\n",
    " \"plot_type\": \"DET\",\n",
    " \"title_fontsize\": 15,\n",
    " \"xticks_size\": \"medium\",\n",
    " \"yticks_size\": \"medium\",\n",
    " \"xlabel\": \"False Alarm Rate [%]\",\n",
    " \"xlabel_fontsize\": 12,\n",
    " \"ylabel\": \"Miss Detection Rate [%]\",\n",
    " \"ylabel_fontsize\": 12}\n",
    " ```"
   ]
  },
  {
   "cell_type": "markdown",
   "metadata": {},
   "source": [
    "### OptOut Options:"
   ]
  },
  {
   "cell_type": "markdown",
   "metadata": {},
   "source": [
    "--optOut\n",
    "\n",
    "  * Evaluate algorithm performance on trials where IsOptOut values are 'N'."
   ]
  },
  {
   "cell_type": "markdown",
   "metadata": {},
   "source": [
    "### Performance Evaluation by Query Options:"
   ]
  },
  {
   "cell_type": "markdown",
   "metadata": {},
   "source": [
    "The set of the following options allow the user to evaluate their algorithm performance on either subsets or partitions of the data set based on the specified queries. These options utilize Pandas’ queries to produce scoring reports using the metadata (e.g., Operation| Color| Purpose| OperationArgument| ...) within the reference file to subset/partition of the scored data.  There are three types of analysis supported:\n",
    "\n",
    "* Query (-q --query): this option allows the user to specify multiple queries. Each query filters both target and non-target trials and then processes one scoring run of the system output to generate the requested scoring report.\n",
    "* Query for partitions (-qp --queryPartition): this option allows the user to specify one query. The query separates the data set into M partitions by filtering both target and non-target trials and processes one or multiple scoring runs of the system output to generate the requested scoring report.\n",
    "* Query for selective manipulations (-qm --queryManipulation): this option allows the user to specify multiple queries. Each query restricts filtering to target trials only (while using all non-target trials) to generate the requested scoring report."
   ]
  },
  {
   "cell_type": "markdown",
   "metadata": {},
   "source": [
    "-q --query\n",
    "\n",
    "* Evaluate algorithm performance selecting the targets and non-targets via a query. Multiple queries can be used. Depending on the number (N) of queries, the option generates N report tables (CSV) and one plot (PDF) that contains N curves.\n",
    "  + Syntax : -q \"query1\" \"query2\" \"query3\" ... \n",
    "   ```\n",
    "   - The syntax is the same with Pandas' query syntax. Please see the detailed query rule in the website: http://pandas.pydata.org/pandas-docs/stable/indexing.html#indexing-query.\n",
    "   Examples:\n",
    "   % -q \"Collection==['Nimble-SCI']\" => 1 query\n",
    "   % -q \"Collection==['Nimble-SCI'] and PostProcessing=['rescale']\" => 1 query\n",
    "   % -q \"Collection==['Nimble-SCI','Nimble-WEB']\" \"PostProcessing=['rescale']\" \"200<ProbeWidth<=3000\" => 3 queries\n",
    "   ```\n",
    "  + Output: \n",
    "   ```\n",
    "   - CSV report: NIST_001_q_query0.csv, NIST_001_q_query1.csv, ...\n",
    "   - PDF plot: NIST_001_roc_all.pdf\n",
    "   - DM file (using --dump): NIST_001_query0.dm, NIST_001_query1.dm, ...\n",
    "   ```"
   ]
  },
  {
   "cell_type": "markdown",
   "metadata": {},
   "source": [
    "-qp --queryPartition\n",
    "\n",
    "* Evaluate algorithm performance partitioning the dataset via a query.  The partitions are automatically determined based on the metadata factors identified in the query.  Depending on the number (M) of partitions provided by the cartesian product on query conditions, this option generates a single report table (CSV) that contains M partition results and one plot that contains M curves.\n",
    "  + Syntax : -fp \"query\"\n",
    "   ```\n",
    "   - The query syntax only allows the three operators \"==[]\", \"<\", and \"<=\".\n",
    "   Examples: \n",
    "   % -qp \"Collection==['Nimble-SCI']\" => 1 partition\n",
    "   % -qp \"Collection==['Nimble-SCI','Nimble-WEB'] & PostProcessing=['rescale']\" => 2 partitions\n",
    "   % -qp \"Collection==['Nimble-SCI','Nimble-WEB'] & PostProcessing=['rescale','noise']\" => 4 partitions\n",
    "   ```\n",
    "  + Output: \n",
    "   ``` \n",
    "   - CSV report: NIST_001_qp_query.csv\n",
    "   - PDF plot: NIST_001_roc_all.pdf\n",
    "   - DM file (using --dump): NIST_001_query0.dm, NIST_001_query1.dm, ...\n",
    "   ```"
   ]
  },
  {
   "cell_type": "markdown",
   "metadata": {},
   "source": [
    "-qm --queryManipulation\n",
    "\n",
    "* This option is similar to the '-q' option; however, the queries are only applied to the target trials (IsTarget == 'Y') while all non-target trials are used. Depending on the number (N) of queries, the option generates N report tables (CSV) and one plot (PDF) that contains N curves.\n",
    "  + Syntax : -qm \"query1\" \"query2\" \"query3\" ... \n",
    "   ```\n",
    "   - The syntax is the same with Pandas' query syntax, \n",
    "     note that your query will be converted as to (\"query\" and IsTarget == ['Y']) or IsTarget == ['N'])\n",
    "   Examples:\n",
    "   % -qm \"Purpose==['remove']\" => 1 query\n",
    "   % -qm \"Operation==['PasteSplice']\" \"Operation==['FillContentAwareFill']\" => 2 query\n",
    "   % -qm \"Purpose==['remove']\" \"Purpose==['add']\" \"Purpose==['splice']\"=> 3 queries\n",
    "   ```\n",
    "  + Output: \n",
    "   ```\n",
    "   - CSV report: NIST_001_qm_query0.csv, NIST_001_qm_query1.csv, ...\n",
    "   - PDF plot: NIST_001_roc_all.pdf\n",
    "   - DM file (using --dump): NIST_001_query0.dm, NIST_001_query1.dm, ...\n",
    "   ```"
   ]
  },
  {
   "cell_type": "markdown",
   "metadata": {},
   "source": [
    "## Command-line Usage"
   ]
  },
  {
   "cell_type": "markdown",
   "metadata": {},
   "source": [
    "### NC2016 Dataset Testcases"
   ]
  },
  {
   "cell_type": "markdown",
   "metadata": {},
   "source": [
    "#### * Manipulation Task"
   ]
  },
  {
   "cell_type": "markdown",
   "metadata": {},
   "source": [
    "* Full scoring: rendering the ROC curve and the report table,\n",
    "<code>\n",
    "python DetectionScorer.py -t manipulation --refDir ../../data/test_suite/detectionScorerTests/reference -r NC2016-manipulation-ref.csv -x NC2016-manipulation-index.csv --sysDir ../../data/test_suite/detectionScorerTests/baseline -s Base_NC2016_Manipulation_ImgOnly_p-dct_02.csv --outRoot ./testcases/NC16_001 --ci --display\n",
    "</code>\n",
    "<img src=\"./notebookImgs/NC16_001_roc_all1.png\" alt=\"Default ROC curve\" width=\"500\" height=\"400\" align=\"left\">"
   ]
  },
  {
   "cell_type": "code",
   "execution_count": 1,
   "metadata": {
    "collapsed": false
   },
   "outputs": [
    {
     "data": {
      "text/html": [
       "<script>jQuery(function() {if (jQuery(\"body.notebook_app\").length == 0) { jQuery(\".input_area\").toggle(); jQuery(\".prompt\").toggle();}});</script>"
      ]
     },
     "metadata": {},
     "output_type": "display_data"
    },
    {
     "data": {
      "text/html": [
       "<div>\n",
       "<table border=\"1\" class=\"dataframe\">\n",
       "  <thead>\n",
       "    <tr style=\"text-align: right;\">\n",
       "      <th></th>\n",
       "      <th>AUC</th>\n",
       "      <th>FAR_STOP</th>\n",
       "      <th>EER</th>\n",
       "      <th>AUC_CI_LOWER</th>\n",
       "      <th>AUC_CI_UPPER</th>\n",
       "    </tr>\n",
       "  </thead>\n",
       "  <tbody>\n",
       "    <tr>\n",
       "      <th>0</th>\n",
       "      <td>0.517917</td>\n",
       "      <td>1</td>\n",
       "      <td>0.516901</td>\n",
       "      <td>0.492906</td>\n",
       "      <td>0.54328</td>\n",
       "    </tr>\n",
       "  </tbody>\n",
       "</table>\n",
       "</div>"
      ],
      "text/plain": [
       "        AUC  FAR_STOP       EER  AUC_CI_LOWER  AUC_CI_UPPER\n",
       "0  0.517917         1  0.516901      0.492906       0.54328"
      ]
     },
     "execution_count": 1,
     "metadata": {},
     "output_type": "execute_result"
    }
   ],
   "source": [
    "import IPython.core.display as di\n",
    "# This line will hide code by default when the notebook is exported as HTML\n",
    "di.display_html('<script>jQuery(function() {if (jQuery(\"body.notebook_app\").length == 0) { jQuery(\".input_area\").toggle(); jQuery(\".prompt\").toggle();}});</script>', raw=True)\n",
    "import pandas as pd\n",
    "df1=pd.read_csv(\"./notebookImgs/NC16_001_all.csv\")\n",
    "df1"
   ]
  },
  {
   "cell_type": "markdown",
   "metadata": {},
   "source": [
    "* Full scoring: rendering DET curve:\n",
    "<code>\n",
    "python DetectionScorer.py -t manipulation --refDir ../../data/test_suite/detectionScorerTests/reference -r NC2016-manipulation-ref.csv -x NC2016-manipulation-index.csv --sysDir ../../data/test_suite/detectionScorerTests/baseline -s Base_NC2016_Manipulation_ImgOnly_p-dct_02.csv --outRoot ./testcases/NC16_002 --plotType det --display\n",
    "</code>\n",
    "<img src=\"./notebookImgs/NC16_002_det_all.png\" alt=\"ROC2\" width=\"500\" height=\"400\" align=\"left\">"
   ]
  },
  {
   "cell_type": "markdown",
   "metadata": {},
   "source": [
    "* OptOut (IsOptOut =='N') scoring\n",
    "<code>\n",
    "python DetectionScorer.py -t manipulation --refDir ../../data/test_suite/detectionScorerTests/reference -r NC2016-manipulation-ref.csv -x NC2016-manipulation-index.csv --sysDir ../../data/test_suite/detectionScorerTests/baseline -s Base_NC2016_Manipulation_ImgOnly_p-dct_02_optout.csv --outRoot ./testcases/NC16_101 --optOut --dLevel 0.1 --ci --display\n",
    "</code>\n",
    "<img src=\"./notebookImgs/NC16_101_roc_all.png\" alt=\"Default ROC curve\" width=\"500\" height=\"400\" align=\"left\">"
   ]
  },
  {
   "cell_type": "markdown",
   "metadata": {},
   "source": [
    "* Query (-q) with one query\n",
    "<code>\n",
    "python DetectionScorer.py -t manipulation --refDir ../../data/test_suite/detectionScorerTests/reference -r NC2016-manipulation-ref.csv -x NC2016-manipulation-index.csv --sysDir ../../data/test_suite/detectionScorerTests/baseline -s Base_NC2016_Manipulation_ImgOnly_p-dct_02.csv --outRoot ./testcases/NC16_003 <b>-q \"Collection==['Nimble-SCI','Nimble-WEB']\"</b> --ci --display\n",
    "</code>\n",
    "<img src=\"./notebookImgs/NC16_003_roc_all.png\" alt=\"ROC3\" width=\"700\" height=\"600\" align=\"left\">"
   ]
  },
  {
   "cell_type": "code",
   "execution_count": 2,
   "metadata": {
    "collapsed": false
   },
   "outputs": [
    {
     "data": {
      "text/html": [
       "<div>\n",
       "<table border=\"1\" class=\"dataframe\">\n",
       "  <thead>\n",
       "    <tr style=\"text-align: right;\">\n",
       "      <th></th>\n",
       "      <th>QUERY</th>\n",
       "      <th>AUC</th>\n",
       "      <th>FAR_STOP</th>\n",
       "      <th>EER</th>\n",
       "      <th>AUC_CI_LOWER</th>\n",
       "      <th>AUC_CI_UPPER</th>\n",
       "    </tr>\n",
       "  </thead>\n",
       "  <tbody>\n",
       "    <tr>\n",
       "      <th>0</th>\n",
       "      <td>Collection==['Nimble-SCI','Nimble-WEB']</td>\n",
       "      <td>0.517917</td>\n",
       "      <td>1</td>\n",
       "      <td>0.516901</td>\n",
       "      <td>0.492906</td>\n",
       "      <td>0.54328</td>\n",
       "    </tr>\n",
       "  </tbody>\n",
       "</table>\n",
       "</div>"
      ],
      "text/plain": [
       "                                     QUERY       AUC  FAR_STOP       EER  \\\n",
       "0  Collection==['Nimble-SCI','Nimble-WEB']  0.517917         1  0.516901   \n",
       "\n",
       "   AUC_CI_LOWER  AUC_CI_UPPER  \n",
       "0      0.492906       0.54328  "
      ]
     },
     "execution_count": 2,
     "metadata": {},
     "output_type": "execute_result"
    }
   ],
   "source": [
    "df2=pd.read_csv(\"./notebookImgs/NC16_003_q_query_0_report.csv\")\n",
    "df2"
   ]
  },
  {
   "cell_type": "markdown",
   "metadata": {},
   "source": [
    "* Query (-q) with two queries\n",
    "<code>\n",
    "python DetectionScorer.py -t manipulation --refDir ../../data/test_suite/detectionScorerTests/reference -r NC2016-manipulation-ref.csv -x NC2016-manipulation-index.csv --sysDir ../../data/test_suite/detectionScorerTests/baseline -s Base_NC2016_Manipulation_ImgOnly_p-dct_02.csv --outRoot ./testcases/NC16_004 <b>-q \"Collection==['Nimble-SCI'] & 300 <= ProbeWidth\"  \"Collection==['Nimble-WEB'] & 300 <= ProbeWidth\"</b> --ci --display\n",
    "</code>\n",
    "<img src=\"./notebookImgs/NC16_004_roc_all.png\" alt=\"ROC4\" width=\"700\" height=\"600\"  align=\"left\">"
   ]
  },
  {
   "cell_type": "code",
   "execution_count": 3,
   "metadata": {
    "collapsed": false
   },
   "outputs": [
    {
     "data": {
      "text/html": [
       "<div>\n",
       "<table border=\"1\" class=\"dataframe\">\n",
       "  <thead>\n",
       "    <tr style=\"text-align: right;\">\n",
       "      <th></th>\n",
       "      <th>QUERY</th>\n",
       "      <th>AUC</th>\n",
       "      <th>FAR_STOP</th>\n",
       "      <th>EER</th>\n",
       "      <th>AUC_CI_LOWER</th>\n",
       "      <th>AUC_CI_UPPER</th>\n",
       "    </tr>\n",
       "  </thead>\n",
       "  <tbody>\n",
       "    <tr>\n",
       "      <th>0</th>\n",
       "      <td>Collection==['Nimble-SCI'] &amp; 300 &lt;= ProbeWidth</td>\n",
       "      <td>0.462995</td>\n",
       "      <td>1</td>\n",
       "      <td>0.565625</td>\n",
       "      <td>0.411921</td>\n",
       "      <td>0.502428</td>\n",
       "    </tr>\n",
       "  </tbody>\n",
       "</table>\n",
       "</div>"
      ],
      "text/plain": [
       "                                            QUERY       AUC  FAR_STOP  \\\n",
       "0  Collection==['Nimble-SCI'] & 300 <= ProbeWidth  0.462995         1   \n",
       "\n",
       "        EER  AUC_CI_LOWER  AUC_CI_UPPER  \n",
       "0  0.565625      0.411921      0.502428  "
      ]
     },
     "execution_count": 3,
     "metadata": {},
     "output_type": "execute_result"
    }
   ],
   "source": [
    "df3=pd.read_csv(\"./notebookImgs/NC16_004_q_query_0_report.csv\")\n",
    "df3\n"
   ]
  },
  {
   "cell_type": "code",
   "execution_count": 4,
   "metadata": {
    "collapsed": false
   },
   "outputs": [
    {
     "data": {
      "text/html": [
       "<div>\n",
       "<table border=\"1\" class=\"dataframe\">\n",
       "  <thead>\n",
       "    <tr style=\"text-align: right;\">\n",
       "      <th></th>\n",
       "      <th>QUERY</th>\n",
       "      <th>AUC</th>\n",
       "      <th>FAR_STOP</th>\n",
       "      <th>EER</th>\n",
       "      <th>AUC_CI_LOWER</th>\n",
       "      <th>AUC_CI_UPPER</th>\n",
       "    </tr>\n",
       "  </thead>\n",
       "  <tbody>\n",
       "    <tr>\n",
       "      <th>0</th>\n",
       "      <td>Collection==['Nimble-WEB'] &amp; 300 &lt;= ProbeWidth</td>\n",
       "      <td>0.556042</td>\n",
       "      <td>1</td>\n",
       "      <td>0.479198</td>\n",
       "      <td>0.523205</td>\n",
       "      <td>0.592781</td>\n",
       "    </tr>\n",
       "  </tbody>\n",
       "</table>\n",
       "</div>"
      ],
      "text/plain": [
       "                                            QUERY       AUC  FAR_STOP  \\\n",
       "0  Collection==['Nimble-WEB'] & 300 <= ProbeWidth  0.556042         1   \n",
       "\n",
       "        EER  AUC_CI_LOWER  AUC_CI_UPPER  \n",
       "0  0.479198      0.523205      0.592781  "
      ]
     },
     "execution_count": 4,
     "metadata": {},
     "output_type": "execute_result"
    }
   ],
   "source": [
    "df4=pd.read_csv(\"./notebookImgs/NC16_004_q_query_1_report.csv\")\n",
    "df4"
   ]
  },
  {
   "cell_type": "markdown",
   "metadata": {},
   "source": [
    "* Query for partition (-qp) with one partition\n",
    "<code>\n",
    "python DetectionScorer.py -t manipulation --refDir ../../data/test_suite/detectionScorerTests/reference -r NC2016-manipulation-ref.csv -x NC2016-manipulation-index.csv --sysDir ../../data/test_suite/detectionScorerTests/baseline -s Base_NC2016_Manipulation_ImgOnly_p-dct_02.csv --outRoot ./testcases/NC16_005 <b>-qp \"Collection==['Nimble-SCI'] & 300 <= ProbeWidth\"</b> --ci --display\n",
    "</code>\n",
    "<img src=\"./notebookImgs/NC16_005_roc_all.png\" alt=\"ROC4\" width=\"700\" height=\"600\" align=\"left\">"
   ]
  },
  {
   "cell_type": "code",
   "execution_count": 5,
   "metadata": {
    "collapsed": false
   },
   "outputs": [
    {
     "data": {
      "text/html": [
       "<div>\n",
       "<table border=\"1\" class=\"dataframe\">\n",
       "  <thead>\n",
       "    <tr style=\"text-align: right;\">\n",
       "      <th></th>\n",
       "      <th>Unnamed: 0</th>\n",
       "      <th>Collection</th>\n",
       "      <th>ProbeWidth</th>\n",
       "      <th>AUC</th>\n",
       "      <th>FAR_STOP</th>\n",
       "      <th>EER</th>\n",
       "      <th>AUC_CI_LOWER</th>\n",
       "      <th>AUC_CI_UPPER</th>\n",
       "    </tr>\n",
       "  </thead>\n",
       "  <tbody>\n",
       "    <tr>\n",
       "      <th>0</th>\n",
       "      <td>Partition_0</td>\n",
       "      <td>'Nimble-SCI'</td>\n",
       "      <td>300&lt;=ProbeWidth</td>\n",
       "      <td>0.462995</td>\n",
       "      <td>1</td>\n",
       "      <td>0.565625</td>\n",
       "      <td>0.411921</td>\n",
       "      <td>0.502428</td>\n",
       "    </tr>\n",
       "  </tbody>\n",
       "</table>\n",
       "</div>"
      ],
      "text/plain": [
       "    Unnamed: 0    Collection       ProbeWidth       AUC  FAR_STOP       EER  \\\n",
       "0  Partition_0  'Nimble-SCI'  300<=ProbeWidth  0.462995         1  0.565625   \n",
       "\n",
       "   AUC_CI_LOWER  AUC_CI_UPPER  \n",
       "0      0.411921      0.502428  "
      ]
     },
     "execution_count": 5,
     "metadata": {},
     "output_type": "execute_result"
    }
   ],
   "source": [
    "df5=pd.read_csv(\"./notebookImgs/NC16_005_qp_query_report.csv\")\n",
    "df5"
   ]
  },
  {
   "cell_type": "markdown",
   "metadata": {},
   "source": [
    "* Query for partition (-qp) with two partitions\n",
    "<code>\n",
    "python DetectionScorer.py -t manipulation --refDir ../../data/test_suite/detectionScorerTests/reference -r NC2016-manipulation-ref.csv -x NC2016-manipulation-index.csv --sysDir ../../data/test_suite/detectionScorerTests/baseline -s Base_NC2016_Manipulation_ImgOnly_p-dct_02.csv --outRoot ./testcases/NC16_006 <b>-qp \"Collection==['Nimble-SCI','Nimble-WEB'] & 300 <= ProbeWidth\"</b> --ci --display\n",
    "</code>\n",
    "<img src=\"./notebookImgs/NC16_006_roc_all.png\" alt=\"ROC6\" width=\"700\" height=\"600\" align=\"left\">"
   ]
  },
  {
   "cell_type": "code",
   "execution_count": 6,
   "metadata": {
    "collapsed": false
   },
   "outputs": [
    {
     "data": {
      "text/html": [
       "<div>\n",
       "<table border=\"1\" class=\"dataframe\">\n",
       "  <thead>\n",
       "    <tr style=\"text-align: right;\">\n",
       "      <th></th>\n",
       "      <th>Unnamed: 0</th>\n",
       "      <th>Collection</th>\n",
       "      <th>ProbeWidth</th>\n",
       "      <th>AUC</th>\n",
       "      <th>FAR_STOP</th>\n",
       "      <th>EER</th>\n",
       "      <th>AUC_CI_LOWER</th>\n",
       "      <th>AUC_CI_UPPER</th>\n",
       "    </tr>\n",
       "  </thead>\n",
       "  <tbody>\n",
       "    <tr>\n",
       "      <th>0</th>\n",
       "      <td>Partition_0</td>\n",
       "      <td>'Nimble-SCI'</td>\n",
       "      <td>300&lt;=ProbeWidth</td>\n",
       "      <td>0.462995</td>\n",
       "      <td>1</td>\n",
       "      <td>0.565625</td>\n",
       "      <td>0.411921</td>\n",
       "      <td>0.502428</td>\n",
       "    </tr>\n",
       "    <tr>\n",
       "      <th>1</th>\n",
       "      <td>Partition_1</td>\n",
       "      <td>'Nimble-WEB'</td>\n",
       "      <td>300&lt;=ProbeWidth</td>\n",
       "      <td>0.556042</td>\n",
       "      <td>1</td>\n",
       "      <td>0.479198</td>\n",
       "      <td>0.523205</td>\n",
       "      <td>0.592781</td>\n",
       "    </tr>\n",
       "  </tbody>\n",
       "</table>\n",
       "</div>"
      ],
      "text/plain": [
       "    Unnamed: 0    Collection       ProbeWidth       AUC  FAR_STOP       EER  \\\n",
       "0  Partition_0  'Nimble-SCI'  300<=ProbeWidth  0.462995         1  0.565625   \n",
       "1  Partition_1  'Nimble-WEB'  300<=ProbeWidth  0.556042         1  0.479198   \n",
       "\n",
       "   AUC_CI_LOWER  AUC_CI_UPPER  \n",
       "0      0.411921      0.502428  \n",
       "1      0.523205      0.592781  "
      ]
     },
     "execution_count": 6,
     "metadata": {},
     "output_type": "execute_result"
    }
   ],
   "source": [
    "df6=pd.read_csv(\"./notebookImgs/NC16_006_qp_query_report.csv\")\n",
    "df6"
   ]
  },
  {
   "cell_type": "markdown",
   "metadata": {},
   "source": [
    "* Query for selective manipulation (-qm) with two queries\n",
    "<code>\n",
    "python DetectionScorer.py -t manipulation --refDir ../../data/test_suite/detectionScorerTests/reference -r NC2016-manipulation-ref.csv -x NC2016-manipulation-index.csv --sysDir ../../data/test_suite/detectionScorerTests/baseline -s Base_NC2016_Manipulation_ImgOnly_p-dct_02.csv --outRoot ./testcases/NC16_010 <b>-qm \"Collection==['Nimble-SCI'] & IsManipulationTypeRemoval==['Y']\" \"Collection==['Nimble-WEB'] & IsManipulationTypeRemoval==['Y']\"</b> --display\n",
    "</code>\n",
    "<img src=\"./notebookImgs/NC16_010_roc_all.png\" alt=\"ROC111\" width=\"700\" height=\"600\" align=\"left\">"
   ]
  },
  {
   "cell_type": "code",
   "execution_count": 7,
   "metadata": {
    "collapsed": false
   },
   "outputs": [
    {
     "data": {
      "text/html": [
       "<div>\n",
       "<table border=\"1\" class=\"dataframe\">\n",
       "  <thead>\n",
       "    <tr style=\"text-align: right;\">\n",
       "      <th></th>\n",
       "      <th>QUERY</th>\n",
       "      <th>AUC</th>\n",
       "      <th>FAR_STOP</th>\n",
       "      <th>EER</th>\n",
       "      <th>AUC_CI_LOWER</th>\n",
       "      <th>AUC_CI_UPPER</th>\n",
       "    </tr>\n",
       "  </thead>\n",
       "  <tbody>\n",
       "    <tr>\n",
       "      <th>0</th>\n",
       "      <td>Collection==['Nimble-SCI'] &amp; IsManipulationTyp...</td>\n",
       "      <td>0.4525</td>\n",
       "      <td>1</td>\n",
       "      <td>0.594643</td>\n",
       "      <td>0</td>\n",
       "      <td>0</td>\n",
       "    </tr>\n",
       "  </tbody>\n",
       "</table>\n",
       "</div>"
      ],
      "text/plain": [
       "                                               QUERY     AUC  FAR_STOP  \\\n",
       "0  Collection==['Nimble-SCI'] & IsManipulationTyp...  0.4525         1   \n",
       "\n",
       "        EER  AUC_CI_LOWER  AUC_CI_UPPER  \n",
       "0  0.594643             0             0  "
      ]
     },
     "execution_count": 7,
     "metadata": {},
     "output_type": "execute_result"
    }
   ],
   "source": [
    "df10=pd.read_csv(\"./notebookImgs/NC16_010_qm_query_0_report.csv\")\n",
    "df10"
   ]
  },
  {
   "cell_type": "code",
   "execution_count": 8,
   "metadata": {
    "collapsed": false
   },
   "outputs": [
    {
     "data": {
      "text/html": [
       "<div>\n",
       "<table border=\"1\" class=\"dataframe\">\n",
       "  <thead>\n",
       "    <tr style=\"text-align: right;\">\n",
       "      <th></th>\n",
       "      <th>QUERY</th>\n",
       "      <th>AUC</th>\n",
       "      <th>FAR_STOP</th>\n",
       "      <th>EER</th>\n",
       "      <th>AUC_CI_LOWER</th>\n",
       "      <th>AUC_CI_UPPER</th>\n",
       "    </tr>\n",
       "  </thead>\n",
       "  <tbody>\n",
       "    <tr>\n",
       "      <th>0</th>\n",
       "      <td>Collection==['Nimble-WEB'] &amp; IsManipulationTyp...</td>\n",
       "      <td>0.590206</td>\n",
       "      <td>1</td>\n",
       "      <td>0.436607</td>\n",
       "      <td>0</td>\n",
       "      <td>0</td>\n",
       "    </tr>\n",
       "  </tbody>\n",
       "</table>\n",
       "</div>"
      ],
      "text/plain": [
       "                                               QUERY       AUC  FAR_STOP  \\\n",
       "0  Collection==['Nimble-WEB'] & IsManipulationTyp...  0.590206         1   \n",
       "\n",
       "        EER  AUC_CI_LOWER  AUC_CI_UPPER  \n",
       "0  0.436607             0             0  "
      ]
     },
     "execution_count": 8,
     "metadata": {},
     "output_type": "execute_result"
    }
   ],
   "source": [
    "df11=pd.read_csv(\"./notebookImgs/NC16_010_qm_query_1_report.csv\")\n",
    "df11"
   ]
  },
  {
   "cell_type": "markdown",
   "metadata": {},
   "source": [
    "* --multiFigs with the query option\n",
    "<code>\n",
    "python DetectionScorer.py -t manipulation --refDir ../../data/test_suite/detectionScorerTests/reference -r NC2016-manipulation-ref.csv -x NC2016-manipulation-index.csv --sysDir ../../data/test_suite/detectionScorerTests/baseline -s Base_NC2016_Manipulation_ImgOnly_p-dct_02.csv --outRoot ./testcases/NC16_007 <b>-qp \"Collection==['Nimble-SCI','Nimble-WEB'] & 300 <= ProbeWidth\" --multiFigs</b> --ci --display\n",
    "</code>\n",
    "<img src=\"./notebookImgs/NC16_007_roc_combine.png\" alt=\"ROC7\" width=\"1000\" height=\"700\" align=\"left\">"
   ]
  },
  {
   "cell_type": "markdown",
   "metadata": {},
   "source": [
    "#### * Splice Task"
   ]
  },
  {
   "cell_type": "markdown",
   "metadata": {},
   "source": [
    "<code>\n",
    "python DetectionScorer.py <b>-t splice</b> --refDir ../../data/test_suite/detectionScorerTests/reference -r NC2016-splice-ref.csv -x NC2016-splice-index.csv --sysDir ../../data/test_suite/detectionScorerTests/baseline -s Base_NC2016_Splice_ImgOnly_p-splice_01.csv --outRoot ./testcases/NC16_100 --ci --display\n",
    "</code>\n",
    "<img src=\"./notebookImgs/NC16_100_roc_all.png\" alt=\"ROC8\" width=\"500\" height=\"400\" align=\"left\">"
   ]
  },
  {
   "cell_type": "code",
   "execution_count": 9,
   "metadata": {
    "collapsed": false
   },
   "outputs": [
    {
     "data": {
      "text/html": [
       "<div>\n",
       "<table border=\"1\" class=\"dataframe\">\n",
       "  <thead>\n",
       "    <tr style=\"text-align: right;\">\n",
       "      <th></th>\n",
       "      <th>AUC</th>\n",
       "      <th>FAR_STOP</th>\n",
       "      <th>EER</th>\n",
       "      <th>AUC_CI_LOWER</th>\n",
       "      <th>AUC_CI_UPPER</th>\n",
       "    </tr>\n",
       "  </thead>\n",
       "  <tbody>\n",
       "    <tr>\n",
       "      <th>0</th>\n",
       "      <td>0.872003</td>\n",
       "      <td>1</td>\n",
       "      <td>0.2148</td>\n",
       "      <td>0.853012</td>\n",
       "      <td>0.88796</td>\n",
       "    </tr>\n",
       "  </tbody>\n",
       "</table>\n",
       "</div>"
      ],
      "text/plain": [
       "        AUC  FAR_STOP     EER  AUC_CI_LOWER  AUC_CI_UPPER\n",
       "0  0.872003         1  0.2148      0.853012       0.88796"
      ]
     },
     "execution_count": 9,
     "metadata": {},
     "output_type": "execute_result"
    }
   ],
   "source": [
    "df6=pd.read_csv(\"./notebookImgs/NC16_100_all.csv\")\n",
    "df6"
   ]
  },
  {
   "cell_type": "markdown",
   "metadata": {},
   "source": [
    "### NC2017 Dataset Testcases"
   ]
  },
  {
   "cell_type": "markdown",
   "metadata": {},
   "source": [
    "#### * Manipulation Task"
   ]
  },
  {
   "cell_type": "markdown",
   "metadata": {},
   "source": [
    "* Full scoring: rendering ROC curve\n",
    "<code>\n",
    "python DetectionScorer.py -t manipulation --refDir ../../data/test_suite/detectionScorerTests/ -r reference/NC2017-manipulation-ref.csv -x reference/NC2017-manipulation-index.csv --sysDir ../../data/test_suite/detectionScorerTests/baseline -s Base_NC2017_Manipulation_ImgOnly_p-copymove_01.csv --outRoot ./testcases/NC17_001 --ci --display\n",
    "</code>\n",
    "<img src=\"./notebookImgs/NC17_001_copymove_roc_all.png\" alt=\"ROC9\" width=\"500\" height=\"400\" align=\"left\">"
   ]
  },
  {
   "cell_type": "code",
   "execution_count": 10,
   "metadata": {
    "collapsed": false
   },
   "outputs": [
    {
     "data": {
      "text/html": [
       "<div>\n",
       "<table border=\"1\" class=\"dataframe\">\n",
       "  <thead>\n",
       "    <tr style=\"text-align: right;\">\n",
       "      <th></th>\n",
       "      <th>AUC</th>\n",
       "      <th>FAR_STOP</th>\n",
       "      <th>EER</th>\n",
       "      <th>AUC_CI_LOWER</th>\n",
       "      <th>AUC_CI_UPPER</th>\n",
       "    </tr>\n",
       "  </thead>\n",
       "  <tbody>\n",
       "    <tr>\n",
       "      <th>0</th>\n",
       "      <td>0.679533</td>\n",
       "      <td>1</td>\n",
       "      <td>0.328889</td>\n",
       "      <td>0.620826</td>\n",
       "      <td>0.735491</td>\n",
       "    </tr>\n",
       "  </tbody>\n",
       "</table>\n",
       "</div>"
      ],
      "text/plain": [
       "        AUC  FAR_STOP       EER  AUC_CI_LOWER  AUC_CI_UPPER\n",
       "0  0.679533         1  0.328889      0.620826      0.735491"
      ]
     },
     "execution_count": 10,
     "metadata": {},
     "output_type": "execute_result"
    }
   ],
   "source": [
    "df7=pd.read_csv(\"./notebookImgs/NC17_001_copymove_all.csv\")\n",
    "df7"
   ]
  },
  {
   "cell_type": "markdown",
   "metadata": {},
   "source": [
    "<b>The tables are omitted from now on.</b>"
   ]
  },
  {
   "cell_type": "markdown",
   "metadata": {},
   "source": [
    "* Query (-q) with two queries\n",
    "<code>\n",
    "python DetectionScorer.py -t manipulation --refDir ../../data/test_suite/detectionScorerTests/ -r reference/NC2017-manipulation-ref.csv -x reference/NC2017-manipulation-index.csv --sysDir ../../data/test_suite/detectionScorerTests/baseline -s Base_NC2017_Manipulation_ImgOnly_p-copymove_01.csv --outRoot ./testcases/NC17_002 <b>-q \"(Purpose ==['remove'] and IsTarget == ['Y']) or IsTarget == ['N']\" \"(Purpose ==['clone'] and IsTarget == ['Y']) or IsTarget == ['N']\"</b> --display\n",
    "</code>\n",
    "<img src=\"./notebookImgs/NC17_002_roc_all.png\" alt=\"ROC17_002\" width=\"700\" height=\"600\" align=\"left\">"
   ]
  },
  {
   "cell_type": "markdown",
   "metadata": {},
   "source": [
    "* Query for selective manipulation (-qm) with the factor \"Purpose\"\n",
    "<code>\n",
    "python DetectionScorer.py -t manipulation --refDir ../../data/test_suite/detectionScorerTests/ -r reference/NC2017-manipulation-ref.csv -x reference/NC2017-manipulation-index.csv --sysDir ../../data/test_suite/detectionScorerTests/baseline -s Base_NC2017_Manipulation_ImgOnly_p-copymove_01.csv --outRoot ./testcases/NC17_003 <b>-qm \"Purpose==['remove']\" \"Purpose==['clone']\"</b> --display\n",
    "</code>\n",
    "<img src=\"./notebookImgs/NC17_003_roc_all.png\" alt=\"ROC17_003\" width=\"700\" height=\"600\" align=\"left\">"
   ]
  },
  {
   "cell_type": "markdown",
   "metadata": {},
   "source": [
    "* Query for selective manipulation (-qm) with the factor \"OperationArgument\"\n",
    "<code>\n",
    "python DetectionScorer.py -t manipulation --refDir ../../data/test_suite/detectionScorerTests/ -r reference/NC2017-manipulation-ref.csv -x reference/NC2017-manipulation-index.csv --sysDir ../../data/test_suite/detectionScorerTests/baseline -s Base_NC2017_Manipulation_ImgOnly_p-copymove_01.csv --outRoot ./testcases/NC17_004 <b>-qm \"OperationArgument==['people','face']\" \"OperationArgument==['man-made object','landscape']\"</b> --display\n",
    "</code>\n",
    "<img src=\"./notebookImgs/NC17_004_roc_all.png\" alt=\"ROC17_004\" width=\"700\" height=\"600\" align=\"left\">"
   ]
  },
  {
   "cell_type": "markdown",
   "metadata": {},
   "source": [
    "* Query for selective manipulation (-qm) with the mixed of factors\n",
    "<code>\n",
    "python DetectionScorer.py -t manipulation --refDir ../../data/test_suite/detectionScorerTests/ -r reference/NC2017-manipulation-ref.csv -x reference/NC2017-manipulation-index.csv --sysDir ../../data/test_suite/detectionScorerTests/baseline -s Base_NC2017_Manipulation_ImgOnly_p-copymove_01.csv --outRoot ./testcases/NC17_005 <b>-qm \"Purpose==['remove'] and Operation ==['FillContentAwareFill']\"</b> --display\n",
    "</code>\n",
    "<img src=\"./notebookImgs/NC17_005_roc_all.png\" alt=\"ROC17_005\" width=\"700\" height=\"600\" align=\"left\">"
   ]
  },
  {
   "cell_type": "markdown",
   "metadata": {},
   "source": [
    "### Disclaimer\n",
    "\n",
    "This software was developed at the National Institute of Standards\n",
    "and Technology (NIST) by employees of the Federal Government in the\n",
    "course of their official duties. Pursuant to Title 17 Section 105\n",
    "of the United States Code, this software is not subject to copyright\n",
    "protection and is in the public domain. NIST assumes no responsibility\n",
    "whatsoever for use by other parties of its source code or open source\n",
    "server, and makes no guarantees, expressed or implied, about its quality,\n",
    "reliability, or any other characteristic.\n"
   ]
  }
 ],
 "metadata": {
  "anaconda-cloud": {},
  "kernelspec": {
   "display_name": "Python 2",
   "language": "python",
   "name": "python2"
  },
  "language_info": {
   "codemirror_mode": {
    "name": "ipython",
    "version": 2
   },
   "file_extension": ".py",
   "mimetype": "text/x-python",
   "name": "python",
   "nbconvert_exporter": "python",
   "pygments_lexer": "ipython2",
   "version": "2.7.13"
  }
 },
 "nbformat": 4,
 "nbformat_minor": 0
}
