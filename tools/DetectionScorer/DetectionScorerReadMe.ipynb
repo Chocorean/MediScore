{
 "cells": [
  {
   "cell_type": "markdown",
   "metadata": {},
   "source": [
    "# Detection Scorer"
   ]
  },
  {
   "cell_type": "markdown",
   "metadata": {},
   "source": [
    "## Description"
   ]
  },
  {
   "cell_type": "markdown",
   "metadata": {},
   "source": [
    "<p>The purpose of this script is to evaluate the accuracy of the image tampering detection algorithms in multimedia forensics. The script currently supports an evaluation of four distinctive detection tasks, namely 1) Manipulation, 2) Removal, 3) Splice, and 4) Clone. The Manipulation detection task is to detect whether or not a probe image has been manipulated. The Removal detectiont task is to detect if a region of a probe image has been removed. The Splice detection task is to detect if a region of the other source (donor) image has been spliced into a probe image. The Clone detection task is to detect if a region within a probe image has been cloned.</p>   \n",
    "<p>The script calculates performance measures of AUC (Area Under Curve) and EER (Equal Error Rate)\n",
    "based on a system's output (e.g., confidence scores) for the tasks described above. The output is a report table (CSV) that includes the measures of AUC, EER, and AUC_CI (confidence interval for AUC), and a graphical plot (PDF) that supports either ROC (receiver operating characteristic) or DET (detection error tradeoff) for algorithm performance results. In addition, this script supports factor-based evaluations on algorithm performance</p> \n"
   ]
  },
  {
   "cell_type": "markdown",
   "metadata": {},
   "source": [
    "## Command-line Options"
   ]
  },
  {
   "cell_type": "markdown",
   "metadata": {},
   "source": [
    "Example:\n",
    "```\n",
    "python DetectionScorer.py -t manipulation --refDir ../../data/test_suite/detectionScorerTests/sample -r NC2016-manipulation-ref.csv -x NC2016-manipulation-index.csv --sysDir ../../data/test_suite/detectionScorerTests/sample -s D_NC2016_Manipulation_ImgOnly_p-me_1/D_NC2016_Manipulation_ImgOnly_p-me_1.csv --outRoot ./testcases/NC16_01\n",
    "```\n",
    "This command generates the ROC plot and the report table for evaluating algorithm performance given the reference data and the system output."
   ]
  },
  {
   "cell_type": "markdown",
   "metadata": {},
   "source": [
    "The command-line options for detection scorer can be categorized as follows:"
   ]
  },
  {
   "cell_type": "markdown",
   "metadata": {},
   "source": [
    "### Task Type Options:"
   ]
  },
  {
   "cell_type": "markdown",
   "metadata": {},
   "source": [
    "-t --task [manipulation, removal, splice, clone]\n",
    "\n",
    "  * Define the target manipulation task type for evaluation (default = manipulation). This is a value of the \"TaskID\" column in the index file. "
   ]
  },
  {
   "cell_type": "markdown",
   "metadata": {},
   "source": [
    "### Input Options"
   ]
  },
  {
   "cell_type": "markdown",
   "metadata": {},
   "source": [
    "--refDir\n",
    "\n",
    "  * Specify the reference and index data path, for example \"/NC2016_Test\" (default = .)\n"
   ]
  },
  {
   "cell_type": "markdown",
   "metadata": {},
   "source": [
    "-r --inRef\n",
    "\n",
    "  * Specify the reference CSV file (under the refDir folder) that contains the ground-truth information\n",
    "  * For example, the fields are: TaskID|ProbeFileID|ProbeFileName|ProbeMaskFileName|...             "
   ]
  },
  {
   "cell_type": "markdown",
   "metadata": {},
   "source": [
    "-x --inIndex\n",
    "\n",
    "  * Specify the index CSV file\n",
    "  * For example, the fields are: TaskID|ProbeFileID|ProbeFileName|ProbeWidth|ProbeHeight"
   ]
  },
  {
   "cell_type": "markdown",
   "metadata": {},
   "source": [
    "--sysDir\n",
    "\n",
    "  * Specify the system output data path, for example \"mysysoutput/\" (default = .) \n"
   ]
  },
  {
   "cell_type": "markdown",
   "metadata": {},
   "source": [
    "-s --inSys\n",
    "\n",
    "  * Specify the CSV file of the system performance result formatted according to NC2016 specification"
   ]
  },
  {
   "cell_type": "markdown",
   "metadata": {},
   "source": [
    "### Metric Options"
   ]
  },
  {
   "cell_type": "markdown",
   "metadata": {},
   "source": [
    "--farStop\n",
    "\n",
    " * Specify the stop point of FAR for calculating partial AUC. The default (1) provides the full AUC value.\n",
    "    \n"
   ]
  },
  {
   "cell_type": "markdown",
   "metadata": {},
   "source": [
    "### Output Options"
   ]
  },
  {
   "cell_type": "markdown",
   "metadata": {},
   "source": [
    "--outRoot\n",
    "\n",
    "  * Specify the report output path and the file name prefix for saving the plot(s) and table (s). For example, if you specify \"--outRoot test/NIST_001\", you will find the plot \"NIST_001_det.png\" and the table \"NIST_001_report.csv\" in the \"test\" folder (default =.)\n"
   ]
  },
  {
   "cell_type": "markdown",
   "metadata": {},
   "source": [
    "--dump\n",
    "\n",
    "   * Save the DM files (formatted in a binary) that contains a list of FAR, FPR, TPR, threshold, AUC, and EER values. The purpose of the dump files is to load the point values for further analysis without calculating the values again.\n"
   ]
  },
  {
   "cell_type": "markdown",
   "metadata": {},
   "source": [
    "-v --verbose\n",
    "\n",
    "   * Print output with procedure messages on the command-line if this option is specified."
   ]
  },
  {
   "cell_type": "markdown",
   "metadata": {},
   "source": [
    "--ci\n",
    "\n",
    "   * Calculate the lower and upper confidence interval for AUC if this option is specified. The option will slowdown the speed due to the bootstrapping method."
   ]
  },
  {
   "cell_type": "markdown",
   "metadata": {},
   "source": [
    "### Plot Options"
   ]
  },
  {
   "cell_type": "markdown",
   "metadata": {},
   "source": [
    "--plotType [det, roc]\n",
    "\n",
    "  * Define the plot type (default = roc)\n"
   ]
  },
  {
   "cell_type": "markdown",
   "metadata": {},
   "source": [
    "--display\n",
    "\n",
    "  * Display a window with the plot (s) on the command-line if this option is specified (default = False) \n"
   ]
  },
  {
   "cell_type": "markdown",
   "metadata": {},
   "source": [
    "### Custom Plot Options"
   ]
  },
  {
   "cell_type": "markdown",
   "metadata": {},
   "source": [
    "The user can customize the plot (e.g. change the title font size) by adjusting the json files located in the \"plotJsonFiles\" folder (e.g., plotJsonFiles/plot_options.json).\n",
    "\n",
    "An example:\n",
    "```json\n",
    "{\"title\": \"DET\",\n",
    " \"plot_type\": \"DET\",\n",
    " \"title_fontsize\": 15,\n",
    " \"xticks_size\": \"medium\",\n",
    " \"yticks_size\": \"medium\",\n",
    " \"xlabel\": \"False Alarm Rate [%]\",\n",
    " \"xlabel_fontsize\": 12,\n",
    " \"ylabel\": \"Miss Detection Rate [%]\",\n",
    " \"ylabel_fontsize\": 12}\n",
    " ```"
   ]
  },
  {
   "cell_type": "markdown",
   "metadata": {},
   "source": [
    "### Performance Evaluation by Factors"
   ]
  },
  {
   "cell_type": "markdown",
   "metadata": {},
   "source": [
    "This option allows the user to evaluate their algorithm performance on either subsets or partitions of the data based on the specified factors. The reference and index CSV files contain a list of factors (e.g., ProbePostProcessed|DonorPostProcessed|ManipulationQuality|IsManipulationTypeRemoval|...).\n",
    "The following figure illustrates the data query option along with corresponding outputs for factor-based evaluations.\n"
   ]
  },
  {
   "cell_type": "markdown",
   "metadata": {},
   "source": [
    "<img src=\"./notebookImgs/partition_overview1.png\" width=\"700\" height=\"400\">"
   ]
  },
  {
   "cell_type": "markdown",
   "metadata": {},
   "source": [
    "-f --factor\n",
    "\n",
    "* Evaluate algorithm performance on a partitioned dataset using multiple factor queries. Depending on the number (N) of queries, the option generates N report tables (CSV) and one plot (PDF) that contains N curves.\n",
    "  + Syntax : -f \"query1\" \"query2\" \"query3\" ... \n",
    "   ```\n",
    "   - The syntax is the same with Pandas query syntax. Please see the detailed query rule in the website: http://pandas.pydata.org/pandas-docs/stable/indexing.html#indexing-query.\n",
    "   Examples:\n",
    "   % -f \"Collection=['Nimble-SCI']\" => 1 query\n",
    "   % -f \"Collection=['Nimble-SCI'] and PostProcessing=['rescale']\" => 1 query\n",
    "   % -f \"Collection=['Nimble-SCI','Nimble-WEB']\" \"PostProcessing=['rescale']\" \"200<ProbeWidth<=3000\" => 3 queries\n",
    "   ```\n",
    "  + Output: \n",
    "   ```\n",
    "   - CSV report: NIST_001_f_query0.csv, NIST_001_f_query1.csv, ...\n",
    "   - PDF plot: NIST_001_roc_all.pdf\n",
    "   - DM file (using --dump): NIST_001_query0.dm, NIST_001_query1.dm, ...\n",
    "   ```"
   ]
  },
  {
   "cell_type": "markdown",
   "metadata": {},
   "source": [
    "-fp --factorp\n",
    "\n",
    "* Evaluate algorithm performance on a partitioned dataset using one factor query. Depending on the number (M) of partitions provided by the cartesian product on query conditions, this option generates a single report table (CSV) that contains M partition results and one plot that contains M curves.\n",
    "  + Syntax : -f \"query\"\n",
    "   ```\n",
    "   - The query syntax only allows the three operators \"==[]\", \"<\", and \"<=\".\n",
    "   Examples: \n",
    "   % -fp \"Collection=['Nimble-SCI']\" => 1 partition\n",
    "   % -fp \"Collection=['Nimble-SCI','Nimble-WEB'] & PostProcessing=['rescale']\" => 2 partitions\n",
    "   % -fp \"Collection=['Nimble-SCI','Nimble-WEB'] & PostProcessing=['rescale','noise']\" => 4 partitions\n",
    "   ```\n",
    "  + Output: \n",
    "   ``` \n",
    "   - CSV report: NIST_001_fp_query.csv\n",
    "   - PDF plot: NIST_001_roc_all.pdf\n",
    "   - DM file (using --dump): NIST_001_query0.dm, NIST_001_query1.dm, ...\n",
    "   ```"
   ]
  },
  {
   "cell_type": "markdown",
   "metadata": {},
   "source": [
    "--multiFigs\n",
    "* Generate a single curve plot per partition\n",
    "   ``` \n",
    "   - Plot output: NIST_001_f_roc_0.pdf, NIST_001_f_roc_1.pdf, ...\n",
    "   ```"
   ]
  },
  {
   "cell_type": "markdown",
   "metadata": {},
   "source": [
    "## Command-line Usage"
   ]
  },
  {
   "cell_type": "markdown",
   "metadata": {},
   "source": [
    "### Default Output"
   ]
  },
  {
   "cell_type": "markdown",
   "metadata": {},
   "source": [
    "* For rendering the ROC curve and the report table,\n",
    "```\n",
    "python DetectionScorer.py -t manipulation --refDir ../../data/test_suite/detectionScorerTests/reference -r NC2016-manipulation-ref.csv -x NC2016-manipulation-index.csv --sysDir ../../data/test_suite/detectionScorerTests/baseline -s dct02.csv --outRoot ./testcases/NC16_001 --ci --display\n",
    "```\n",
    "<img src=\"./notebookImgs/NC16_001_roc_all.png\" alt=\"Default ROC curve\" width=\"500\" height=\"400\" align=\"left\">"
   ]
  },
  {
   "cell_type": "code",
   "execution_count": 3,
   "metadata": {
    "collapsed": false
   },
   "outputs": [
    {
     "data": {
      "text/html": [
       "<script>jQuery(function() {if (jQuery(\"body.notebook_app\").length == 0) { jQuery(\".input_area\").toggle(); jQuery(\".prompt\").toggle();}});</script>"
      ]
     },
     "metadata": {},
     "output_type": "display_data"
    },
    {
     "data": {
      "text/html": [
       "<div>\n",
       "<table border=\"1\" class=\"dataframe\">\n",
       "  <thead>\n",
       "    <tr style=\"text-align: right;\">\n",
       "      <th></th>\n",
       "      <th>AUC</th>\n",
       "      <th>FAR_STOP</th>\n",
       "      <th>EER</th>\n",
       "      <th>AUC_CI_LOWER</th>\n",
       "      <th>AUC_CI_UPPER</th>\n",
       "    </tr>\n",
       "  </thead>\n",
       "  <tbody>\n",
       "    <tr>\n",
       "      <th>0</th>\n",
       "      <td>0.517917</td>\n",
       "      <td>1</td>\n",
       "      <td>0.516901</td>\n",
       "      <td>0.492906</td>\n",
       "      <td>0.54328</td>\n",
       "    </tr>\n",
       "  </tbody>\n",
       "</table>\n",
       "</div>"
      ],
      "text/plain": [
       "        AUC  FAR_STOP       EER  AUC_CI_LOWER  AUC_CI_UPPER\n",
       "0  0.517917         1  0.516901      0.492906       0.54328"
      ]
     },
     "execution_count": 3,
     "metadata": {},
     "output_type": "execute_result"
    }
   ],
   "source": [
    "import IPython.core.display as di\n",
    "# This line will hide code by default when the notebook is exported as HTML\n",
    "di.display_html('<script>jQuery(function() {if (jQuery(\"body.notebook_app\").length == 0) { jQuery(\".input_area\").toggle(); jQuery(\".prompt\").toggle();}});</script>', raw=True)\n",
    "import pandas as pd\n",
    "df1=pd.read_csv(\"./notebookImgs/NC16_001_all.csv\")\n",
    "df1"
   ]
  },
  {
   "cell_type": "markdown",
   "metadata": {},
   "source": [
    "* For rendering DET curve:\n",
    "```\n",
    "python DetectionScorer.py -t manipulation --refDir ../../data/test_suite/detectionScorerTests/reference -r NC2016-manipulation-ref.csv -x NC2016-manipulation-index.csv --sysDir ../../data/test_suite/detectionScorerTests/baseline -s dct02.csv --outRoot ./testcases/NC16_002 --plotType det --display\n",
    "```\n",
    "<img src=\"./notebookImgs/NC16_002_det_all.png\" alt=\"ROC2\" width=\"500\" height=\"400\" align=\"left\">"
   ]
  },
  {
   "cell_type": "markdown",
   "metadata": {},
   "source": [
    "### -f and -fp option usage example"
   ]
  },
  {
   "cell_type": "markdown",
   "metadata": {},
   "source": [
    "#### -f option with one query\n",
    "```\n",
    "python DetectionScorer.py -t manipulation --refDir ../../data/test_suite/detectionScorerTests/reference -r NC2016-manipulation-ref.csv -x NC2016-manipulation-index.csv --sysDir ../../data/test_suite/detectionScorerTests/baseline -s dct02.csv --outRoot ./testcases/NC16_003 -f \"Collection==['Nimble-SCI','Nimble-WEB']\" --display\n",
    "```\n",
    "<img src=\"./notebookImgs/NC16_003_roc_all.png\" alt=\"ROC3\" width=\"700\" height=\"600\" align=\"left\">"
   ]
  },
  {
   "cell_type": "code",
   "execution_count": 4,
   "metadata": {
    "collapsed": false
   },
   "outputs": [
    {
     "data": {
      "text/html": [
       "<div>\n",
       "<table border=\"1\" class=\"dataframe\">\n",
       "  <thead>\n",
       "    <tr style=\"text-align: right;\">\n",
       "      <th></th>\n",
       "      <th>Query</th>\n",
       "      <th>auc</th>\n",
       "      <th>fpr_stop</th>\n",
       "      <th>eer</th>\n",
       "      <th>auc_ci_lower</th>\n",
       "      <th>auc_ci_upper</th>\n",
       "    </tr>\n",
       "  </thead>\n",
       "  <tbody>\n",
       "    <tr>\n",
       "      <th>0</th>\n",
       "      <td>Collection==['Nimble-SCI','Nimble-WEB']</td>\n",
       "      <td>0.517917</td>\n",
       "      <td>1</td>\n",
       "      <td>0.516901</td>\n",
       "      <td>0.492906</td>\n",
       "      <td>0.54328</td>\n",
       "    </tr>\n",
       "  </tbody>\n",
       "</table>\n",
       "</div>"
      ],
      "text/plain": [
       "                                     Query       auc  fpr_stop       eer  \\\n",
       "0  Collection==['Nimble-SCI','Nimble-WEB']  0.517917         1  0.516901   \n",
       "\n",
       "   auc_ci_lower  auc_ci_upper  \n",
       "0      0.492906       0.54328  "
      ]
     },
     "execution_count": 4,
     "metadata": {},
     "output_type": "execute_result"
    }
   ],
   "source": [
    "df2=pd.read_csv(\"./notebookImgs/NC16_003_f_query_0.csv\")\n",
    "df2"
   ]
  },
  {
   "cell_type": "markdown",
   "metadata": {},
   "source": [
    "#### -f option with two queries\n",
    "```\n",
    "python DetectionScorer.py -t manipulation --refDir ../../data/test_suite/detectionScorerTests/reference -r NC2016-manipulation-ref.csv -x NC2016-manipulation-index.csv --sysDir ../../data/test_suite/detectionScorerTests/baseline -s dct02.csv --outRoot ./testcases/NC16_004 -f \"Collection==['Nimble-SCI'] & 300 <= ProbeWidth\"  \"Collection==['Nimble-WEB'] & 300 <= ProbeWidth\" --ci --display\n",
    "```\n",
    "<img src=\"./notebookImgs/NC16_004_roc_all.png\" alt=\"ROC4\" width=\"700\" height=\"600\"  align=\"left\">"
   ]
  },
  {
   "cell_type": "code",
   "execution_count": 5,
   "metadata": {
    "collapsed": false
   },
   "outputs": [
    {
     "data": {
      "text/html": [
       "<div>\n",
       "<table border=\"1\" class=\"dataframe\">\n",
       "  <thead>\n",
       "    <tr style=\"text-align: right;\">\n",
       "      <th></th>\n",
       "      <th>Query</th>\n",
       "      <th>auc</th>\n",
       "      <th>fpr_stop</th>\n",
       "      <th>eer</th>\n",
       "      <th>auc_ci_lower</th>\n",
       "      <th>auc_ci_upper</th>\n",
       "    </tr>\n",
       "  </thead>\n",
       "  <tbody>\n",
       "    <tr>\n",
       "      <th>0</th>\n",
       "      <td>Collection==['Nimble-SCI'] &amp; 300 &lt;= ProbeWidth</td>\n",
       "      <td>0.462995</td>\n",
       "      <td>1</td>\n",
       "      <td>0.565625</td>\n",
       "      <td>0.411921</td>\n",
       "      <td>0.502428</td>\n",
       "    </tr>\n",
       "  </tbody>\n",
       "</table>\n",
       "</div>"
      ],
      "text/plain": [
       "                                            Query       auc  fpr_stop  \\\n",
       "0  Collection==['Nimble-SCI'] & 300 <= ProbeWidth  0.462995         1   \n",
       "\n",
       "        eer  auc_ci_lower  auc_ci_upper  \n",
       "0  0.565625      0.411921      0.502428  "
      ]
     },
     "execution_count": 5,
     "metadata": {},
     "output_type": "execute_result"
    }
   ],
   "source": [
    "df3=pd.read_csv(\"./notebookImgs/NC16_004_f_query_0.csv\")\n",
    "df3\n"
   ]
  },
  {
   "cell_type": "code",
   "execution_count": 6,
   "metadata": {
    "collapsed": false
   },
   "outputs": [
    {
     "data": {
      "text/html": [
       "<div>\n",
       "<table border=\"1\" class=\"dataframe\">\n",
       "  <thead>\n",
       "    <tr style=\"text-align: right;\">\n",
       "      <th></th>\n",
       "      <th>Query</th>\n",
       "      <th>auc</th>\n",
       "      <th>fpr_stop</th>\n",
       "      <th>eer</th>\n",
       "      <th>auc_ci_lower</th>\n",
       "      <th>auc_ci_upper</th>\n",
       "    </tr>\n",
       "  </thead>\n",
       "  <tbody>\n",
       "    <tr>\n",
       "      <th>0</th>\n",
       "      <td>Collection==['Nimble-WEB'] &amp; 300 &lt;= ProbeWidth</td>\n",
       "      <td>0.556042</td>\n",
       "      <td>1</td>\n",
       "      <td>0.479198</td>\n",
       "      <td>0.523205</td>\n",
       "      <td>0.592781</td>\n",
       "    </tr>\n",
       "  </tbody>\n",
       "</table>\n",
       "</div>"
      ],
      "text/plain": [
       "                                            Query       auc  fpr_stop  \\\n",
       "0  Collection==['Nimble-WEB'] & 300 <= ProbeWidth  0.556042         1   \n",
       "\n",
       "        eer  auc_ci_lower  auc_ci_upper  \n",
       "0  0.479198      0.523205      0.592781  "
      ]
     },
     "execution_count": 6,
     "metadata": {},
     "output_type": "execute_result"
    }
   ],
   "source": [
    "df4=pd.read_csv(\"./notebookImgs/NC16_004_f_query_1.csv\")\n",
    "df4"
   ]
  },
  {
   "cell_type": "markdown",
   "metadata": {},
   "source": [
    "#### -fp option with one partition\n",
    "```\n",
    "python DetectionScorer.py -t manipulation --refDir ../../data/test_suite/detectionScorerTests/reference -r NC2016-manipulation-ref.csv -x NC2016-manipulation-index.csv --sysDir ../../data/test_suite/detectionScorerTests/baseline -s dct02.csv --outRoot ./testcases/NC16_005 -fp \"Collection==['Nimble-SCI'] & 300 <= ProbeWidth\" --ci --display\n",
    "```\n",
    "<img src=\"./notebookImgs/NC16_005_roc_all.png\" alt=\"ROC4\" width=\"700\" height=\"600\" align=\"left\">"
   ]
  },
  {
   "cell_type": "code",
   "execution_count": 7,
   "metadata": {
    "collapsed": false
   },
   "outputs": [
    {
     "data": {
      "text/html": [
       "<div>\n",
       "<table border=\"1\" class=\"dataframe\">\n",
       "  <thead>\n",
       "    <tr style=\"text-align: right;\">\n",
       "      <th></th>\n",
       "      <th>Unnamed: 0</th>\n",
       "      <th>Collection</th>\n",
       "      <th>ProbeWidth</th>\n",
       "      <th>auc</th>\n",
       "      <th>fpr_stop</th>\n",
       "      <th>eer</th>\n",
       "      <th>auc_ci_lower</th>\n",
       "      <th>auc_ci_upper</th>\n",
       "    </tr>\n",
       "  </thead>\n",
       "  <tbody>\n",
       "    <tr>\n",
       "      <th>0</th>\n",
       "      <td>Partition_0</td>\n",
       "      <td>'Nimble-SCI'</td>\n",
       "      <td>300&lt;=ProbeWidth</td>\n",
       "      <td>0.462995</td>\n",
       "      <td>1</td>\n",
       "      <td>0.565625</td>\n",
       "      <td>0.411921</td>\n",
       "      <td>0.502428</td>\n",
       "    </tr>\n",
       "  </tbody>\n",
       "</table>\n",
       "</div>"
      ],
      "text/plain": [
       "    Unnamed: 0    Collection       ProbeWidth       auc  fpr_stop       eer  \\\n",
       "0  Partition_0  'Nimble-SCI'  300<=ProbeWidth  0.462995         1  0.565625   \n",
       "\n",
       "   auc_ci_lower  auc_ci_upper  \n",
       "0      0.411921      0.502428  "
      ]
     },
     "execution_count": 7,
     "metadata": {},
     "output_type": "execute_result"
    }
   ],
   "source": [
    "df5=pd.read_csv(\"./notebookImgs/NC16_005_fp_query.csv\")\n",
    "df5"
   ]
  },
  {
   "cell_type": "markdown",
   "metadata": {},
   "source": [
    "#### -fp option with two partitions\n",
    "```\n",
    "python DetectionScorer.py -t manipulation --refDir ../../data/test_suite/detectionScorerTests/reference -r NC2016-manipulation-ref.csv -x NC2016-manipulation-index.csv --sysDir ../../data/test_suite/detectionScorerTests/baseline -s dct02.csv --outRoot ./testcases/NC16_006 -fp \"Collection==['Nimble-SCI','Nimble-WEB'] & 300 <= ProbeWidth\" --ci --display\n",
    "```\n",
    "<img src=\"./notebookImgs/NC16_006_roc_all.png\" alt=\"ROC6\" width=\"700\" height=\"600\" align=\"left\">"
   ]
  },
  {
   "cell_type": "code",
   "execution_count": 8,
   "metadata": {
    "collapsed": false
   },
   "outputs": [
    {
     "data": {
      "text/html": [
       "<div>\n",
       "<table border=\"1\" class=\"dataframe\">\n",
       "  <thead>\n",
       "    <tr style=\"text-align: right;\">\n",
       "      <th></th>\n",
       "      <th>Unnamed: 0</th>\n",
       "      <th>Collection</th>\n",
       "      <th>ProbeWidth</th>\n",
       "      <th>auc</th>\n",
       "      <th>fpr_stop</th>\n",
       "      <th>eer</th>\n",
       "      <th>auc_ci_lower</th>\n",
       "      <th>auc_ci_upper</th>\n",
       "    </tr>\n",
       "  </thead>\n",
       "  <tbody>\n",
       "    <tr>\n",
       "      <th>0</th>\n",
       "      <td>Partition_0</td>\n",
       "      <td>'Nimble-SCI'</td>\n",
       "      <td>300&lt;=ProbeWidth</td>\n",
       "      <td>0.462995</td>\n",
       "      <td>1</td>\n",
       "      <td>0.565625</td>\n",
       "      <td>0.411921</td>\n",
       "      <td>0.502428</td>\n",
       "    </tr>\n",
       "    <tr>\n",
       "      <th>1</th>\n",
       "      <td>Partition_1</td>\n",
       "      <td>'Nimble-WEB'</td>\n",
       "      <td>300&lt;=ProbeWidth</td>\n",
       "      <td>0.556042</td>\n",
       "      <td>1</td>\n",
       "      <td>0.479198</td>\n",
       "      <td>0.523205</td>\n",
       "      <td>0.592781</td>\n",
       "    </tr>\n",
       "  </tbody>\n",
       "</table>\n",
       "</div>"
      ],
      "text/plain": [
       "    Unnamed: 0    Collection       ProbeWidth       auc  fpr_stop       eer  \\\n",
       "0  Partition_0  'Nimble-SCI'  300<=ProbeWidth  0.462995         1  0.565625   \n",
       "1  Partition_1  'Nimble-WEB'  300<=ProbeWidth  0.556042         1  0.479198   \n",
       "\n",
       "   auc_ci_lower  auc_ci_upper  \n",
       "0      0.411921      0.502428  \n",
       "1      0.523205      0.592781  "
      ]
     },
     "execution_count": 8,
     "metadata": {},
     "output_type": "execute_result"
    }
   ],
   "source": [
    "df6=pd.read_csv(\"./notebookImgs/NC16_006_fp_query.csv\")\n",
    "df6"
   ]
  },
  {
   "cell_type": "markdown",
   "metadata": {},
   "source": [
    "#### --multiFigs option\n",
    "```\n",
    "python DetectionScorer.py -t manipulation --refDir ../../data/test_suite/detectionScorerTests/reference -r NC2016-manipulation-ref.csv -x NC2016-manipulation-index.csv --sysDir ../../data/test_suite/detectionScorerTests/baseline -s dct02.csv --outRoot ./testcases/NC16_007 -fp \"Collection==['Nimble-SCI','Nimble-WEB'] & 300 <= ProbeWidth\" --multiFigs --ci --display\n",
    "```\n",
    "<img src=\"./notebookImgs/NC16_007_roc_combine.png\" alt=\"ROC7\" width=\"1000\" height=\"700\" align=\"left\">"
   ]
  },
  {
   "cell_type": "markdown",
   "metadata": {},
   "source": [
    "#### --dump option\n",
    "```\n",
    "python DetectionScorer.py -t manipulation --refDir ../../data/test_suite/detectionScorerTests/reference -r NC2016-manipulation-ref.csv -x NC2016-manipulation-index.csv --sysDir ../../data/test_suite/detectionScorerTests/baseline -s dct02.csv --outRoot ./testcases/NC16_008 -fp \"Collection==['Nimble-SCI','Nimble-WEB'] & 300 <= ProbeWidth\" --dump --display\n",
    "```\n",
    "<img src=\"./notebookImgs/NIST_005_roc_0_1.png\" alt=\"ROC7\" width=\"1000\" height=\"700\" align=\"left\">"
   ]
  },
  {
   "cell_type": "markdown",
   "metadata": {},
   "source": [
    "### Splice task example"
   ]
  },
  {
   "cell_type": "markdown",
   "metadata": {},
   "source": [
    "* An example:\n",
    "```\n",
    "python DetectionScorer.py -t splice --refDir ../../data/test_suite/detectionScorerTests/reference -r NC2016-splice-ref.csv -x NC2016-splice-index.csv --sysDir ../../data/test_suite/detectionScorerTests/baseline -s splice.csv --outRoot ./testcases/NC16_100 --ci --display\n",
    "```\n",
    "<img src=\"./notebookImgs/NC16_100_roc_all.png\" alt=\"ROC8\" width=\"500\" height=\"400\" align=\"left\">"
   ]
  },
  {
   "cell_type": "code",
   "execution_count": 9,
   "metadata": {
    "collapsed": false
   },
   "outputs": [
    {
     "data": {
      "text/html": [
       "<div>\n",
       "<table border=\"1\" class=\"dataframe\">\n",
       "  <thead>\n",
       "    <tr style=\"text-align: right;\">\n",
       "      <th></th>\n",
       "      <th>AUC</th>\n",
       "      <th>FAR_STOP</th>\n",
       "      <th>EER</th>\n",
       "      <th>AUC_CI_LOWER</th>\n",
       "      <th>AUC_CI_UPPER</th>\n",
       "    </tr>\n",
       "  </thead>\n",
       "  <tbody>\n",
       "    <tr>\n",
       "      <th>0</th>\n",
       "      <td>0.872003</td>\n",
       "      <td>1</td>\n",
       "      <td>0.2148</td>\n",
       "      <td>0.853012</td>\n",
       "      <td>0.88796</td>\n",
       "    </tr>\n",
       "  </tbody>\n",
       "</table>\n",
       "</div>"
      ],
      "text/plain": [
       "        AUC  FAR_STOP     EER  AUC_CI_LOWER  AUC_CI_UPPER\n",
       "0  0.872003         1  0.2148      0.853012       0.88796"
      ]
     },
     "execution_count": 9,
     "metadata": {},
     "output_type": "execute_result"
    }
   ],
   "source": [
    "df6=pd.read_csv(\"./notebookImgs/NC16_100_all.csv\")\n",
    "df6"
   ]
  },
  {
   "cell_type": "markdown",
   "metadata": {},
   "source": [
    "* Disclaimer\n",
    "\n",
    "This software was developed at the National Institute of Standards\n",
    "and Technology (NIST) by employees of the Federal Government in the\n",
    "course of their official duties. Pursuant to Title 17 Section 105\n",
    "of the United States Code, this software is not subject to copyright\n",
    "protection and is in the public domain. NIST assumes no responsibility\n",
    "whatsoever for use by other parties of its source code or open source\n",
    "server, and makes no guarantees, expressed or implied, about its quality,\n",
    "reliability, or any other characteristic.\n"
   ]
  }
 ],
 "metadata": {
  "anaconda-cloud": {},
  "kernelspec": {
   "display_name": "Python 3",
   "language": "python",
   "name": "python3"
  },
  "language_info": {
   "codemirror_mode": {
    "name": "ipython",
    "version": 3
   },
   "file_extension": ".py",
   "mimetype": "text/x-python",
   "name": "python",
   "nbconvert_exporter": "python",
   "pygments_lexer": "ipython3",
   "version": "3.5.2"
  }
 },
 "nbformat": 4,
 "nbformat_minor": 0
}
